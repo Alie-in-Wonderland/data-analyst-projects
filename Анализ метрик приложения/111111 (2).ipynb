{
 "cells": [
  {
   "cell_type": "markdown",
   "id": "cbd22911",
   "metadata": {},
   "source": [
    "[![a476357c4630d36f7c0c0aca8483037d.jpg](https://i.postimg.cc/y87ym9dX/a476357c4630d36f7c0c0aca8483037d.jpg)](https://postimg.cc/pp1jxmKp)"
   ]
  },
  {
   "cell_type": "code",
   "execution_count": null,
   "id": "669ab098",
   "metadata": {},
   "outputs": [],
   "source": []
  }
 ],
 "metadata": {
  "kernelspec": {
   "display_name": "Python 3 (ipykernel)",
   "language": "python",
   "name": "python3"
  },
  "language_info": {
   "codemirror_mode": {
    "name": "ipython",
    "version": 3
   },
   "file_extension": ".py",
   "mimetype": "text/x-python",
   "name": "python",
   "nbconvert_exporter": "python",
   "pygments_lexer": "ipython3",
   "version": "3.9.7"
  },
  "toc": {
   "base_numbering": 1,
   "nav_menu": {},
   "number_sections": true,
   "sideBar": true,
   "skip_h1_title": false,
   "title_cell": "Table of Contents",
   "title_sidebar": "Contents",
   "toc_cell": false,
   "toc_position": {},
   "toc_section_display": true,
   "toc_window_display": false
  }
 },
 "nbformat": 4,
 "nbformat_minor": 5
}
