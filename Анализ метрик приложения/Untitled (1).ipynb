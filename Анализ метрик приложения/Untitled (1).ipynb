{
 "cells": [
  {
   "cell_type": "markdown",
   "id": "14a3ed72",
   "metadata": {},
   "source": [
    "05366874-ceb0-452e-9ccc-2987ee67041d.jpg"
   ]
  },
  {
   "cell_type": "markdown",
   "id": "4f2b9bd7",
   "metadata": {},
   "source": [
    "![05366874-ceb0-452e-9ccc-2987ee67041d.jpg](attachment:05366874-ceb0-452e-9ccc-2987ee67041d.jpg)\n"
   ]
  },
  {
   "cell_type": "markdown",
   "id": "fef1b8a9",
   "metadata": {},
   "source": [
    "\n",
    "<img src=\"https://disk.yandex.ru/i/ZtczNRnIA_AGTg.png?raw=1\">"
   ]
  },
  {
   "cell_type": "markdown",
   "id": "d40a41a4",
   "metadata": {},
   "source": [
    "<img src=\"https://disk.yandex.ru/i/ZtczNRnIA_AGTg.png\">"
   ]
  },
  {
   "cell_type": "code",
   "execution_count": 1,
   "id": "fad428d4",
   "metadata": {},
   "outputs": [
    {
     "name": "stderr",
     "output_type": "stream",
     "text": [
      "\"[Untitled_%2833%29.png]\" ­Ґ пў«пҐвбп ў­гваҐ­­Ґ© Ё«Ё ў­Ґи­Ґ©\n",
      "Є®¬ ­¤®©, ЁбЇ®«­пҐ¬®© Їа®Ја ¬¬®© Ё«Ё Ї ЄҐв­л¬ д ©«®¬.\n"
     ]
    }
   ],
   "source": [
    "![Untitled_%2833%29.png](attachment:Untitled_%2833%29.png)"
   ]
  },
  {
   "cell_type": "code",
   "execution_count": 2,
   "id": "1b54f6d7",
   "metadata": {},
   "outputs": [
    {
     "data": {
      "text/html": [
       "<img src=\"https://disk.yandex.ru/i/ZtczNRnIA_AGTg.png\"/>"
      ],
      "text/plain": [
       "<IPython.core.display.Image object>"
      ]
     },
     "execution_count": 2,
     "metadata": {},
     "output_type": "execute_result"
    }
   ],
   "source": [
    "from IPython.display import Image\n",
    "\n",
    "Image(url='https://disk.yandex.ru/i/ZtczNRnIA_AGTg.png')"
   ]
  },
  {
   "cell_type": "code",
   "execution_count": 3,
   "id": "8ba23a25",
   "metadata": {},
   "outputs": [
    {
     "data": {
      "text/html": [
       "<img src=\"https://i.imgur.com/9tUv2h7.png\"/>"
      ],
      "text/plain": [
       "<IPython.core.display.Image object>"
      ]
     },
     "execution_count": 3,
     "metadata": {},
     "output_type": "execute_result"
    }
   ],
   "source": [
    "from IPython.display import Image\n",
    "\n",
    "Image(url='https://i.imgur.com/9tUv2h7.png')"
   ]
  },
  {
   "cell_type": "markdown",
   "id": "6ddbb88f",
   "metadata": {},
   "source": [
    "<img src=\"05366874-ceb0-452e-9ccc-2987ee67041d.jpg\" width=\"300\" height=\"200\">"
   ]
  },
  {
   "cell_type": "code",
   "execution_count": null,
   "id": "23dac701",
   "metadata": {},
   "outputs": [],
   "source": []
  }
 ],
 "metadata": {
  "kernelspec": {
   "display_name": "Python 3 (ipykernel)",
   "language": "python",
   "name": "python3"
  },
  "language_info": {
   "codemirror_mode": {
    "name": "ipython",
    "version": 3
   },
   "file_extension": ".py",
   "mimetype": "text/x-python",
   "name": "python",
   "nbconvert_exporter": "python",
   "pygments_lexer": "ipython3",
   "version": "3.9.7"
  },
  "toc": {
   "base_numbering": 1,
   "nav_menu": {},
   "number_sections": true,
   "sideBar": true,
   "skip_h1_title": false,
   "title_cell": "Table of Contents",
   "title_sidebar": "Contents",
   "toc_cell": false,
   "toc_position": {},
   "toc_section_display": true,
   "toc_window_display": false
  }
 },
 "nbformat": 4,
 "nbformat_minor": 5
}
