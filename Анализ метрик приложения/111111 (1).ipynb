{
 "cells": [
  {
   "cell_type": "markdown",
   "id": "40ae6766",
   "metadata": {},
   "source": [
    "<img src=\"05366874-ceb0-452e-9ccc-2987ee67041d.jpg\" width=\"300\" height=\"200\">"
   ]
  },
  {
   "cell_type": "markdown",
   "id": "4c8d7b9e",
   "metadata": {},
   "source": [
    "![05366874-ceb0-452e-9ccc-2987ee67041d.jpg](attachment:05366874-ceb0-452e-9ccc-2987ee67041d.jpg)"
   ]
  },
  {
   "cell_type": "markdown",
   "id": "8128ddaf",
   "metadata": {},
   "source": [
    "\n",
    "<img src=\"https://disk.yandex.ru/i/ZtczNRnIA_AGTg.png?raw=1\">"
   ]
  },
  {
   "cell_type": "markdown",
   "id": "e898e825",
   "metadata": {},
   "source": [
    "\n",
    "<img src=\"https://disk.yandex.ru/i/ZtczNRnIA_AGTg.png?raw=1\">"
   ]
  },
  {
   "cell_type": "markdown",
   "id": "a33f9c84",
   "metadata": {},
   "source": [
    "![a476357c4630d36f7c0c0aca8483037d.jpg](attachment:a476357c4630d36f7c0c0aca8483037d.jpg)"
   ]
  },
  {
   "cell_type": "markdown",
   "id": "9ab78bc3",
   "metadata": {},
   "source": [
    "![Пример изображения](\n",
    "https://disk.yandex.ru/i/ZtczNRnIA_AGTg.png)"
   ]
  },
  {
   "cell_type": "markdown",
   "id": "db8e4eec",
   "metadata": {},
   "source": [
    "![Пример изображения](https://disk.yandex.ru/i/ZtczNRnIA_AGTg.png)"
   ]
  },
  {
   "cell_type": "markdown",
   "id": "7b5171d2",
   "metadata": {},
   "source": [
    "[![a476357c4630d36f7c0c0aca8483037d.jpg](https://i.postimg.cc/y87ym9dX/a476357c4630d36f7c0c0aca8483037d.jpg)](https://postimg.cc/pp1jxmKp)"
   ]
  },
  {
   "cell_type": "code",
   "execution_count": null,
   "id": "6c3f8a2d",
   "metadata": {},
   "outputs": [],
   "source": []
  }
 ],
 "metadata": {
  "kernelspec": {
   "display_name": "Python 3 (ipykernel)",
   "language": "python",
   "name": "python3"
  },
  "language_info": {
   "codemirror_mode": {
    "name": "ipython",
    "version": 3
   },
   "file_extension": ".py",
   "mimetype": "text/x-python",
   "name": "python",
   "nbconvert_exporter": "python",
   "pygments_lexer": "ipython3",
   "version": "3.9.7"
  },
  "toc": {
   "base_numbering": 1,
   "nav_menu": {},
   "number_sections": true,
   "sideBar": true,
   "skip_h1_title": false,
   "title_cell": "Table of Contents",
   "title_sidebar": "Contents",
   "toc_cell": false,
   "toc_position": {},
   "toc_section_display": true,
   "toc_window_display": false
  }
 },
 "nbformat": 4,
 "nbformat_minor": 5
}
