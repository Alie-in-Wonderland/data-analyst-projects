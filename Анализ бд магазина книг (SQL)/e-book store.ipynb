{
 "cells": [
  {
   "cell_type": "markdown",
   "id": "7c46cf54",
   "metadata": {},
   "source": [
    "# Анализ базы данных магазина электронных книг (SQL) "
   ]
  },
  {
   "cell_type": "markdown",
   "id": "e0183769",
   "metadata": {},
   "source": [
    "**Цель проекта**: проанализировать базу данных магазина электронных книг, которая содержит информацию о книгах, издательствах, авторах, а также пользовательских обзорах книг. Эти данные помогут сформулировать ценностное предложение для новых продуктов магазина.\n",
    "\n",
    "**Задачи**:\n",
    "\n",
    "- Посчитать, сколько книг вышло после 1 января 2000 года;\n",
    "- Для каждой книги посчитать количество обзоров и среднюю оценку;\n",
    "- Определить издательство, которое выпустило наибольшее число книг толще 50 страниц, так мы исключим из анализа брошюры;\n",
    "- Определить автора с самой высокой средней оценкой книг среди книг с 50 и более оценками;\n",
    "- Посчитать среднее количество обзоров от пользователей, которые поставили больше 50 оценок.\n",
    "\n",
    "**Схема базы данных**:"
   ]
  },
  {
   "cell_type": "markdown",
   "id": "0f0df0df",
   "metadata": {},
   "source": [
    "[![image.png](https://i.postimg.cc/mrbZcWX2/image.png)](https://postimg.cc/WdHcKCcQ)"
   ]
  },
  {
   "cell_type": "markdown",
   "id": "7b83ed6d",
   "metadata": {},
   "source": [
    "**Описание данных**:\n",
    "\n",
    "**Таблица `books`**\n",
    "\n",
    "Содержит данные о книгах:\n",
    "\n",
    "- `book_id` — идентификатор книги;\n",
    "- `author_id` — идентификатор автора;\n",
    "- `title` — название книги;\n",
    "- `num_pages` — количество страниц;\n",
    "- `publication_date` — дата публикации книги;\n",
    "- `publisher_id` — идентификатор издателя.\n",
    "\n",
    "**Таблица `authors`**\n",
    "\n",
    "Содержит данные об авторах:\n",
    "\n",
    "- `author_id` — идентификатор автора;\n",
    "- `author` — имя автора.\n",
    "\n",
    "**Таблица `publishers`**\n",
    "\n",
    "Содержит данные об издательствах:\n",
    "\n",
    "- `publisher_id` — идентификатор издательства;\n",
    "- `publisher` — название издательства;\n",
    "\n",
    "**Таблица `ratings`**\n",
    "\n",
    "Содержит данные о пользовательских оценках книг:\n",
    "\n",
    "- `rating_id` — идентификатор оценки;\n",
    "- `book_id` — идентификатор книги;\n",
    "- `username` — имя пользователя, оставившего оценку;\n",
    "- `rating` — оценка книги.\n",
    "\n",
    "**Таблица `reviews`**\n",
    "\n",
    "Содержит данные о пользовательских обзорах на книги:\n",
    "\n",
    "- `review_id` — идентификатор обзора;\n",
    "- `book_id` — идентификатор книги;\n",
    "- `username` — имя пользователя, написавшего обзор;\n",
    "- `text` — текст обзора."
   ]
  },
  {
   "cell_type": "markdown",
   "id": "b2ec63ce",
   "metadata": {},
   "source": [
    "## Загрузка данных"
   ]
  },
  {
   "cell_type": "markdown",
   "id": "d64f93b6",
   "metadata": {},
   "source": [
    "Загружаем библиотеки, подключаемся к бд:"
   ]
  },
  {
   "cell_type": "code",
   "execution_count": 1,
   "id": "3001bd55",
   "metadata": {},
   "outputs": [],
   "source": [
    "# импортируем библиотеки\n",
    "import pandas as pd\n",
    "from sqlalchemy import create_engine\n",
    "# устанавливаем параметры\n",
    "db_config = {'user': 'praktikum_student', # имя пользователя\n",
    "'pwd': 'Sdf4$2;d-d30pp', # пароль\n",
    "'host': 'rc1b-wcoijxj3yxfsf3fs.mdb.yandexcloud.net',\n",
    "'port': 6432, # порт подключения\n",
    "'db': 'data-analyst-final-project-db'} # название базы данных\n",
    "connection_string = 'postgresql://{}:{}@{}:{}/{}'.format(db_config['user'],\n",
    " db_config['pwd'],\n",
    " db_config['host'],\n",
    " db_config['port'],\n",
    " db_config['db'])\n",
    "# сохраняем коннектор\n",
    "engine = create_engine(connection_string, connect_args={'sslmode':'require'})"
   ]
  },
  {
   "cell_type": "code",
   "execution_count": 2,
   "id": "297b1b7b",
   "metadata": {},
   "outputs": [],
   "source": [
    "books = pd.io.sql.read_sql('SELECT * FROM books', con = engine) \n",
    "authors = pd.io.sql.read_sql('SELECT * FROM authors', con = engine) \n",
    "publishers = pd.io.sql.read_sql('SELECT * FROM publishers', con = engine) \n",
    "ratings = pd.io.sql.read_sql('SELECT * FROM ratings', con = engine) \n",
    "reviews = pd.io.sql.read_sql('SELECT * FROM reviews', con = engine) "
   ]
  },
  {
   "cell_type": "markdown",
   "id": "bba4d0ee",
   "metadata": {},
   "source": [
    "Библиотеки и файлы загружены, далее ознакомимся с файлами.\n",
    "\n",
    "Задаем функцию для исследования датасетов:"
   ]
  },
  {
   "cell_type": "code",
   "execution_count": 3,
   "id": "138ae72f",
   "metadata": {},
   "outputs": [],
   "source": [
    "# функция для первичного изучения датафреймов:\n",
    "\n",
    "def information_about_df (df: pd.DataFrame, limit_na_category: int = 10 ) -> None:\n",
    "    print('Вывод шапки таблицы:')\n",
    "    display(df.head())\n",
    "    print('-'*40)\n",
    "    print('Вывод общей информации:')\n",
    "    print('')\n",
    "    print(df.info())\n",
    "    print('-'*40)\n",
    "    print('Количество пропусков в данных:')\n",
    "    print('')\n",
    "    count = 0\n",
    "    shape_0 = df.shape[0]\n",
    "    for element in df.columns:\n",
    "        if df[element].isna().sum()>0:\n",
    "            print(element, ' - ', df[element].isna().sum(), 'пропусков, ', round(df[element].isna().sum()*100 / shape_0,2), '% от числа строк.')\n",
    "            count = +1\n",
    "        if count == 0:\n",
    "            print(element,'- пропусков НЕТ')   \n",
    "    print('-'*40)\n",
    "    print('Количество дубликатов в данных:')\n",
    "    print('')\n",
    "    if df.duplicated().sum() >0:\n",
    "        print('Дубликатов:', df.duplicated().sum())\n",
    "    else:\n",
    "        print('Дубликатов НЕ найдено')"
   ]
  },
  {
   "cell_type": "markdown",
   "id": "3b2756cf",
   "metadata": {},
   "source": [
    "### Файл \"books\""
   ]
  },
  {
   "cell_type": "markdown",
   "id": "778ef583",
   "metadata": {},
   "source": [
    "Изучим файл \"books\":"
   ]
  },
  {
   "cell_type": "code",
   "execution_count": 4,
   "id": "c96ff3fc",
   "metadata": {},
   "outputs": [
    {
     "name": "stdout",
     "output_type": "stream",
     "text": [
      "Вывод шапки таблицы:\n"
     ]
    },
    {
     "data": {
      "text/html": [
       "<div>\n",
       "<style scoped>\n",
       "    .dataframe tbody tr th:only-of-type {\n",
       "        vertical-align: middle;\n",
       "    }\n",
       "\n",
       "    .dataframe tbody tr th {\n",
       "        vertical-align: top;\n",
       "    }\n",
       "\n",
       "    .dataframe thead th {\n",
       "        text-align: right;\n",
       "    }\n",
       "</style>\n",
       "<table border=\"1\" class=\"dataframe\">\n",
       "  <thead>\n",
       "    <tr style=\"text-align: right;\">\n",
       "      <th></th>\n",
       "      <th>book_id</th>\n",
       "      <th>author_id</th>\n",
       "      <th>title</th>\n",
       "      <th>num_pages</th>\n",
       "      <th>publication_date</th>\n",
       "      <th>publisher_id</th>\n",
       "    </tr>\n",
       "  </thead>\n",
       "  <tbody>\n",
       "    <tr>\n",
       "      <th>0</th>\n",
       "      <td>1</td>\n",
       "      <td>546</td>\n",
       "      <td>'Salem's Lot</td>\n",
       "      <td>594</td>\n",
       "      <td>2005-11-01</td>\n",
       "      <td>93</td>\n",
       "    </tr>\n",
       "    <tr>\n",
       "      <th>1</th>\n",
       "      <td>2</td>\n",
       "      <td>465</td>\n",
       "      <td>1 000 Places to See Before You Die</td>\n",
       "      <td>992</td>\n",
       "      <td>2003-05-22</td>\n",
       "      <td>336</td>\n",
       "    </tr>\n",
       "    <tr>\n",
       "      <th>2</th>\n",
       "      <td>3</td>\n",
       "      <td>407</td>\n",
       "      <td>13 Little Blue Envelopes (Little Blue Envelope...</td>\n",
       "      <td>322</td>\n",
       "      <td>2010-12-21</td>\n",
       "      <td>135</td>\n",
       "    </tr>\n",
       "    <tr>\n",
       "      <th>3</th>\n",
       "      <td>4</td>\n",
       "      <td>82</td>\n",
       "      <td>1491: New Revelations of the Americas Before C...</td>\n",
       "      <td>541</td>\n",
       "      <td>2006-10-10</td>\n",
       "      <td>309</td>\n",
       "    </tr>\n",
       "    <tr>\n",
       "      <th>4</th>\n",
       "      <td>5</td>\n",
       "      <td>125</td>\n",
       "      <td>1776</td>\n",
       "      <td>386</td>\n",
       "      <td>2006-07-04</td>\n",
       "      <td>268</td>\n",
       "    </tr>\n",
       "  </tbody>\n",
       "</table>\n",
       "</div>"
      ],
      "text/plain": [
       "   book_id  author_id                                              title  \\\n",
       "0        1        546                                       'Salem's Lot   \n",
       "1        2        465                 1 000 Places to See Before You Die   \n",
       "2        3        407  13 Little Blue Envelopes (Little Blue Envelope...   \n",
       "3        4         82  1491: New Revelations of the Americas Before C...   \n",
       "4        5        125                                               1776   \n",
       "\n",
       "   num_pages publication_date  publisher_id  \n",
       "0        594       2005-11-01            93  \n",
       "1        992       2003-05-22           336  \n",
       "2        322       2010-12-21           135  \n",
       "3        541       2006-10-10           309  \n",
       "4        386       2006-07-04           268  "
      ]
     },
     "metadata": {},
     "output_type": "display_data"
    },
    {
     "name": "stdout",
     "output_type": "stream",
     "text": [
      "----------------------------------------\n",
      "Вывод общей информации:\n",
      "\n",
      "<class 'pandas.core.frame.DataFrame'>\n",
      "RangeIndex: 1000 entries, 0 to 999\n",
      "Data columns (total 6 columns):\n",
      " #   Column            Non-Null Count  Dtype \n",
      "---  ------            --------------  ----- \n",
      " 0   book_id           1000 non-null   int64 \n",
      " 1   author_id         1000 non-null   int64 \n",
      " 2   title             1000 non-null   object\n",
      " 3   num_pages         1000 non-null   int64 \n",
      " 4   publication_date  1000 non-null   object\n",
      " 5   publisher_id      1000 non-null   int64 \n",
      "dtypes: int64(4), object(2)\n",
      "memory usage: 47.0+ KB\n",
      "None\n",
      "----------------------------------------\n",
      "Количество пропусков в данных:\n",
      "\n",
      "book_id - пропусков НЕТ\n",
      "author_id - пропусков НЕТ\n",
      "title - пропусков НЕТ\n",
      "num_pages - пропусков НЕТ\n",
      "publication_date - пропусков НЕТ\n",
      "publisher_id - пропусков НЕТ\n",
      "----------------------------------------\n",
      "Количество дубликатов в данных:\n",
      "\n",
      "Дубликатов НЕ найдено\n"
     ]
    }
   ],
   "source": [
    "information_about_df(books)"
   ]
  },
  {
   "cell_type": "markdown",
   "id": "4386f06c",
   "metadata": {},
   "source": [
    "Пропусков и дубликатов в данных нет."
   ]
  },
  {
   "cell_type": "markdown",
   "id": "ff608ea2",
   "metadata": {},
   "source": [
    " ### Файл \"authors\""
   ]
  },
  {
   "cell_type": "markdown",
   "id": "c317f7f2",
   "metadata": {},
   "source": [
    "Изучим файл \"authors\":"
   ]
  },
  {
   "cell_type": "code",
   "execution_count": 5,
   "id": "fd50a6d5",
   "metadata": {},
   "outputs": [
    {
     "name": "stdout",
     "output_type": "stream",
     "text": [
      "Вывод шапки таблицы:\n"
     ]
    },
    {
     "data": {
      "text/html": [
       "<div>\n",
       "<style scoped>\n",
       "    .dataframe tbody tr th:only-of-type {\n",
       "        vertical-align: middle;\n",
       "    }\n",
       "\n",
       "    .dataframe tbody tr th {\n",
       "        vertical-align: top;\n",
       "    }\n",
       "\n",
       "    .dataframe thead th {\n",
       "        text-align: right;\n",
       "    }\n",
       "</style>\n",
       "<table border=\"1\" class=\"dataframe\">\n",
       "  <thead>\n",
       "    <tr style=\"text-align: right;\">\n",
       "      <th></th>\n",
       "      <th>author_id</th>\n",
       "      <th>author</th>\n",
       "    </tr>\n",
       "  </thead>\n",
       "  <tbody>\n",
       "    <tr>\n",
       "      <th>0</th>\n",
       "      <td>1</td>\n",
       "      <td>A.S. Byatt</td>\n",
       "    </tr>\n",
       "    <tr>\n",
       "      <th>1</th>\n",
       "      <td>2</td>\n",
       "      <td>Aesop/Laura Harris/Laura Gibbs</td>\n",
       "    </tr>\n",
       "    <tr>\n",
       "      <th>2</th>\n",
       "      <td>3</td>\n",
       "      <td>Agatha Christie</td>\n",
       "    </tr>\n",
       "    <tr>\n",
       "      <th>3</th>\n",
       "      <td>4</td>\n",
       "      <td>Alan Brennert</td>\n",
       "    </tr>\n",
       "    <tr>\n",
       "      <th>4</th>\n",
       "      <td>5</td>\n",
       "      <td>Alan Moore/David   Lloyd</td>\n",
       "    </tr>\n",
       "  </tbody>\n",
       "</table>\n",
       "</div>"
      ],
      "text/plain": [
       "   author_id                          author\n",
       "0          1                      A.S. Byatt\n",
       "1          2  Aesop/Laura Harris/Laura Gibbs\n",
       "2          3                 Agatha Christie\n",
       "3          4                   Alan Brennert\n",
       "4          5        Alan Moore/David   Lloyd"
      ]
     },
     "metadata": {},
     "output_type": "display_data"
    },
    {
     "name": "stdout",
     "output_type": "stream",
     "text": [
      "----------------------------------------\n",
      "Вывод общей информации:\n",
      "\n",
      "<class 'pandas.core.frame.DataFrame'>\n",
      "RangeIndex: 636 entries, 0 to 635\n",
      "Data columns (total 2 columns):\n",
      " #   Column     Non-Null Count  Dtype \n",
      "---  ------     --------------  ----- \n",
      " 0   author_id  636 non-null    int64 \n",
      " 1   author     636 non-null    object\n",
      "dtypes: int64(1), object(1)\n",
      "memory usage: 10.1+ KB\n",
      "None\n",
      "----------------------------------------\n",
      "Количество пропусков в данных:\n",
      "\n",
      "author_id - пропусков НЕТ\n",
      "author - пропусков НЕТ\n",
      "----------------------------------------\n",
      "Количество дубликатов в данных:\n",
      "\n",
      "Дубликатов НЕ найдено\n"
     ]
    }
   ],
   "source": [
    "information_about_df(authors)"
   ]
  },
  {
   "cell_type": "markdown",
   "id": "35b96e7b",
   "metadata": {},
   "source": [
    "Пропусков и дубликатов в данных нет."
   ]
  },
  {
   "cell_type": "markdown",
   "id": "85bb06d7",
   "metadata": {},
   "source": [
    "### Файл \"publishers\""
   ]
  },
  {
   "cell_type": "markdown",
   "id": "e929e372",
   "metadata": {},
   "source": [
    "Изучим файл \"publishers\":"
   ]
  },
  {
   "cell_type": "code",
   "execution_count": 6,
   "id": "6c34d630",
   "metadata": {},
   "outputs": [
    {
     "name": "stdout",
     "output_type": "stream",
     "text": [
      "Вывод шапки таблицы:\n"
     ]
    },
    {
     "data": {
      "text/html": [
       "<div>\n",
       "<style scoped>\n",
       "    .dataframe tbody tr th:only-of-type {\n",
       "        vertical-align: middle;\n",
       "    }\n",
       "\n",
       "    .dataframe tbody tr th {\n",
       "        vertical-align: top;\n",
       "    }\n",
       "\n",
       "    .dataframe thead th {\n",
       "        text-align: right;\n",
       "    }\n",
       "</style>\n",
       "<table border=\"1\" class=\"dataframe\">\n",
       "  <thead>\n",
       "    <tr style=\"text-align: right;\">\n",
       "      <th></th>\n",
       "      <th>publisher_id</th>\n",
       "      <th>publisher</th>\n",
       "    </tr>\n",
       "  </thead>\n",
       "  <tbody>\n",
       "    <tr>\n",
       "      <th>0</th>\n",
       "      <td>1</td>\n",
       "      <td>Ace</td>\n",
       "    </tr>\n",
       "    <tr>\n",
       "      <th>1</th>\n",
       "      <td>2</td>\n",
       "      <td>Ace Book</td>\n",
       "    </tr>\n",
       "    <tr>\n",
       "      <th>2</th>\n",
       "      <td>3</td>\n",
       "      <td>Ace Books</td>\n",
       "    </tr>\n",
       "    <tr>\n",
       "      <th>3</th>\n",
       "      <td>4</td>\n",
       "      <td>Ace Hardcover</td>\n",
       "    </tr>\n",
       "    <tr>\n",
       "      <th>4</th>\n",
       "      <td>5</td>\n",
       "      <td>Addison Wesley Publishing Company</td>\n",
       "    </tr>\n",
       "  </tbody>\n",
       "</table>\n",
       "</div>"
      ],
      "text/plain": [
       "   publisher_id                          publisher\n",
       "0             1                                Ace\n",
       "1             2                           Ace Book\n",
       "2             3                          Ace Books\n",
       "3             4                      Ace Hardcover\n",
       "4             5  Addison Wesley Publishing Company"
      ]
     },
     "metadata": {},
     "output_type": "display_data"
    },
    {
     "name": "stdout",
     "output_type": "stream",
     "text": [
      "----------------------------------------\n",
      "Вывод общей информации:\n",
      "\n",
      "<class 'pandas.core.frame.DataFrame'>\n",
      "RangeIndex: 340 entries, 0 to 339\n",
      "Data columns (total 2 columns):\n",
      " #   Column        Non-Null Count  Dtype \n",
      "---  ------        --------------  ----- \n",
      " 0   publisher_id  340 non-null    int64 \n",
      " 1   publisher     340 non-null    object\n",
      "dtypes: int64(1), object(1)\n",
      "memory usage: 5.4+ KB\n",
      "None\n",
      "----------------------------------------\n",
      "Количество пропусков в данных:\n",
      "\n",
      "publisher_id - пропусков НЕТ\n",
      "publisher - пропусков НЕТ\n",
      "----------------------------------------\n",
      "Количество дубликатов в данных:\n",
      "\n",
      "Дубликатов НЕ найдено\n"
     ]
    }
   ],
   "source": [
    "information_about_df(publishers)"
   ]
  },
  {
   "cell_type": "markdown",
   "id": "cfcd1160",
   "metadata": {},
   "source": [
    "Пропусков и дубликатов в данных нет."
   ]
  },
  {
   "cell_type": "markdown",
   "id": "acb1f4bb",
   "metadata": {},
   "source": [
    "### Файл \"ratings\""
   ]
  },
  {
   "cell_type": "markdown",
   "id": "3be53d31",
   "metadata": {},
   "source": [
    "Изучим файл \"ratings\":"
   ]
  },
  {
   "cell_type": "code",
   "execution_count": 7,
   "id": "977d4c91",
   "metadata": {},
   "outputs": [
    {
     "name": "stdout",
     "output_type": "stream",
     "text": [
      "Вывод шапки таблицы:\n"
     ]
    },
    {
     "data": {
      "text/html": [
       "<div>\n",
       "<style scoped>\n",
       "    .dataframe tbody tr th:only-of-type {\n",
       "        vertical-align: middle;\n",
       "    }\n",
       "\n",
       "    .dataframe tbody tr th {\n",
       "        vertical-align: top;\n",
       "    }\n",
       "\n",
       "    .dataframe thead th {\n",
       "        text-align: right;\n",
       "    }\n",
       "</style>\n",
       "<table border=\"1\" class=\"dataframe\">\n",
       "  <thead>\n",
       "    <tr style=\"text-align: right;\">\n",
       "      <th></th>\n",
       "      <th>rating_id</th>\n",
       "      <th>book_id</th>\n",
       "      <th>username</th>\n",
       "      <th>rating</th>\n",
       "    </tr>\n",
       "  </thead>\n",
       "  <tbody>\n",
       "    <tr>\n",
       "      <th>0</th>\n",
       "      <td>1</td>\n",
       "      <td>1</td>\n",
       "      <td>ryanfranco</td>\n",
       "      <td>4</td>\n",
       "    </tr>\n",
       "    <tr>\n",
       "      <th>1</th>\n",
       "      <td>2</td>\n",
       "      <td>1</td>\n",
       "      <td>grantpatricia</td>\n",
       "      <td>2</td>\n",
       "    </tr>\n",
       "    <tr>\n",
       "      <th>2</th>\n",
       "      <td>3</td>\n",
       "      <td>1</td>\n",
       "      <td>brandtandrea</td>\n",
       "      <td>5</td>\n",
       "    </tr>\n",
       "    <tr>\n",
       "      <th>3</th>\n",
       "      <td>4</td>\n",
       "      <td>2</td>\n",
       "      <td>lorichen</td>\n",
       "      <td>3</td>\n",
       "    </tr>\n",
       "    <tr>\n",
       "      <th>4</th>\n",
       "      <td>5</td>\n",
       "      <td>2</td>\n",
       "      <td>mariokeller</td>\n",
       "      <td>2</td>\n",
       "    </tr>\n",
       "  </tbody>\n",
       "</table>\n",
       "</div>"
      ],
      "text/plain": [
       "   rating_id  book_id       username  rating\n",
       "0          1        1     ryanfranco       4\n",
       "1          2        1  grantpatricia       2\n",
       "2          3        1   brandtandrea       5\n",
       "3          4        2       lorichen       3\n",
       "4          5        2    mariokeller       2"
      ]
     },
     "metadata": {},
     "output_type": "display_data"
    },
    {
     "name": "stdout",
     "output_type": "stream",
     "text": [
      "----------------------------------------\n",
      "Вывод общей информации:\n",
      "\n",
      "<class 'pandas.core.frame.DataFrame'>\n",
      "RangeIndex: 6456 entries, 0 to 6455\n",
      "Data columns (total 4 columns):\n",
      " #   Column     Non-Null Count  Dtype \n",
      "---  ------     --------------  ----- \n",
      " 0   rating_id  6456 non-null   int64 \n",
      " 1   book_id    6456 non-null   int64 \n",
      " 2   username   6456 non-null   object\n",
      " 3   rating     6456 non-null   int64 \n",
      "dtypes: int64(3), object(1)\n",
      "memory usage: 201.9+ KB\n",
      "None\n",
      "----------------------------------------\n",
      "Количество пропусков в данных:\n",
      "\n",
      "rating_id - пропусков НЕТ\n",
      "book_id - пропусков НЕТ\n",
      "username - пропусков НЕТ\n",
      "rating - пропусков НЕТ\n",
      "----------------------------------------\n",
      "Количество дубликатов в данных:\n",
      "\n",
      "Дубликатов НЕ найдено\n"
     ]
    }
   ],
   "source": [
    "information_about_df(ratings)"
   ]
  },
  {
   "cell_type": "markdown",
   "id": "f51f6d3b",
   "metadata": {},
   "source": [
    "Пропусков и дубликатов в данных нет."
   ]
  },
  {
   "cell_type": "markdown",
   "id": "823822e5",
   "metadata": {},
   "source": [
    "### Файл \"reviews\""
   ]
  },
  {
   "cell_type": "markdown",
   "id": "9efcf950",
   "metadata": {},
   "source": [
    "Изучим файл \"reviews\":"
   ]
  },
  {
   "cell_type": "code",
   "execution_count": 8,
   "id": "9704d9a5",
   "metadata": {},
   "outputs": [
    {
     "name": "stdout",
     "output_type": "stream",
     "text": [
      "Вывод шапки таблицы:\n"
     ]
    },
    {
     "data": {
      "text/html": [
       "<div>\n",
       "<style scoped>\n",
       "    .dataframe tbody tr th:only-of-type {\n",
       "        vertical-align: middle;\n",
       "    }\n",
       "\n",
       "    .dataframe tbody tr th {\n",
       "        vertical-align: top;\n",
       "    }\n",
       "\n",
       "    .dataframe thead th {\n",
       "        text-align: right;\n",
       "    }\n",
       "</style>\n",
       "<table border=\"1\" class=\"dataframe\">\n",
       "  <thead>\n",
       "    <tr style=\"text-align: right;\">\n",
       "      <th></th>\n",
       "      <th>review_id</th>\n",
       "      <th>book_id</th>\n",
       "      <th>username</th>\n",
       "      <th>text</th>\n",
       "    </tr>\n",
       "  </thead>\n",
       "  <tbody>\n",
       "    <tr>\n",
       "      <th>0</th>\n",
       "      <td>1</td>\n",
       "      <td>1</td>\n",
       "      <td>brandtandrea</td>\n",
       "      <td>Mention society tell send professor analysis. ...</td>\n",
       "    </tr>\n",
       "    <tr>\n",
       "      <th>1</th>\n",
       "      <td>2</td>\n",
       "      <td>1</td>\n",
       "      <td>ryanfranco</td>\n",
       "      <td>Foot glass pretty audience hit themselves. Amo...</td>\n",
       "    </tr>\n",
       "    <tr>\n",
       "      <th>2</th>\n",
       "      <td>3</td>\n",
       "      <td>2</td>\n",
       "      <td>lorichen</td>\n",
       "      <td>Listen treat keep worry. Miss husband tax but ...</td>\n",
       "    </tr>\n",
       "    <tr>\n",
       "      <th>3</th>\n",
       "      <td>4</td>\n",
       "      <td>3</td>\n",
       "      <td>johnsonamanda</td>\n",
       "      <td>Finally month interesting blue could nature cu...</td>\n",
       "    </tr>\n",
       "    <tr>\n",
       "      <th>4</th>\n",
       "      <td>5</td>\n",
       "      <td>3</td>\n",
       "      <td>scotttamara</td>\n",
       "      <td>Nation purpose heavy give wait song will. List...</td>\n",
       "    </tr>\n",
       "  </tbody>\n",
       "</table>\n",
       "</div>"
      ],
      "text/plain": [
       "   review_id  book_id       username  \\\n",
       "0          1        1   brandtandrea   \n",
       "1          2        1     ryanfranco   \n",
       "2          3        2       lorichen   \n",
       "3          4        3  johnsonamanda   \n",
       "4          5        3    scotttamara   \n",
       "\n",
       "                                                text  \n",
       "0  Mention society tell send professor analysis. ...  \n",
       "1  Foot glass pretty audience hit themselves. Amo...  \n",
       "2  Listen treat keep worry. Miss husband tax but ...  \n",
       "3  Finally month interesting blue could nature cu...  \n",
       "4  Nation purpose heavy give wait song will. List...  "
      ]
     },
     "metadata": {},
     "output_type": "display_data"
    },
    {
     "name": "stdout",
     "output_type": "stream",
     "text": [
      "----------------------------------------\n",
      "Вывод общей информации:\n",
      "\n",
      "<class 'pandas.core.frame.DataFrame'>\n",
      "RangeIndex: 2793 entries, 0 to 2792\n",
      "Data columns (total 4 columns):\n",
      " #   Column     Non-Null Count  Dtype \n",
      "---  ------     --------------  ----- \n",
      " 0   review_id  2793 non-null   int64 \n",
      " 1   book_id    2793 non-null   int64 \n",
      " 2   username   2793 non-null   object\n",
      " 3   text       2793 non-null   object\n",
      "dtypes: int64(2), object(2)\n",
      "memory usage: 87.4+ KB\n",
      "None\n",
      "----------------------------------------\n",
      "Количество пропусков в данных:\n",
      "\n",
      "review_id - пропусков НЕТ\n",
      "book_id - пропусков НЕТ\n",
      "username - пропусков НЕТ\n",
      "text - пропусков НЕТ\n",
      "----------------------------------------\n",
      "Количество дубликатов в данных:\n",
      "\n",
      "Дубликатов НЕ найдено\n"
     ]
    }
   ],
   "source": [
    "information_about_df(reviews)"
   ]
  },
  {
   "cell_type": "markdown",
   "id": "357c5c0d",
   "metadata": {},
   "source": [
    "Пропусков и дубликатов в данных нет."
   ]
  },
  {
   "cell_type": "markdown",
   "id": "5473cdec",
   "metadata": {},
   "source": [
    "Переходим к задачам по ТЗ."
   ]
  },
  {
   "cell_type": "markdown",
   "id": "746d9907",
   "metadata": {},
   "source": [
    "## Задача 1"
   ]
  },
  {
   "cell_type": "markdown",
   "id": "02653119",
   "metadata": {},
   "source": [
    "Посчитаем, сколько книг вышло после 1 января 2000 года:"
   ]
  },
  {
   "cell_type": "code",
   "execution_count": 9,
   "id": "f6bf7fea",
   "metadata": {},
   "outputs": [
    {
     "data": {
      "text/html": [
       "<div>\n",
       "<style scoped>\n",
       "    .dataframe tbody tr th:only-of-type {\n",
       "        vertical-align: middle;\n",
       "    }\n",
       "\n",
       "    .dataframe tbody tr th {\n",
       "        vertical-align: top;\n",
       "    }\n",
       "\n",
       "    .dataframe thead th {\n",
       "        text-align: right;\n",
       "    }\n",
       "</style>\n",
       "<table border=\"1\" class=\"dataframe\">\n",
       "  <thead>\n",
       "    <tr style=\"text-align: right;\">\n",
       "      <th></th>\n",
       "      <th>book_count</th>\n",
       "    </tr>\n",
       "  </thead>\n",
       "  <tbody>\n",
       "    <tr>\n",
       "      <th>0</th>\n",
       "      <td>819</td>\n",
       "    </tr>\n",
       "  </tbody>\n",
       "</table>\n",
       "</div>"
      ],
      "text/plain": [
       "   book_count\n",
       "0         819"
      ]
     },
     "execution_count": 9,
     "metadata": {},
     "output_type": "execute_result"
    }
   ],
   "source": [
    "query = '''\n",
    "\n",
    "SELECT COUNT(book_id) as book_count\n",
    "FROM books\n",
    "WHERE publication_date > '2000-01-01'\n",
    "\n",
    "'''\n",
    "\n",
    "pd.io.sql.read_sql(query, con = engine)"
   ]
  },
  {
   "cell_type": "markdown",
   "id": "9dc7c291",
   "metadata": {},
   "source": [
    "После 1 января 2000 года вышло 819 книг."
   ]
  },
  {
   "cell_type": "markdown",
   "id": "a3816641",
   "metadata": {},
   "source": [
    "## Задача 2"
   ]
  },
  {
   "cell_type": "markdown",
   "id": "e46ede34",
   "metadata": {},
   "source": [
    "Для каждой книги посчитаем количество обзоров и среднюю оценку:"
   ]
  },
  {
   "cell_type": "code",
   "execution_count": 10,
   "id": "3049c0e2",
   "metadata": {
    "scrolled": false
   },
   "outputs": [
    {
     "data": {
      "text/html": [
       "<div>\n",
       "<style scoped>\n",
       "    .dataframe tbody tr th:only-of-type {\n",
       "        vertical-align: middle;\n",
       "    }\n",
       "\n",
       "    .dataframe tbody tr th {\n",
       "        vertical-align: top;\n",
       "    }\n",
       "\n",
       "    .dataframe thead th {\n",
       "        text-align: right;\n",
       "    }\n",
       "</style>\n",
       "<table border=\"1\" class=\"dataframe\">\n",
       "  <thead>\n",
       "    <tr style=\"text-align: right;\">\n",
       "      <th></th>\n",
       "      <th>book_id</th>\n",
       "      <th>title</th>\n",
       "      <th>reviews_count</th>\n",
       "      <th>avg_rating</th>\n",
       "    </tr>\n",
       "  </thead>\n",
       "  <tbody>\n",
       "    <tr>\n",
       "      <th>0</th>\n",
       "      <td>948</td>\n",
       "      <td>Twilight (Twilight  #1)</td>\n",
       "      <td>7</td>\n",
       "      <td>3.663</td>\n",
       "    </tr>\n",
       "    <tr>\n",
       "      <th>1</th>\n",
       "      <td>963</td>\n",
       "      <td>Water for Elephants</td>\n",
       "      <td>6</td>\n",
       "      <td>3.977</td>\n",
       "    </tr>\n",
       "    <tr>\n",
       "      <th>2</th>\n",
       "      <td>734</td>\n",
       "      <td>The Glass Castle</td>\n",
       "      <td>6</td>\n",
       "      <td>4.207</td>\n",
       "    </tr>\n",
       "    <tr>\n",
       "      <th>3</th>\n",
       "      <td>302</td>\n",
       "      <td>Harry Potter and the Prisoner of Azkaban (Harr...</td>\n",
       "      <td>6</td>\n",
       "      <td>4.415</td>\n",
       "    </tr>\n",
       "    <tr>\n",
       "      <th>4</th>\n",
       "      <td>695</td>\n",
       "      <td>The Curious Incident of the Dog in the Night-Time</td>\n",
       "      <td>6</td>\n",
       "      <td>4.081</td>\n",
       "    </tr>\n",
       "    <tr>\n",
       "      <th>...</th>\n",
       "      <td>...</td>\n",
       "      <td>...</td>\n",
       "      <td>...</td>\n",
       "      <td>...</td>\n",
       "    </tr>\n",
       "    <tr>\n",
       "      <th>995</th>\n",
       "      <td>83</td>\n",
       "      <td>Anne Rice's The Vampire Lestat: A Graphic Novel</td>\n",
       "      <td>0</td>\n",
       "      <td>3.667</td>\n",
       "    </tr>\n",
       "    <tr>\n",
       "      <th>996</th>\n",
       "      <td>808</td>\n",
       "      <td>The Natural Way to Draw</td>\n",
       "      <td>0</td>\n",
       "      <td>3.000</td>\n",
       "    </tr>\n",
       "    <tr>\n",
       "      <th>997</th>\n",
       "      <td>672</td>\n",
       "      <td>The Cat in the Hat and Other Dr. Seuss Favorites</td>\n",
       "      <td>0</td>\n",
       "      <td>5.000</td>\n",
       "    </tr>\n",
       "    <tr>\n",
       "      <th>998</th>\n",
       "      <td>221</td>\n",
       "      <td>Essential Tales and Poems</td>\n",
       "      <td>0</td>\n",
       "      <td>4.000</td>\n",
       "    </tr>\n",
       "    <tr>\n",
       "      <th>999</th>\n",
       "      <td>191</td>\n",
       "      <td>Disney's Beauty and the Beast (A Little Golden...</td>\n",
       "      <td>0</td>\n",
       "      <td>4.000</td>\n",
       "    </tr>\n",
       "  </tbody>\n",
       "</table>\n",
       "<p>1000 rows × 4 columns</p>\n",
       "</div>"
      ],
      "text/plain": [
       "     book_id                                              title  \\\n",
       "0        948                            Twilight (Twilight  #1)   \n",
       "1        963                                Water for Elephants   \n",
       "2        734                                   The Glass Castle   \n",
       "3        302  Harry Potter and the Prisoner of Azkaban (Harr...   \n",
       "4        695  The Curious Incident of the Dog in the Night-Time   \n",
       "..       ...                                                ...   \n",
       "995       83    Anne Rice's The Vampire Lestat: A Graphic Novel   \n",
       "996      808                            The Natural Way to Draw   \n",
       "997      672   The Cat in the Hat and Other Dr. Seuss Favorites   \n",
       "998      221                          Essential Tales and Poems   \n",
       "999      191  Disney's Beauty and the Beast (A Little Golden...   \n",
       "\n",
       "     reviews_count  avg_rating  \n",
       "0                7       3.663  \n",
       "1                6       3.977  \n",
       "2                6       4.207  \n",
       "3                6       4.415  \n",
       "4                6       4.081  \n",
       "..             ...         ...  \n",
       "995              0       3.667  \n",
       "996              0       3.000  \n",
       "997              0       5.000  \n",
       "998              0       4.000  \n",
       "999              0       4.000  \n",
       "\n",
       "[1000 rows x 4 columns]"
      ]
     },
     "execution_count": 10,
     "metadata": {},
     "output_type": "execute_result"
    }
   ],
   "source": [
    "query = '''\n",
    "\n",
    "SELECT b.book_id, \n",
    "       b.title, \n",
    "       COUNT(DISTINCT rv.review_id) AS reviews_count, \n",
    "       ROUND(AVG(r.rating),3) AS avg_rating\n",
    "FROM books AS b\n",
    "\n",
    "LEFT JOIN reviews AS rv\n",
    "ON b.book_id = rv.book_id\n",
    "\n",
    "LEFT JOIN  ratings AS r\n",
    "ON b.book_id = r.book_id\n",
    "\n",
    "GROUP BY b.book_id, b.title\n",
    "ORDER BY reviews_count DESC\n",
    "\n",
    "'''\n",
    "\n",
    "pd.io.sql.read_sql(query, con = engine)"
   ]
  },
  {
   "cell_type": "markdown",
   "id": "e7ef093a",
   "metadata": {},
   "source": [
    "Средняя оценка для книг и количество обзоров посчитаны. "
   ]
  },
  {
   "cell_type": "markdown",
   "id": "51f5c8e4",
   "metadata": {},
   "source": [
    "## Задача 3"
   ]
  },
  {
   "cell_type": "markdown",
   "id": "c8ff05ee",
   "metadata": {},
   "source": [
    "Определим издательство, которое выпустило наибольшее число книг толще 50 страниц, так мы исключим из анализа брошюры:"
   ]
  },
  {
   "cell_type": "code",
   "execution_count": 11,
   "id": "8ac1d021",
   "metadata": {},
   "outputs": [
    {
     "data": {
      "text/html": [
       "<div>\n",
       "<style scoped>\n",
       "    .dataframe tbody tr th:only-of-type {\n",
       "        vertical-align: middle;\n",
       "    }\n",
       "\n",
       "    .dataframe tbody tr th {\n",
       "        vertical-align: top;\n",
       "    }\n",
       "\n",
       "    .dataframe thead th {\n",
       "        text-align: right;\n",
       "    }\n",
       "</style>\n",
       "<table border=\"1\" class=\"dataframe\">\n",
       "  <thead>\n",
       "    <tr style=\"text-align: right;\">\n",
       "      <th></th>\n",
       "      <th>publisher</th>\n",
       "      <th>books_leaders</th>\n",
       "    </tr>\n",
       "  </thead>\n",
       "  <tbody>\n",
       "    <tr>\n",
       "      <th>0</th>\n",
       "      <td>Penguin Books</td>\n",
       "      <td>42</td>\n",
       "    </tr>\n",
       "  </tbody>\n",
       "</table>\n",
       "</div>"
      ],
      "text/plain": [
       "       publisher  books_leaders\n",
       "0  Penguin Books             42"
      ]
     },
     "execution_count": 11,
     "metadata": {},
     "output_type": "execute_result"
    }
   ],
   "source": [
    "\n",
    "query3 = '''SELECT \n",
    "publishers.publisher AS publisher, \n",
    "COUNT(books.book_id) AS books_leaders\n",
    "\n",
    "FROM publishers \n",
    "INNER JOIN books ON books.publisher_id = publishers.publisher_id \n",
    "\n",
    "WHERE \n",
    "num_pages > 50\n",
    "\n",
    "GROUP BY \n",
    "publishers.publisher \n",
    "\n",
    "ORDER BY \n",
    "books_leaders DESC \n",
    "\n",
    "LIMIT 1;\n",
    "'''\n",
    "pd.io.sql.read_sql(query3, con = engine)"
   ]
  },
  {
   "cell_type": "markdown",
   "id": "1e6bef72",
   "metadata": {},
   "source": [
    "Лидер - Пингвин Букс."
   ]
  },
  {
   "cell_type": "markdown",
   "id": "678015b2",
   "metadata": {},
   "source": [
    "## Задача 4"
   ]
  },
  {
   "cell_type": "markdown",
   "id": "d2a6426c",
   "metadata": {},
   "source": [
    "Определите автора с самой высокой средней оценкой книг — учитывайте только книги с 50 и более оценками:"
   ]
  },
  {
   "cell_type": "code",
   "execution_count": 12,
   "id": "ce10b271",
   "metadata": {},
   "outputs": [
    {
     "data": {
      "text/html": [
       "<div>\n",
       "<style scoped>\n",
       "    .dataframe tbody tr th:only-of-type {\n",
       "        vertical-align: middle;\n",
       "    }\n",
       "\n",
       "    .dataframe tbody tr th {\n",
       "        vertical-align: top;\n",
       "    }\n",
       "\n",
       "    .dataframe thead th {\n",
       "        text-align: right;\n",
       "    }\n",
       "</style>\n",
       "<table border=\"1\" class=\"dataframe\">\n",
       "  <thead>\n",
       "    <tr style=\"text-align: right;\">\n",
       "      <th></th>\n",
       "      <th>author</th>\n",
       "      <th>avg_rating</th>\n",
       "    </tr>\n",
       "  </thead>\n",
       "  <tbody>\n",
       "    <tr>\n",
       "      <th>0</th>\n",
       "      <td>J.K. Rowling/Mary GrandPré</td>\n",
       "      <td>4.287</td>\n",
       "    </tr>\n",
       "  </tbody>\n",
       "</table>\n",
       "</div>"
      ],
      "text/plain": [
       "                       author  avg_rating\n",
       "0  J.K. Rowling/Mary GrandPré       4.287"
      ]
     },
     "execution_count": 12,
     "metadata": {},
     "output_type": "execute_result"
    }
   ],
   "source": [
    "query = '''\n",
    "SELECT\n",
    "    authors.author AS author,\n",
    "    ROUND(AVG(ratings.rating), 3) AS avg_rating\n",
    "    FROM ratings\n",
    "    JOIN books ON books.book_id = ratings.book_id\n",
    "    JOIN authors ON books.author_id = authors.author_id\n",
    "    WHERE ratings.book_id IN (\n",
    "       SELECT ratings.book_id\n",
    "       FROM ratings\n",
    "       GROUP BY ratings.book_id\n",
    "       HAVING COUNT(ratings.book_id) >= 50)\n",
    "    GROUP BY authors.author_id\n",
    "    ORDER BY AVG(ratings.rating) DESC\n",
    "    LIMIT 1'''\n",
    "data = pd.io.sql.read_sql(query, con = engine)\n",
    "data"
   ]
  },
  {
   "cell_type": "markdown",
   "id": "e2b07ed9",
   "metadata": {},
   "source": [
    "Лидирует Джоан Роулинг."
   ]
  },
  {
   "cell_type": "markdown",
   "id": "4e58dbe3",
   "metadata": {},
   "source": [
    "## Задача 5"
   ]
  },
  {
   "cell_type": "markdown",
   "id": "413132cd",
   "metadata": {},
   "source": [
    "Посчитаем среднее количество обзоров от пользователей, которые поставили больше 50 оценок:"
   ]
  },
  {
   "cell_type": "code",
   "execution_count": 13,
   "id": "32ccd3dd",
   "metadata": {},
   "outputs": [
    {
     "data": {
      "text/html": [
       "<div>\n",
       "<style scoped>\n",
       "    .dataframe tbody tr th:only-of-type {\n",
       "        vertical-align: middle;\n",
       "    }\n",
       "\n",
       "    .dataframe tbody tr th {\n",
       "        vertical-align: top;\n",
       "    }\n",
       "\n",
       "    .dataframe thead th {\n",
       "        text-align: right;\n",
       "    }\n",
       "</style>\n",
       "<table border=\"1\" class=\"dataframe\">\n",
       "  <thead>\n",
       "    <tr style=\"text-align: right;\">\n",
       "      <th></th>\n",
       "      <th>avg_reviews</th>\n",
       "    </tr>\n",
       "  </thead>\n",
       "  <tbody>\n",
       "    <tr>\n",
       "      <th>0</th>\n",
       "      <td>24.33</td>\n",
       "    </tr>\n",
       "  </tbody>\n",
       "</table>\n",
       "</div>"
      ],
      "text/plain": [
       "   avg_reviews\n",
       "0        24.33"
      ]
     },
     "execution_count": 13,
     "metadata": {},
     "output_type": "execute_result"
    }
   ],
   "source": [
    "query5 = '''\n",
    "SELECT\n",
    "round(AVG(rr.reviews_amount), 2) AS avg_reviews\n",
    "\n",
    "FROM \n",
    "(\n",
    "SELECT \n",
    "ld.username AS username,\n",
    "COUNT(reviews.review_id) AS reviews_amount \n",
    "        \n",
    "FROM \n",
    "    (\n",
    "    SELECT\n",
    "    ratings.username AS username\n",
    "    \n",
    "    FROM\n",
    "    ratings\n",
    "    \n",
    "    GROUP BY \n",
    "    ratings.username\n",
    "    \n",
    "    HAVING \n",
    "    COUNT(ratings.rating_id) > 50\n",
    "    ) AS ld \n",
    "INNER JOIN reviews ON reviews.username = ld.username\n",
    "\n",
    "GROUP BY\n",
    "ld.username\n",
    ") AS rr;\n",
    "\n",
    "'''\n",
    "\n",
    "pd.io.sql.read_sql(query5, con = engine)"
   ]
  },
  {
   "cell_type": "markdown",
   "id": "42415cff",
   "metadata": {},
   "source": [
    "Среднее количество обзоров от пользователей, которые поставили более 50 оценок - 24,3."
   ]
  },
  {
   "cell_type": "markdown",
   "id": "6aa5614f",
   "metadata": {},
   "source": [
    "## Вывод по работе"
   ]
  },
  {
   "cell_type": "markdown",
   "id": "0711f3be",
   "metadata": {},
   "source": [
    "В данном проекте были рассмотрены данные из датасетов с информацией по книгам, авторам, издательствам, рейтингам и отзывам пользователей. В ходе работы мы выяснили, что:\n",
    "\n",
    " - После 1 января 2000 года вышла 819 книг;\n",
    " - Для каждой книги посчитана средняя оценка и количество отзывов;\n",
    " - Определено издательство, которое выпустило наибольшее число книг толще 50 страниц - Пингвин букс;\n",
    " - Автор с самой высокой средней оценкой книг — Джоан Роулинг;\n",
    " - Среднее количество обзоров от пользователей, которые поставили более 50 оценок - 24,3."
   ]
  }
 ],
 "metadata": {
  "ExecuteTimeLog": [
   {
    "duration": 3,
    "start_time": "2023-04-04T00:55:55.283Z"
   },
   {
    "duration": 8849,
    "start_time": "2023-04-04T00:55:55.288Z"
   },
   {
    "duration": 826,
    "start_time": "2023-04-04T00:56:04.138Z"
   },
   {
    "duration": 85,
    "start_time": "2023-04-04T00:56:04.965Z"
   },
   {
    "duration": 10,
    "start_time": "2023-04-04T00:56:05.052Z"
   },
   {
    "duration": 11,
    "start_time": "2023-04-04T00:56:05.063Z"
   },
   {
    "duration": 80,
    "start_time": "2023-04-04T00:56:05.076Z"
   },
   {
    "duration": 8,
    "start_time": "2023-04-04T00:56:05.158Z"
   },
   {
    "duration": 10,
    "start_time": "2023-04-04T00:56:05.167Z"
   },
   {
    "duration": 87,
    "start_time": "2023-04-04T00:56:05.178Z"
   },
   {
    "duration": 7,
    "start_time": "2023-04-04T00:56:05.266Z"
   },
   {
    "duration": 16,
    "start_time": "2023-04-04T00:56:05.274Z"
   },
   {
    "duration": 132,
    "start_time": "2023-04-04T00:56:05.291Z"
   },
   {
    "duration": 8,
    "start_time": "2023-04-04T00:56:05.425Z"
   },
   {
    "duration": 9,
    "start_time": "2023-04-04T00:56:05.434Z"
   },
   {
    "duration": 152,
    "start_time": "2023-04-04T00:56:05.444Z"
   },
   {
    "duration": 8,
    "start_time": "2023-04-04T00:56:05.598Z"
   },
   {
    "duration": 15,
    "start_time": "2023-04-04T00:56:05.607Z"
   },
   {
    "duration": 94,
    "start_time": "2023-04-04T00:56:05.624Z"
   },
   {
    "duration": 121,
    "start_time": "2023-04-04T00:56:05.719Z"
   },
   {
    "duration": 157,
    "start_time": "2023-04-04T00:56:05.841Z"
   },
   {
    "duration": 127,
    "start_time": "2023-04-04T00:56:06.000Z"
   },
   {
    "duration": 73,
    "start_time": "2023-04-04T00:56:06.128Z"
   },
   {
    "duration": 50,
    "start_time": "2023-04-04T01:06:20.484Z"
   },
   {
    "duration": 4,
    "start_time": "2023-04-04T01:06:29.971Z"
   },
   {
    "duration": 6582,
    "start_time": "2023-04-04T01:06:29.976Z"
   },
   {
    "duration": 550,
    "start_time": "2023-04-04T01:06:36.559Z"
   },
   {
    "duration": 78,
    "start_time": "2023-04-04T01:06:37.111Z"
   },
   {
    "duration": 14,
    "start_time": "2023-04-04T01:06:37.191Z"
   },
   {
    "duration": 18,
    "start_time": "2023-04-04T01:06:37.206Z"
   },
   {
    "duration": 71,
    "start_time": "2023-04-04T01:06:37.225Z"
   },
   {
    "duration": 9,
    "start_time": "2023-04-04T01:06:37.298Z"
   },
   {
    "duration": 8,
    "start_time": "2023-04-04T01:06:37.309Z"
   },
   {
    "duration": 70,
    "start_time": "2023-04-04T01:06:37.318Z"
   },
   {
    "duration": 9,
    "start_time": "2023-04-04T01:06:37.390Z"
   },
   {
    "duration": 7,
    "start_time": "2023-04-04T01:06:37.400Z"
   },
   {
    "duration": 75,
    "start_time": "2023-04-04T01:06:37.408Z"
   },
   {
    "duration": 9,
    "start_time": "2023-04-04T01:06:37.485Z"
   },
   {
    "duration": 8,
    "start_time": "2023-04-04T01:06:37.495Z"
   },
   {
    "duration": 75,
    "start_time": "2023-04-04T01:06:37.505Z"
   },
   {
    "duration": 10,
    "start_time": "2023-04-04T01:06:37.581Z"
   },
   {
    "duration": 9,
    "start_time": "2023-04-04T01:06:37.592Z"
   },
   {
    "duration": 73,
    "start_time": "2023-04-04T01:06:37.602Z"
   },
   {
    "duration": 87,
    "start_time": "2023-04-04T01:06:37.676Z"
   },
   {
    "duration": 71,
    "start_time": "2023-04-04T01:06:37.764Z"
   },
   {
    "duration": 73,
    "start_time": "2023-04-04T01:06:37.836Z"
   },
   {
    "duration": 72,
    "start_time": "2023-04-04T01:06:37.911Z"
   },
   {
    "duration": 189,
    "start_time": "2023-04-04T01:10:38.860Z"
   },
   {
    "duration": 144,
    "start_time": "2023-04-04T01:11:31.068Z"
   },
   {
    "duration": 74,
    "start_time": "2023-04-04T01:12:15.740Z"
   },
   {
    "duration": 136,
    "start_time": "2023-04-04T01:13:26.444Z"
   },
   {
    "duration": 127,
    "start_time": "2023-04-04T01:17:43.292Z"
   },
   {
    "duration": 136,
    "start_time": "2023-04-04T01:18:11.237Z"
   },
   {
    "duration": 4,
    "start_time": "2023-04-04T01:18:17.001Z"
   },
   {
    "duration": 6651,
    "start_time": "2023-04-04T01:18:17.007Z"
   },
   {
    "duration": 548,
    "start_time": "2023-04-04T01:18:23.660Z"
   },
   {
    "duration": 76,
    "start_time": "2023-04-04T01:18:24.211Z"
   },
   {
    "duration": 10,
    "start_time": "2023-04-04T01:18:24.289Z"
   },
   {
    "duration": 11,
    "start_time": "2023-04-04T01:18:24.300Z"
   },
   {
    "duration": 69,
    "start_time": "2023-04-04T01:18:24.313Z"
   },
   {
    "duration": 10,
    "start_time": "2023-04-04T01:18:24.384Z"
   },
   {
    "duration": 14,
    "start_time": "2023-04-04T01:18:24.396Z"
   },
   {
    "duration": 74,
    "start_time": "2023-04-04T01:18:24.411Z"
   },
   {
    "duration": 9,
    "start_time": "2023-04-04T01:18:24.487Z"
   },
   {
    "duration": 8,
    "start_time": "2023-04-04T01:18:24.498Z"
   },
   {
    "duration": 78,
    "start_time": "2023-04-04T01:18:24.508Z"
   },
   {
    "duration": 12,
    "start_time": "2023-04-04T01:18:24.588Z"
   },
   {
    "duration": 9,
    "start_time": "2023-04-04T01:18:24.602Z"
   },
   {
    "duration": 75,
    "start_time": "2023-04-04T01:18:24.613Z"
   },
   {
    "duration": 13,
    "start_time": "2023-04-04T01:18:24.690Z"
   },
   {
    "duration": 13,
    "start_time": "2023-04-04T01:18:24.706Z"
   },
   {
    "duration": 76,
    "start_time": "2023-04-04T01:18:24.721Z"
   },
   {
    "duration": 87,
    "start_time": "2023-04-04T01:18:24.798Z"
   },
   {
    "duration": 70,
    "start_time": "2023-04-04T01:18:24.887Z"
   },
   {
    "duration": 233,
    "start_time": "2023-04-04T01:18:24.959Z"
   },
   {
    "duration": 0,
    "start_time": "2023-04-04T01:18:25.193Z"
   },
   {
    "duration": 73,
    "start_time": "2023-04-04T01:19:12.581Z"
   },
   {
    "duration": 125,
    "start_time": "2023-04-04T01:26:35.775Z"
   },
   {
    "duration": 79,
    "start_time": "2023-04-04T01:27:00.998Z"
   },
   {
    "duration": 74,
    "start_time": "2023-04-04T01:27:30.830Z"
   },
   {
    "duration": 74,
    "start_time": "2023-04-04T01:28:41.805Z"
   },
   {
    "duration": 70,
    "start_time": "2023-04-04T01:29:04.293Z"
   },
   {
    "duration": 73,
    "start_time": "2023-04-04T01:29:22.654Z"
   },
   {
    "duration": 72,
    "start_time": "2023-04-04T01:30:01.166Z"
   },
   {
    "duration": 74,
    "start_time": "2023-04-04T01:30:59.046Z"
   },
   {
    "duration": 70,
    "start_time": "2023-04-04T01:32:07.023Z"
   },
   {
    "duration": 4,
    "start_time": "2023-04-04T01:32:31.284Z"
   },
   {
    "duration": 6370,
    "start_time": "2023-04-04T01:32:31.290Z"
   },
   {
    "duration": 556,
    "start_time": "2023-04-04T01:32:37.662Z"
   },
   {
    "duration": 76,
    "start_time": "2023-04-04T01:32:38.220Z"
   },
   {
    "duration": 9,
    "start_time": "2023-04-04T01:32:38.298Z"
   },
   {
    "duration": 7,
    "start_time": "2023-04-04T01:32:38.309Z"
   },
   {
    "duration": 76,
    "start_time": "2023-04-04T01:32:38.317Z"
   },
   {
    "duration": 8,
    "start_time": "2023-04-04T01:32:38.395Z"
   },
   {
    "duration": 10,
    "start_time": "2023-04-04T01:32:38.405Z"
   },
   {
    "duration": 71,
    "start_time": "2023-04-04T01:32:38.417Z"
   },
   {
    "duration": 8,
    "start_time": "2023-04-04T01:32:38.490Z"
   },
   {
    "duration": 8,
    "start_time": "2023-04-04T01:32:38.500Z"
   },
   {
    "duration": 80,
    "start_time": "2023-04-04T01:32:38.509Z"
   },
   {
    "duration": 9,
    "start_time": "2023-04-04T01:32:38.591Z"
   },
   {
    "duration": 9,
    "start_time": "2023-04-04T01:32:38.601Z"
   },
   {
    "duration": 77,
    "start_time": "2023-04-04T01:32:38.612Z"
   },
   {
    "duration": 10,
    "start_time": "2023-04-04T01:32:38.690Z"
   },
   {
    "duration": 7,
    "start_time": "2023-04-04T01:32:38.702Z"
   },
   {
    "duration": 74,
    "start_time": "2023-04-04T01:32:38.710Z"
   },
   {
    "duration": 84,
    "start_time": "2023-04-04T01:32:38.786Z"
   },
   {
    "duration": 70,
    "start_time": "2023-04-04T01:32:38.871Z"
   },
   {
    "duration": 72,
    "start_time": "2023-04-04T01:32:38.943Z"
   },
   {
    "duration": 72,
    "start_time": "2023-04-04T01:32:39.017Z"
   },
   {
    "duration": 49,
    "start_time": "2023-04-04T01:33:08.383Z"
   },
   {
    "duration": 4,
    "start_time": "2023-04-04T01:33:25.861Z"
   },
   {
    "duration": 5333,
    "start_time": "2023-04-04T01:33:25.867Z"
   },
   {
    "duration": 606,
    "start_time": "2023-04-04T01:33:31.202Z"
   },
   {
    "duration": 78,
    "start_time": "2023-04-04T01:33:31.810Z"
   },
   {
    "duration": 10,
    "start_time": "2023-04-04T01:33:31.890Z"
   },
   {
    "duration": 13,
    "start_time": "2023-04-04T01:33:31.901Z"
   },
   {
    "duration": 83,
    "start_time": "2023-04-04T01:33:31.915Z"
   },
   {
    "duration": 9,
    "start_time": "2023-04-04T01:33:32.000Z"
   },
   {
    "duration": 8,
    "start_time": "2023-04-04T01:33:32.011Z"
   },
   {
    "duration": 75,
    "start_time": "2023-04-04T01:33:32.021Z"
   },
   {
    "duration": 8,
    "start_time": "2023-04-04T01:33:32.098Z"
   },
   {
    "duration": 12,
    "start_time": "2023-04-04T01:33:32.108Z"
   },
   {
    "duration": 80,
    "start_time": "2023-04-04T01:33:32.122Z"
   },
   {
    "duration": 9,
    "start_time": "2023-04-04T01:33:32.204Z"
   },
   {
    "duration": 7,
    "start_time": "2023-04-04T01:33:32.215Z"
   },
   {
    "duration": 71,
    "start_time": "2023-04-04T01:33:32.224Z"
   },
   {
    "duration": 9,
    "start_time": "2023-04-04T01:33:32.297Z"
   },
   {
    "duration": 25,
    "start_time": "2023-04-04T01:33:32.307Z"
   },
   {
    "duration": 77,
    "start_time": "2023-04-04T01:33:32.333Z"
   },
   {
    "duration": 87,
    "start_time": "2023-04-04T01:33:32.411Z"
   },
   {
    "duration": 72,
    "start_time": "2023-04-04T01:33:32.499Z"
   },
   {
    "duration": 75,
    "start_time": "2023-04-04T01:33:32.572Z"
   },
   {
    "duration": 74,
    "start_time": "2023-04-04T01:33:32.648Z"
   }
  ],
  "kernelspec": {
   "display_name": "Python 3 (ipykernel)",
   "language": "python",
   "name": "python3"
  },
  "language_info": {
   "codemirror_mode": {
    "name": "ipython",
    "version": 3
   },
   "file_extension": ".py",
   "mimetype": "text/x-python",
   "name": "python",
   "nbconvert_exporter": "python",
   "pygments_lexer": "ipython3",
   "version": "3.9.7"
  },
  "toc": {
   "base_numbering": 1,
   "nav_menu": {},
   "number_sections": true,
   "sideBar": true,
   "skip_h1_title": false,
   "title_cell": "Table of Contents",
   "title_sidebar": "Contents",
   "toc_cell": false,
   "toc_position": {
    "height": "calc(100% - 180px)",
    "left": "10px",
    "top": "150px",
    "width": "384px"
   },
   "toc_section_display": true,
   "toc_window_display": true
  }
 },
 "nbformat": 4,
 "nbformat_minor": 5
}
