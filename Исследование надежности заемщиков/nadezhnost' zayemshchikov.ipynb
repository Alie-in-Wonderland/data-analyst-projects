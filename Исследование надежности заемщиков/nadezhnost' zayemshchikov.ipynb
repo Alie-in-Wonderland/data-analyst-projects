{
 "cells": [
  {
   "cell_type": "markdown",
   "id": "544da26f",
   "metadata": {},
   "source": [
    "# Исследование надежности заемщиков"
   ]
  },
  {
   "cell_type": "markdown",
   "id": "4162ce1d",
   "metadata": {},
   "source": [
    "**Заказчик** — кредитный отдел банка. \n",
    "\n",
    "**Цель** - разобраться, влияет ли семейное положение и количество детей клиента на факт погашения кредита в срок. \n",
    "\n",
    "**Входные данные от банка** — статистика о платёжеспособности клиентов.\n",
    "\n",
    "Результаты исследования будут учтены при построении модели кредитного скоринга — специальной системы, которая оценивает способность потенциального заёмщика вернуть кредит банку."
   ]
  },
  {
   "cell_type": "markdown",
   "id": "a9affb91",
   "metadata": {},
   "source": [
    "## Обзор данных"
   ]
  },
  {
   "cell_type": "markdown",
   "id": "85ea9c73",
   "metadata": {},
   "source": [
    "Оценим данные, прредоставленные банком визуально. Для этого выведем первые 30 строк таблицы на экран."
   ]
  },
  {
   "cell_type": "code",
   "execution_count": 1,
   "id": "dd6a88c6",
   "metadata": {},
   "outputs": [],
   "source": [
    "import pandas as pd\n",
    "import seaborn as sns"
   ]
  },
  {
   "cell_type": "code",
   "execution_count": 2,
   "id": "1691347e",
   "metadata": {},
   "outputs": [],
   "source": [
    "df = pd.read_csv('https://code.s3.yandex.net/datasets/data.csv') "
   ]
  },
  {
   "cell_type": "code",
   "execution_count": 3,
   "id": "51a8b2d9",
   "metadata": {
    "scrolled": false
   },
   "outputs": [
    {
     "data": {
      "text/html": [
       "<div>\n",
       "<style scoped>\n",
       "    .dataframe tbody tr th:only-of-type {\n",
       "        vertical-align: middle;\n",
       "    }\n",
       "\n",
       "    .dataframe tbody tr th {\n",
       "        vertical-align: top;\n",
       "    }\n",
       "\n",
       "    .dataframe thead th {\n",
       "        text-align: right;\n",
       "    }\n",
       "</style>\n",
       "<table border=\"1\" class=\"dataframe\">\n",
       "  <thead>\n",
       "    <tr style=\"text-align: right;\">\n",
       "      <th></th>\n",
       "      <th>children</th>\n",
       "      <th>days_employed</th>\n",
       "      <th>dob_years</th>\n",
       "      <th>education</th>\n",
       "      <th>education_id</th>\n",
       "      <th>family_status</th>\n",
       "      <th>family_status_id</th>\n",
       "      <th>gender</th>\n",
       "      <th>income_type</th>\n",
       "      <th>debt</th>\n",
       "      <th>total_income</th>\n",
       "      <th>purpose</th>\n",
       "    </tr>\n",
       "  </thead>\n",
       "  <tbody>\n",
       "    <tr>\n",
       "      <th>0</th>\n",
       "      <td>1</td>\n",
       "      <td>-8437.673028</td>\n",
       "      <td>42</td>\n",
       "      <td>высшее</td>\n",
       "      <td>0</td>\n",
       "      <td>женат / замужем</td>\n",
       "      <td>0</td>\n",
       "      <td>F</td>\n",
       "      <td>сотрудник</td>\n",
       "      <td>0</td>\n",
       "      <td>253875.639453</td>\n",
       "      <td>покупка жилья</td>\n",
       "    </tr>\n",
       "    <tr>\n",
       "      <th>1</th>\n",
       "      <td>1</td>\n",
       "      <td>-4024.803754</td>\n",
       "      <td>36</td>\n",
       "      <td>среднее</td>\n",
       "      <td>1</td>\n",
       "      <td>женат / замужем</td>\n",
       "      <td>0</td>\n",
       "      <td>F</td>\n",
       "      <td>сотрудник</td>\n",
       "      <td>0</td>\n",
       "      <td>112080.014102</td>\n",
       "      <td>приобретение автомобиля</td>\n",
       "    </tr>\n",
       "    <tr>\n",
       "      <th>2</th>\n",
       "      <td>0</td>\n",
       "      <td>-5623.422610</td>\n",
       "      <td>33</td>\n",
       "      <td>Среднее</td>\n",
       "      <td>1</td>\n",
       "      <td>женат / замужем</td>\n",
       "      <td>0</td>\n",
       "      <td>M</td>\n",
       "      <td>сотрудник</td>\n",
       "      <td>0</td>\n",
       "      <td>145885.952297</td>\n",
       "      <td>покупка жилья</td>\n",
       "    </tr>\n",
       "    <tr>\n",
       "      <th>3</th>\n",
       "      <td>3</td>\n",
       "      <td>-4124.747207</td>\n",
       "      <td>32</td>\n",
       "      <td>среднее</td>\n",
       "      <td>1</td>\n",
       "      <td>женат / замужем</td>\n",
       "      <td>0</td>\n",
       "      <td>M</td>\n",
       "      <td>сотрудник</td>\n",
       "      <td>0</td>\n",
       "      <td>267628.550329</td>\n",
       "      <td>дополнительное образование</td>\n",
       "    </tr>\n",
       "    <tr>\n",
       "      <th>4</th>\n",
       "      <td>0</td>\n",
       "      <td>340266.072047</td>\n",
       "      <td>53</td>\n",
       "      <td>среднее</td>\n",
       "      <td>1</td>\n",
       "      <td>гражданский брак</td>\n",
       "      <td>1</td>\n",
       "      <td>F</td>\n",
       "      <td>пенсионер</td>\n",
       "      <td>0</td>\n",
       "      <td>158616.077870</td>\n",
       "      <td>сыграть свадьбу</td>\n",
       "    </tr>\n",
       "    <tr>\n",
       "      <th>5</th>\n",
       "      <td>0</td>\n",
       "      <td>-926.185831</td>\n",
       "      <td>27</td>\n",
       "      <td>высшее</td>\n",
       "      <td>0</td>\n",
       "      <td>гражданский брак</td>\n",
       "      <td>1</td>\n",
       "      <td>M</td>\n",
       "      <td>компаньон</td>\n",
       "      <td>0</td>\n",
       "      <td>255763.565419</td>\n",
       "      <td>покупка жилья</td>\n",
       "    </tr>\n",
       "    <tr>\n",
       "      <th>6</th>\n",
       "      <td>0</td>\n",
       "      <td>-2879.202052</td>\n",
       "      <td>43</td>\n",
       "      <td>высшее</td>\n",
       "      <td>0</td>\n",
       "      <td>женат / замужем</td>\n",
       "      <td>0</td>\n",
       "      <td>F</td>\n",
       "      <td>компаньон</td>\n",
       "      <td>0</td>\n",
       "      <td>240525.971920</td>\n",
       "      <td>операции с жильем</td>\n",
       "    </tr>\n",
       "    <tr>\n",
       "      <th>7</th>\n",
       "      <td>0</td>\n",
       "      <td>-152.779569</td>\n",
       "      <td>50</td>\n",
       "      <td>СРЕДНЕЕ</td>\n",
       "      <td>1</td>\n",
       "      <td>женат / замужем</td>\n",
       "      <td>0</td>\n",
       "      <td>M</td>\n",
       "      <td>сотрудник</td>\n",
       "      <td>0</td>\n",
       "      <td>135823.934197</td>\n",
       "      <td>образование</td>\n",
       "    </tr>\n",
       "    <tr>\n",
       "      <th>8</th>\n",
       "      <td>2</td>\n",
       "      <td>-6929.865299</td>\n",
       "      <td>35</td>\n",
       "      <td>ВЫСШЕЕ</td>\n",
       "      <td>0</td>\n",
       "      <td>гражданский брак</td>\n",
       "      <td>1</td>\n",
       "      <td>F</td>\n",
       "      <td>сотрудник</td>\n",
       "      <td>0</td>\n",
       "      <td>95856.832424</td>\n",
       "      <td>на проведение свадьбы</td>\n",
       "    </tr>\n",
       "    <tr>\n",
       "      <th>9</th>\n",
       "      <td>0</td>\n",
       "      <td>-2188.756445</td>\n",
       "      <td>41</td>\n",
       "      <td>среднее</td>\n",
       "      <td>1</td>\n",
       "      <td>женат / замужем</td>\n",
       "      <td>0</td>\n",
       "      <td>M</td>\n",
       "      <td>сотрудник</td>\n",
       "      <td>0</td>\n",
       "      <td>144425.938277</td>\n",
       "      <td>покупка жилья для семьи</td>\n",
       "    </tr>\n",
       "    <tr>\n",
       "      <th>10</th>\n",
       "      <td>2</td>\n",
       "      <td>-4171.483647</td>\n",
       "      <td>36</td>\n",
       "      <td>высшее</td>\n",
       "      <td>0</td>\n",
       "      <td>женат / замужем</td>\n",
       "      <td>0</td>\n",
       "      <td>M</td>\n",
       "      <td>компаньон</td>\n",
       "      <td>0</td>\n",
       "      <td>113943.491460</td>\n",
       "      <td>покупка недвижимости</td>\n",
       "    </tr>\n",
       "    <tr>\n",
       "      <th>11</th>\n",
       "      <td>0</td>\n",
       "      <td>-792.701887</td>\n",
       "      <td>40</td>\n",
       "      <td>среднее</td>\n",
       "      <td>1</td>\n",
       "      <td>женат / замужем</td>\n",
       "      <td>0</td>\n",
       "      <td>F</td>\n",
       "      <td>сотрудник</td>\n",
       "      <td>0</td>\n",
       "      <td>77069.234271</td>\n",
       "      <td>покупка коммерческой недвижимости</td>\n",
       "    </tr>\n",
       "    <tr>\n",
       "      <th>12</th>\n",
       "      <td>0</td>\n",
       "      <td>NaN</td>\n",
       "      <td>65</td>\n",
       "      <td>среднее</td>\n",
       "      <td>1</td>\n",
       "      <td>гражданский брак</td>\n",
       "      <td>1</td>\n",
       "      <td>M</td>\n",
       "      <td>пенсионер</td>\n",
       "      <td>0</td>\n",
       "      <td>NaN</td>\n",
       "      <td>сыграть свадьбу</td>\n",
       "    </tr>\n",
       "    <tr>\n",
       "      <th>13</th>\n",
       "      <td>0</td>\n",
       "      <td>-1846.641941</td>\n",
       "      <td>54</td>\n",
       "      <td>неоконченное высшее</td>\n",
       "      <td>2</td>\n",
       "      <td>женат / замужем</td>\n",
       "      <td>0</td>\n",
       "      <td>F</td>\n",
       "      <td>сотрудник</td>\n",
       "      <td>0</td>\n",
       "      <td>130458.228857</td>\n",
       "      <td>приобретение автомобиля</td>\n",
       "    </tr>\n",
       "    <tr>\n",
       "      <th>14</th>\n",
       "      <td>0</td>\n",
       "      <td>-1844.956182</td>\n",
       "      <td>56</td>\n",
       "      <td>высшее</td>\n",
       "      <td>0</td>\n",
       "      <td>гражданский брак</td>\n",
       "      <td>1</td>\n",
       "      <td>F</td>\n",
       "      <td>компаньон</td>\n",
       "      <td>1</td>\n",
       "      <td>165127.911772</td>\n",
       "      <td>покупка жилой недвижимости</td>\n",
       "    </tr>\n",
       "    <tr>\n",
       "      <th>15</th>\n",
       "      <td>1</td>\n",
       "      <td>-972.364419</td>\n",
       "      <td>26</td>\n",
       "      <td>среднее</td>\n",
       "      <td>1</td>\n",
       "      <td>женат / замужем</td>\n",
       "      <td>0</td>\n",
       "      <td>F</td>\n",
       "      <td>сотрудник</td>\n",
       "      <td>0</td>\n",
       "      <td>116820.904450</td>\n",
       "      <td>строительство собственной недвижимости</td>\n",
       "    </tr>\n",
       "    <tr>\n",
       "      <th>16</th>\n",
       "      <td>0</td>\n",
       "      <td>-1719.934226</td>\n",
       "      <td>35</td>\n",
       "      <td>среднее</td>\n",
       "      <td>1</td>\n",
       "      <td>женат / замужем</td>\n",
       "      <td>0</td>\n",
       "      <td>F</td>\n",
       "      <td>сотрудник</td>\n",
       "      <td>0</td>\n",
       "      <td>289202.704229</td>\n",
       "      <td>недвижимость</td>\n",
       "    </tr>\n",
       "    <tr>\n",
       "      <th>17</th>\n",
       "      <td>0</td>\n",
       "      <td>-2369.999720</td>\n",
       "      <td>33</td>\n",
       "      <td>высшее</td>\n",
       "      <td>0</td>\n",
       "      <td>гражданский брак</td>\n",
       "      <td>1</td>\n",
       "      <td>M</td>\n",
       "      <td>сотрудник</td>\n",
       "      <td>0</td>\n",
       "      <td>90410.586745</td>\n",
       "      <td>строительство недвижимости</td>\n",
       "    </tr>\n",
       "    <tr>\n",
       "      <th>18</th>\n",
       "      <td>0</td>\n",
       "      <td>400281.136913</td>\n",
       "      <td>53</td>\n",
       "      <td>среднее</td>\n",
       "      <td>1</td>\n",
       "      <td>вдовец / вдова</td>\n",
       "      <td>2</td>\n",
       "      <td>F</td>\n",
       "      <td>пенсионер</td>\n",
       "      <td>0</td>\n",
       "      <td>56823.777243</td>\n",
       "      <td>на покупку подержанного автомобиля</td>\n",
       "    </tr>\n",
       "    <tr>\n",
       "      <th>19</th>\n",
       "      <td>0</td>\n",
       "      <td>-10038.818549</td>\n",
       "      <td>48</td>\n",
       "      <td>СРЕДНЕЕ</td>\n",
       "      <td>1</td>\n",
       "      <td>в разводе</td>\n",
       "      <td>3</td>\n",
       "      <td>F</td>\n",
       "      <td>сотрудник</td>\n",
       "      <td>0</td>\n",
       "      <td>242831.107982</td>\n",
       "      <td>на покупку своего автомобиля</td>\n",
       "    </tr>\n",
       "    <tr>\n",
       "      <th>20</th>\n",
       "      <td>1</td>\n",
       "      <td>-1311.604166</td>\n",
       "      <td>36</td>\n",
       "      <td>среднее</td>\n",
       "      <td>1</td>\n",
       "      <td>женат / замужем</td>\n",
       "      <td>0</td>\n",
       "      <td>M</td>\n",
       "      <td>сотрудник</td>\n",
       "      <td>0</td>\n",
       "      <td>209552.644578</td>\n",
       "      <td>недвижимость</td>\n",
       "    </tr>\n",
       "    <tr>\n",
       "      <th>21</th>\n",
       "      <td>1</td>\n",
       "      <td>-253.685166</td>\n",
       "      <td>33</td>\n",
       "      <td>среднее</td>\n",
       "      <td>1</td>\n",
       "      <td>гражданский брак</td>\n",
       "      <td>1</td>\n",
       "      <td>F</td>\n",
       "      <td>сотрудник</td>\n",
       "      <td>0</td>\n",
       "      <td>131812.203909</td>\n",
       "      <td>приобретение автомобиля</td>\n",
       "    </tr>\n",
       "    <tr>\n",
       "      <th>22</th>\n",
       "      <td>1</td>\n",
       "      <td>-1766.644138</td>\n",
       "      <td>24</td>\n",
       "      <td>среднее</td>\n",
       "      <td>1</td>\n",
       "      <td>гражданский брак</td>\n",
       "      <td>1</td>\n",
       "      <td>F</td>\n",
       "      <td>сотрудник</td>\n",
       "      <td>0</td>\n",
       "      <td>149681.140731</td>\n",
       "      <td>на покупку подержанного автомобиля</td>\n",
       "    </tr>\n",
       "    <tr>\n",
       "      <th>23</th>\n",
       "      <td>0</td>\n",
       "      <td>-272.981385</td>\n",
       "      <td>21</td>\n",
       "      <td>высшее</td>\n",
       "      <td>0</td>\n",
       "      <td>гражданский брак</td>\n",
       "      <td>1</td>\n",
       "      <td>M</td>\n",
       "      <td>сотрудник</td>\n",
       "      <td>0</td>\n",
       "      <td>128265.720871</td>\n",
       "      <td>сыграть свадьбу</td>\n",
       "    </tr>\n",
       "    <tr>\n",
       "      <th>24</th>\n",
       "      <td>1</td>\n",
       "      <td>338551.952911</td>\n",
       "      <td>57</td>\n",
       "      <td>среднее</td>\n",
       "      <td>1</td>\n",
       "      <td>Не женат / не замужем</td>\n",
       "      <td>4</td>\n",
       "      <td>F</td>\n",
       "      <td>пенсионер</td>\n",
       "      <td>0</td>\n",
       "      <td>290547.235997</td>\n",
       "      <td>операции с коммерческой недвижимостью</td>\n",
       "    </tr>\n",
       "    <tr>\n",
       "      <th>25</th>\n",
       "      <td>0</td>\n",
       "      <td>363548.489348</td>\n",
       "      <td>67</td>\n",
       "      <td>среднее</td>\n",
       "      <td>1</td>\n",
       "      <td>женат / замужем</td>\n",
       "      <td>0</td>\n",
       "      <td>M</td>\n",
       "      <td>пенсионер</td>\n",
       "      <td>0</td>\n",
       "      <td>55112.757732</td>\n",
       "      <td>покупка недвижимости</td>\n",
       "    </tr>\n",
       "    <tr>\n",
       "      <th>26</th>\n",
       "      <td>0</td>\n",
       "      <td>NaN</td>\n",
       "      <td>41</td>\n",
       "      <td>среднее</td>\n",
       "      <td>1</td>\n",
       "      <td>женат / замужем</td>\n",
       "      <td>0</td>\n",
       "      <td>M</td>\n",
       "      <td>госслужащий</td>\n",
       "      <td>0</td>\n",
       "      <td>NaN</td>\n",
       "      <td>образование</td>\n",
       "    </tr>\n",
       "    <tr>\n",
       "      <th>27</th>\n",
       "      <td>0</td>\n",
       "      <td>-529.191635</td>\n",
       "      <td>28</td>\n",
       "      <td>высшее</td>\n",
       "      <td>0</td>\n",
       "      <td>женат / замужем</td>\n",
       "      <td>0</td>\n",
       "      <td>M</td>\n",
       "      <td>сотрудник</td>\n",
       "      <td>0</td>\n",
       "      <td>308848.983691</td>\n",
       "      <td>строительство собственной недвижимости</td>\n",
       "    </tr>\n",
       "    <tr>\n",
       "      <th>28</th>\n",
       "      <td>1</td>\n",
       "      <td>-717.274324</td>\n",
       "      <td>26</td>\n",
       "      <td>высшее</td>\n",
       "      <td>0</td>\n",
       "      <td>женат / замужем</td>\n",
       "      <td>0</td>\n",
       "      <td>F</td>\n",
       "      <td>сотрудник</td>\n",
       "      <td>0</td>\n",
       "      <td>187863.237306</td>\n",
       "      <td>строительство собственной недвижимости</td>\n",
       "    </tr>\n",
       "    <tr>\n",
       "      <th>29</th>\n",
       "      <td>0</td>\n",
       "      <td>NaN</td>\n",
       "      <td>63</td>\n",
       "      <td>среднее</td>\n",
       "      <td>1</td>\n",
       "      <td>Не женат / не замужем</td>\n",
       "      <td>4</td>\n",
       "      <td>F</td>\n",
       "      <td>пенсионер</td>\n",
       "      <td>0</td>\n",
       "      <td>NaN</td>\n",
       "      <td>строительство жилой недвижимости</td>\n",
       "    </tr>\n",
       "  </tbody>\n",
       "</table>\n",
       "</div>"
      ],
      "text/plain": [
       "    children  days_employed  dob_years            education  education_id  \\\n",
       "0          1   -8437.673028         42               высшее             0   \n",
       "1          1   -4024.803754         36              среднее             1   \n",
       "2          0   -5623.422610         33              Среднее             1   \n",
       "3          3   -4124.747207         32              среднее             1   \n",
       "4          0  340266.072047         53              среднее             1   \n",
       "5          0    -926.185831         27               высшее             0   \n",
       "6          0   -2879.202052         43               высшее             0   \n",
       "7          0    -152.779569         50              СРЕДНЕЕ             1   \n",
       "8          2   -6929.865299         35               ВЫСШЕЕ             0   \n",
       "9          0   -2188.756445         41              среднее             1   \n",
       "10         2   -4171.483647         36               высшее             0   \n",
       "11         0    -792.701887         40              среднее             1   \n",
       "12         0            NaN         65              среднее             1   \n",
       "13         0   -1846.641941         54  неоконченное высшее             2   \n",
       "14         0   -1844.956182         56               высшее             0   \n",
       "15         1    -972.364419         26              среднее             1   \n",
       "16         0   -1719.934226         35              среднее             1   \n",
       "17         0   -2369.999720         33               высшее             0   \n",
       "18         0  400281.136913         53              среднее             1   \n",
       "19         0  -10038.818549         48              СРЕДНЕЕ             1   \n",
       "20         1   -1311.604166         36              среднее             1   \n",
       "21         1    -253.685166         33              среднее             1   \n",
       "22         1   -1766.644138         24              среднее             1   \n",
       "23         0    -272.981385         21               высшее             0   \n",
       "24         1  338551.952911         57              среднее             1   \n",
       "25         0  363548.489348         67              среднее             1   \n",
       "26         0            NaN         41              среднее             1   \n",
       "27         0    -529.191635         28               высшее             0   \n",
       "28         1    -717.274324         26               высшее             0   \n",
       "29         0            NaN         63              среднее             1   \n",
       "\n",
       "            family_status  family_status_id gender  income_type  debt  \\\n",
       "0         женат / замужем                 0      F    сотрудник     0   \n",
       "1         женат / замужем                 0      F    сотрудник     0   \n",
       "2         женат / замужем                 0      M    сотрудник     0   \n",
       "3         женат / замужем                 0      M    сотрудник     0   \n",
       "4        гражданский брак                 1      F    пенсионер     0   \n",
       "5        гражданский брак                 1      M    компаньон     0   \n",
       "6         женат / замужем                 0      F    компаньон     0   \n",
       "7         женат / замужем                 0      M    сотрудник     0   \n",
       "8        гражданский брак                 1      F    сотрудник     0   \n",
       "9         женат / замужем                 0      M    сотрудник     0   \n",
       "10        женат / замужем                 0      M    компаньон     0   \n",
       "11        женат / замужем                 0      F    сотрудник     0   \n",
       "12       гражданский брак                 1      M    пенсионер     0   \n",
       "13        женат / замужем                 0      F    сотрудник     0   \n",
       "14       гражданский брак                 1      F    компаньон     1   \n",
       "15        женат / замужем                 0      F    сотрудник     0   \n",
       "16        женат / замужем                 0      F    сотрудник     0   \n",
       "17       гражданский брак                 1      M    сотрудник     0   \n",
       "18         вдовец / вдова                 2      F    пенсионер     0   \n",
       "19              в разводе                 3      F    сотрудник     0   \n",
       "20        женат / замужем                 0      M    сотрудник     0   \n",
       "21       гражданский брак                 1      F    сотрудник     0   \n",
       "22       гражданский брак                 1      F    сотрудник     0   \n",
       "23       гражданский брак                 1      M    сотрудник     0   \n",
       "24  Не женат / не замужем                 4      F    пенсионер     0   \n",
       "25        женат / замужем                 0      M    пенсионер     0   \n",
       "26        женат / замужем                 0      M  госслужащий     0   \n",
       "27        женат / замужем                 0      M    сотрудник     0   \n",
       "28        женат / замужем                 0      F    сотрудник     0   \n",
       "29  Не женат / не замужем                 4      F    пенсионер     0   \n",
       "\n",
       "     total_income                                 purpose  \n",
       "0   253875.639453                           покупка жилья  \n",
       "1   112080.014102                 приобретение автомобиля  \n",
       "2   145885.952297                           покупка жилья  \n",
       "3   267628.550329              дополнительное образование  \n",
       "4   158616.077870                         сыграть свадьбу  \n",
       "5   255763.565419                           покупка жилья  \n",
       "6   240525.971920                       операции с жильем  \n",
       "7   135823.934197                             образование  \n",
       "8    95856.832424                   на проведение свадьбы  \n",
       "9   144425.938277                 покупка жилья для семьи  \n",
       "10  113943.491460                    покупка недвижимости  \n",
       "11   77069.234271       покупка коммерческой недвижимости  \n",
       "12            NaN                         сыграть свадьбу  \n",
       "13  130458.228857                 приобретение автомобиля  \n",
       "14  165127.911772              покупка жилой недвижимости  \n",
       "15  116820.904450  строительство собственной недвижимости  \n",
       "16  289202.704229                            недвижимость  \n",
       "17   90410.586745              строительство недвижимости  \n",
       "18   56823.777243      на покупку подержанного автомобиля  \n",
       "19  242831.107982            на покупку своего автомобиля  \n",
       "20  209552.644578                            недвижимость  \n",
       "21  131812.203909                 приобретение автомобиля  \n",
       "22  149681.140731      на покупку подержанного автомобиля  \n",
       "23  128265.720871                         сыграть свадьбу  \n",
       "24  290547.235997   операции с коммерческой недвижимостью  \n",
       "25   55112.757732                    покупка недвижимости  \n",
       "26            NaN                             образование  \n",
       "27  308848.983691  строительство собственной недвижимости  \n",
       "28  187863.237306  строительство собственной недвижимости  \n",
       "29            NaN        строительство жилой недвижимости  "
      ]
     },
     "execution_count": 3,
     "metadata": {},
     "output_type": "execute_result"
    }
   ],
   "source": [
    "df.head(30)"
   ]
  },
  {
   "cell_type": "markdown",
   "id": "cc39c25d",
   "metadata": {},
   "source": [
    "**Описание данных**:\n",
    "\n",
    " * children — количество детей в семье;\n",
    " * days_employed — общий трудовой стаж в днях;\n",
    " * dob_years — возраст клиента в годах;\n",
    " * education — уровень образования клиента;\n",
    " * education_id — идентификатор уровня образования;\n",
    " * family_status — семейное положение;\n",
    " * family_status_id — идентификатор семейного положения;\n",
    " * gender — пол клиента;\n",
    " * income_type — тип занятости;\n",
    " * debt — имел ли задолженность по возврату кредитов;\n",
    " * total_income — ежемесячный доход;\n",
    " * purpose — цель получения кредита.\n",
    " \n",
    "     Визуально можно обнаружить, что встречаются пропуски данных, а также есть дубликаты в данных из-за нарушения регистра при записи данных. Также пока не понятно, почему в некоторых строках общий трудовой стаж указан не целыми числами и с отрицательным значением. С этим нужно будет разобраться далее.     "
   ]
  },
  {
   "cell_type": "markdown",
   "id": "6412ef21",
   "metadata": {},
   "source": [
    "## Заполнение пропусков"
   ]
  },
  {
   "cell_type": "markdown",
   "id": "00647b74",
   "metadata": {},
   "source": [
    "Узнаем в каких столбцах могут встречаться пропуски в значениях:"
   ]
  },
  {
   "cell_type": "code",
   "execution_count": 4,
   "id": "82b8aff3",
   "metadata": {},
   "outputs": [
    {
     "name": "stdout",
     "output_type": "stream",
     "text": [
      "<class 'pandas.core.frame.DataFrame'>\n",
      "RangeIndex: 21525 entries, 0 to 21524\n",
      "Data columns (total 12 columns):\n",
      " #   Column            Non-Null Count  Dtype  \n",
      "---  ------            --------------  -----  \n",
      " 0   children          21525 non-null  int64  \n",
      " 1   days_employed     19351 non-null  float64\n",
      " 2   dob_years         21525 non-null  int64  \n",
      " 3   education         21525 non-null  object \n",
      " 4   education_id      21525 non-null  int64  \n",
      " 5   family_status     21525 non-null  object \n",
      " 6   family_status_id  21525 non-null  int64  \n",
      " 7   gender            21525 non-null  object \n",
      " 8   income_type       21525 non-null  object \n",
      " 9   debt              21525 non-null  int64  \n",
      " 10  total_income      19351 non-null  float64\n",
      " 11  purpose           21525 non-null  object \n",
      "dtypes: float64(2), int64(5), object(5)\n",
      "memory usage: 2.0+ MB\n"
     ]
    }
   ],
   "source": [
    "df.info()"
   ]
  },
  {
   "cell_type": "markdown",
   "id": "be1c6bb9",
   "metadata": {},
   "source": [
    "Количество значений в столбцах различается. Значит, в данных есть пропущенные значения в столбцах 'days_employed' и 'total_income'. Посчитаем количество пропусков в столбцах: \"days_employed\" и \"total_income\": "
   ]
  },
  {
   "cell_type": "code",
   "execution_count": 5,
   "id": "8a7f0cc6",
   "metadata": {},
   "outputs": [
    {
     "data": {
      "text/plain": [
       "children               0\n",
       "days_employed       2174\n",
       "dob_years              0\n",
       "education              0\n",
       "education_id           0\n",
       "family_status          0\n",
       "family_status_id       0\n",
       "gender                 0\n",
       "income_type            0\n",
       "debt                   0\n",
       "total_income        2174\n",
       "purpose                0\n",
       "dtype: int64"
      ]
     },
     "execution_count": 5,
     "metadata": {},
     "output_type": "execute_result"
    }
   ],
   "source": [
    "df.isna().sum()"
   ]
  },
  {
   "cell_type": "code",
   "execution_count": 6,
   "id": "77ddc6e7",
   "metadata": {},
   "outputs": [
    {
     "data": {
      "text/plain": [
       "children            0.000000\n",
       "days_employed       0.100999\n",
       "dob_years           0.000000\n",
       "education           0.000000\n",
       "education_id        0.000000\n",
       "family_status       0.000000\n",
       "family_status_id    0.000000\n",
       "gender              0.000000\n",
       "income_type         0.000000\n",
       "debt                0.000000\n",
       "total_income        0.100999\n",
       "purpose             0.000000\n",
       "dtype: float64"
      ]
     },
     "execution_count": 6,
     "metadata": {},
     "output_type": "execute_result"
    }
   ],
   "source": [
    "df.isna().mean()\n",
    "#процент пропусков"
   ]
  },
  {
   "cell_type": "markdown",
   "id": "c3b04f0c",
   "metadata": {},
   "source": [
    "**Пропущенных значений** - 2174 в каждом столбце. Всего строк в таблице - 21525. \n",
    "\n",
    "Процент пропущенных значений от общего числа строк - 10,1%.\n",
    "Так как доля пропусков значительная, удалить без влияния на данные мы ее не можем. \n",
    "Причин пропусков может быть несколько, например, неофициальное оформление, пенсионный статус, отсутсвие рабочего стажа и официального дохода и тд.\n",
    "\n",
    "Так как данные в обоих столбцах - количественные, мы заполним их характерными значениями, а именно медианным значением, так как ведь в данных могут быть выдающиеся значения, которые сместят среднее. "
   ]
  },
  {
   "cell_type": "markdown",
   "id": "4885f383",
   "metadata": {},
   "source": [
    "Также мы видим в столбцах 'days_employed' и 'children' аномальные значения со знаком минус. Такое могло произойти из-за ошибок при внесениии данных. Исправим их перед заполнением заполнением пропусков медианным значением:"
   ]
  },
  {
   "cell_type": "code",
   "execution_count": 7,
   "id": "cb2f25df",
   "metadata": {},
   "outputs": [],
   "source": [
    "df['days_employed'] = df['days_employed'].abs()    \n",
    "df['children'] = df['children'].abs() "
   ]
  },
  {
   "cell_type": "code",
   "execution_count": 8,
   "id": "c13b4793",
   "metadata": {},
   "outputs": [
    {
     "name": "stdout",
     "output_type": "stream",
     "text": [
      "days_employed_median 2194.220566878695\n",
      "total_income_median: 145017.93753253992\n"
     ]
    }
   ],
   "source": [
    "days_employed_median = df['days_employed'].median()\n",
    "print('days_employed_median', days_employed_median)\n",
    "\n",
    "total_income_median = df['total_income'].median()\n",
    "print('total_income_median:', total_income_median)"
   ]
  },
  {
   "cell_type": "markdown",
   "id": "62245086",
   "metadata": {},
   "source": [
    "Заменим пропуски на медианные значения в датасете:"
   ]
  },
  {
   "cell_type": "code",
   "execution_count": 9,
   "id": "c2cb1315",
   "metadata": {},
   "outputs": [],
   "source": [
    "df['days_employed'] = df['days_employed'].fillna(days_employed_median)\n",
    "df['total_income'] = df['total_income'].fillna(total_income_median)"
   ]
  },
  {
   "cell_type": "markdown",
   "id": "b3f986e4",
   "metadata": {},
   "source": [
    "Еще раз проверим количество пропусков:"
   ]
  },
  {
   "cell_type": "code",
   "execution_count": 10,
   "id": "6f41503b",
   "metadata": {},
   "outputs": [
    {
     "data": {
      "text/plain": [
       "children            0\n",
       "days_employed       0\n",
       "dob_years           0\n",
       "education           0\n",
       "education_id        0\n",
       "family_status       0\n",
       "family_status_id    0\n",
       "gender              0\n",
       "income_type         0\n",
       "debt                0\n",
       "total_income        0\n",
       "purpose             0\n",
       "dtype: int64"
      ]
     },
     "execution_count": 10,
     "metadata": {},
     "output_type": "execute_result"
    }
   ],
   "source": [
    "df.isna().sum()"
   ]
  },
  {
   "cell_type": "markdown",
   "id": "c96ce986",
   "metadata": {},
   "source": [
    "Пропусков в датасете не осталось, замена прошла успешно."
   ]
  },
  {
   "cell_type": "markdown",
   "id": "932af2d6",
   "metadata": {},
   "source": [
    "## Проверка данных на аномалии и исправления"
   ]
  },
  {
   "cell_type": "markdown",
   "id": "33d08168",
   "metadata": {},
   "source": [
    "Ранее мы обнаружили и исправили в столбце 'days_employed' аномальные значения со знаком минус. Такое могло произойти из-за ошибок при внесениии данных. \n",
    "\n",
    "Следующее, что бросается в глаза - это разный регистр данных в колонке 'education':"
   ]
  },
  {
   "cell_type": "code",
   "execution_count": 11,
   "id": "d3bab379",
   "metadata": {},
   "outputs": [
    {
     "data": {
      "text/html": [
       "<div>\n",
       "<style scoped>\n",
       "    .dataframe tbody tr th:only-of-type {\n",
       "        vertical-align: middle;\n",
       "    }\n",
       "\n",
       "    .dataframe tbody tr th {\n",
       "        vertical-align: top;\n",
       "    }\n",
       "\n",
       "    .dataframe thead th {\n",
       "        text-align: right;\n",
       "    }\n",
       "</style>\n",
       "<table border=\"1\" class=\"dataframe\">\n",
       "  <thead>\n",
       "    <tr style=\"text-align: right;\">\n",
       "      <th></th>\n",
       "      <th>children</th>\n",
       "      <th>days_employed</th>\n",
       "      <th>dob_years</th>\n",
       "      <th>education</th>\n",
       "      <th>education_id</th>\n",
       "      <th>family_status</th>\n",
       "      <th>family_status_id</th>\n",
       "      <th>gender</th>\n",
       "      <th>income_type</th>\n",
       "      <th>debt</th>\n",
       "      <th>total_income</th>\n",
       "      <th>purpose</th>\n",
       "    </tr>\n",
       "  </thead>\n",
       "  <tbody>\n",
       "    <tr>\n",
       "      <th>0</th>\n",
       "      <td>1</td>\n",
       "      <td>8437.673028</td>\n",
       "      <td>42</td>\n",
       "      <td>высшее</td>\n",
       "      <td>0</td>\n",
       "      <td>женат / замужем</td>\n",
       "      <td>0</td>\n",
       "      <td>F</td>\n",
       "      <td>сотрудник</td>\n",
       "      <td>0</td>\n",
       "      <td>253875.639453</td>\n",
       "      <td>покупка жилья</td>\n",
       "    </tr>\n",
       "    <tr>\n",
       "      <th>1</th>\n",
       "      <td>1</td>\n",
       "      <td>4024.803754</td>\n",
       "      <td>36</td>\n",
       "      <td>среднее</td>\n",
       "      <td>1</td>\n",
       "      <td>женат / замужем</td>\n",
       "      <td>0</td>\n",
       "      <td>F</td>\n",
       "      <td>сотрудник</td>\n",
       "      <td>0</td>\n",
       "      <td>112080.014102</td>\n",
       "      <td>приобретение автомобиля</td>\n",
       "    </tr>\n",
       "    <tr>\n",
       "      <th>2</th>\n",
       "      <td>0</td>\n",
       "      <td>5623.422610</td>\n",
       "      <td>33</td>\n",
       "      <td>Среднее</td>\n",
       "      <td>1</td>\n",
       "      <td>женат / замужем</td>\n",
       "      <td>0</td>\n",
       "      <td>M</td>\n",
       "      <td>сотрудник</td>\n",
       "      <td>0</td>\n",
       "      <td>145885.952297</td>\n",
       "      <td>покупка жилья</td>\n",
       "    </tr>\n",
       "    <tr>\n",
       "      <th>3</th>\n",
       "      <td>3</td>\n",
       "      <td>4124.747207</td>\n",
       "      <td>32</td>\n",
       "      <td>среднее</td>\n",
       "      <td>1</td>\n",
       "      <td>женат / замужем</td>\n",
       "      <td>0</td>\n",
       "      <td>M</td>\n",
       "      <td>сотрудник</td>\n",
       "      <td>0</td>\n",
       "      <td>267628.550329</td>\n",
       "      <td>дополнительное образование</td>\n",
       "    </tr>\n",
       "    <tr>\n",
       "      <th>4</th>\n",
       "      <td>0</td>\n",
       "      <td>340266.072047</td>\n",
       "      <td>53</td>\n",
       "      <td>среднее</td>\n",
       "      <td>1</td>\n",
       "      <td>гражданский брак</td>\n",
       "      <td>1</td>\n",
       "      <td>F</td>\n",
       "      <td>пенсионер</td>\n",
       "      <td>0</td>\n",
       "      <td>158616.077870</td>\n",
       "      <td>сыграть свадьбу</td>\n",
       "    </tr>\n",
       "  </tbody>\n",
       "</table>\n",
       "</div>"
      ],
      "text/plain": [
       "   children  days_employed  dob_years education  education_id  \\\n",
       "0         1    8437.673028         42    высшее             0   \n",
       "1         1    4024.803754         36   среднее             1   \n",
       "2         0    5623.422610         33   Среднее             1   \n",
       "3         3    4124.747207         32   среднее             1   \n",
       "4         0  340266.072047         53   среднее             1   \n",
       "\n",
       "      family_status  family_status_id gender income_type  debt   total_income  \\\n",
       "0   женат / замужем                 0      F   сотрудник     0  253875.639453   \n",
       "1   женат / замужем                 0      F   сотрудник     0  112080.014102   \n",
       "2   женат / замужем                 0      M   сотрудник     0  145885.952297   \n",
       "3   женат / замужем                 0      M   сотрудник     0  267628.550329   \n",
       "4  гражданский брак                 1      F   пенсионер     0  158616.077870   \n",
       "\n",
       "                      purpose  \n",
       "0               покупка жилья  \n",
       "1     приобретение автомобиля  \n",
       "2               покупка жилья  \n",
       "3  дополнительное образование  \n",
       "4             сыграть свадьбу  "
      ]
     },
     "execution_count": 11,
     "metadata": {},
     "output_type": "execute_result"
    }
   ],
   "source": [
    "df.head()"
   ]
  },
  {
   "cell_type": "markdown",
   "id": "e4081d86",
   "metadata": {},
   "source": [
    "Приведем данные в колонке 'education' к единому регистру:"
   ]
  },
  {
   "cell_type": "code",
   "execution_count": 12,
   "id": "45ad4755",
   "metadata": {},
   "outputs": [
    {
     "data": {
      "text/html": [
       "<div>\n",
       "<style scoped>\n",
       "    .dataframe tbody tr th:only-of-type {\n",
       "        vertical-align: middle;\n",
       "    }\n",
       "\n",
       "    .dataframe tbody tr th {\n",
       "        vertical-align: top;\n",
       "    }\n",
       "\n",
       "    .dataframe thead th {\n",
       "        text-align: right;\n",
       "    }\n",
       "</style>\n",
       "<table border=\"1\" class=\"dataframe\">\n",
       "  <thead>\n",
       "    <tr style=\"text-align: right;\">\n",
       "      <th></th>\n",
       "      <th>children</th>\n",
       "      <th>days_employed</th>\n",
       "      <th>dob_years</th>\n",
       "      <th>education</th>\n",
       "      <th>education_id</th>\n",
       "      <th>family_status</th>\n",
       "      <th>family_status_id</th>\n",
       "      <th>gender</th>\n",
       "      <th>income_type</th>\n",
       "      <th>debt</th>\n",
       "      <th>total_income</th>\n",
       "      <th>purpose</th>\n",
       "    </tr>\n",
       "  </thead>\n",
       "  <tbody>\n",
       "    <tr>\n",
       "      <th>0</th>\n",
       "      <td>1</td>\n",
       "      <td>8437.673028</td>\n",
       "      <td>42</td>\n",
       "      <td>высшее</td>\n",
       "      <td>0</td>\n",
       "      <td>женат / замужем</td>\n",
       "      <td>0</td>\n",
       "      <td>F</td>\n",
       "      <td>сотрудник</td>\n",
       "      <td>0</td>\n",
       "      <td>253875.639453</td>\n",
       "      <td>покупка жилья</td>\n",
       "    </tr>\n",
       "    <tr>\n",
       "      <th>1</th>\n",
       "      <td>1</td>\n",
       "      <td>4024.803754</td>\n",
       "      <td>36</td>\n",
       "      <td>среднее</td>\n",
       "      <td>1</td>\n",
       "      <td>женат / замужем</td>\n",
       "      <td>0</td>\n",
       "      <td>F</td>\n",
       "      <td>сотрудник</td>\n",
       "      <td>0</td>\n",
       "      <td>112080.014102</td>\n",
       "      <td>приобретение автомобиля</td>\n",
       "    </tr>\n",
       "    <tr>\n",
       "      <th>2</th>\n",
       "      <td>0</td>\n",
       "      <td>5623.422610</td>\n",
       "      <td>33</td>\n",
       "      <td>среднее</td>\n",
       "      <td>1</td>\n",
       "      <td>женат / замужем</td>\n",
       "      <td>0</td>\n",
       "      <td>M</td>\n",
       "      <td>сотрудник</td>\n",
       "      <td>0</td>\n",
       "      <td>145885.952297</td>\n",
       "      <td>покупка жилья</td>\n",
       "    </tr>\n",
       "    <tr>\n",
       "      <th>3</th>\n",
       "      <td>3</td>\n",
       "      <td>4124.747207</td>\n",
       "      <td>32</td>\n",
       "      <td>среднее</td>\n",
       "      <td>1</td>\n",
       "      <td>женат / замужем</td>\n",
       "      <td>0</td>\n",
       "      <td>M</td>\n",
       "      <td>сотрудник</td>\n",
       "      <td>0</td>\n",
       "      <td>267628.550329</td>\n",
       "      <td>дополнительное образование</td>\n",
       "    </tr>\n",
       "    <tr>\n",
       "      <th>4</th>\n",
       "      <td>0</td>\n",
       "      <td>340266.072047</td>\n",
       "      <td>53</td>\n",
       "      <td>среднее</td>\n",
       "      <td>1</td>\n",
       "      <td>гражданский брак</td>\n",
       "      <td>1</td>\n",
       "      <td>F</td>\n",
       "      <td>пенсионер</td>\n",
       "      <td>0</td>\n",
       "      <td>158616.077870</td>\n",
       "      <td>сыграть свадьбу</td>\n",
       "    </tr>\n",
       "  </tbody>\n",
       "</table>\n",
       "</div>"
      ],
      "text/plain": [
       "   children  days_employed  dob_years education  education_id  \\\n",
       "0         1    8437.673028         42    высшее             0   \n",
       "1         1    4024.803754         36   среднее             1   \n",
       "2         0    5623.422610         33   среднее             1   \n",
       "3         3    4124.747207         32   среднее             1   \n",
       "4         0  340266.072047         53   среднее             1   \n",
       "\n",
       "      family_status  family_status_id gender income_type  debt   total_income  \\\n",
       "0   женат / замужем                 0      F   сотрудник     0  253875.639453   \n",
       "1   женат / замужем                 0      F   сотрудник     0  112080.014102   \n",
       "2   женат / замужем                 0      M   сотрудник     0  145885.952297   \n",
       "3   женат / замужем                 0      M   сотрудник     0  267628.550329   \n",
       "4  гражданский брак                 1      F   пенсионер     0  158616.077870   \n",
       "\n",
       "                      purpose  \n",
       "0               покупка жилья  \n",
       "1     приобретение автомобиля  \n",
       "2               покупка жилья  \n",
       "3  дополнительное образование  \n",
       "4             сыграть свадьбу  "
      ]
     },
     "execution_count": 12,
     "metadata": {},
     "output_type": "execute_result"
    }
   ],
   "source": [
    "df['education'] = df['education'].str.lower()\n",
    "df.head()"
   ]
  },
  {
   "cell_type": "markdown",
   "id": "dd5cb24b",
   "metadata": {},
   "source": [
    "Ошибки в регистре исправлены."
   ]
  },
  {
   "cell_type": "markdown",
   "id": "2b6461d9",
   "metadata": {},
   "source": [
    "Проверим значения в колонке \"children\":"
   ]
  },
  {
   "cell_type": "code",
   "execution_count": 13,
   "id": "6028de6f",
   "metadata": {},
   "outputs": [
    {
     "data": {
      "text/plain": [
       "array([ 0,  1,  2,  3,  4,  5, 20], dtype=int64)"
      ]
     },
     "execution_count": 13,
     "metadata": {},
     "output_type": "execute_result"
    }
   ],
   "source": [
    "df['children'].sort_values().unique()"
   ]
  },
  {
   "cell_type": "code",
   "execution_count": 14,
   "id": "2bf43b0e",
   "metadata": {},
   "outputs": [
    {
     "data": {
      "text/plain": [
       "0     14149\n",
       "1      4865\n",
       "2      2055\n",
       "3       330\n",
       "20       76\n",
       "4        41\n",
       "5         9\n",
       "Name: children, dtype: int64"
      ]
     },
     "execution_count": 14,
     "metadata": {},
     "output_type": "execute_result"
    }
   ],
   "source": [
    "df['children'].value_counts()\n",
    "#посмотрим сколько чего в процентном соотношении"
   ]
  },
  {
   "cell_type": "markdown",
   "id": "7f6e313e",
   "metadata": {},
   "source": [
    "Значение в 20 детей кажется неправдоподобным, скорее всего это просто ошибка (клиент или сотрудник банка случайно поставил \"0\" после \"2\". Таких значений от общего числа совсем немного, исправим их на \"2\":"
   ]
  },
  {
   "cell_type": "code",
   "execution_count": 15,
   "id": "160cbc3a",
   "metadata": {},
   "outputs": [
    {
     "data": {
      "text/plain": [
       "0    14149\n",
       "1     4865\n",
       "2     2131\n",
       "3      330\n",
       "4       41\n",
       "5        9\n",
       "Name: children, dtype: int64"
      ]
     },
     "execution_count": 15,
     "metadata": {},
     "output_type": "execute_result"
    }
   ],
   "source": [
    "df['children'] = df['children'].replace(20, 2)\n",
    "df['children'].value_counts()"
   ]
  },
  {
   "cell_type": "markdown",
   "id": "ccb85e60",
   "metadata": {},
   "source": [
    "Замена прошла успешно.\n",
    "Далее посмотрим столбец \"dob_years\":"
   ]
  },
  {
   "cell_type": "code",
   "execution_count": 16,
   "id": "cba5246e",
   "metadata": {},
   "outputs": [
    {
     "data": {
      "text/plain": [
       "array([ 0, 19, 20, 21, 22, 23, 24, 25, 26, 27, 28, 29, 30, 31, 32, 33, 34,\n",
       "       35, 36, 37, 38, 39, 40, 41, 42, 43, 44, 45, 46, 47, 48, 49, 50, 51,\n",
       "       52, 53, 54, 55, 56, 57, 58, 59, 60, 61, 62, 63, 64, 65, 66, 67, 68,\n",
       "       69, 70, 71, 72, 73, 74, 75], dtype=int64)"
      ]
     },
     "execution_count": 16,
     "metadata": {},
     "output_type": "execute_result"
    }
   ],
   "source": [
    "df['dob_years'].sort_values().unique()"
   ]
  },
  {
   "cell_type": "markdown",
   "id": "5e3efbe9",
   "metadata": {},
   "source": [
    "Тут аномалия - \"0\". Посмотрим сколько таких значений в столбце:"
   ]
  },
  {
   "cell_type": "code",
   "execution_count": 17,
   "id": "911238fe",
   "metadata": {},
   "outputs": [
    {
     "data": {
      "text/plain": [
       "35    617\n",
       "40    609\n",
       "41    607\n",
       "34    603\n",
       "38    598\n",
       "42    597\n",
       "33    581\n",
       "39    573\n",
       "31    560\n",
       "36    555\n",
       "44    547\n",
       "29    545\n",
       "30    540\n",
       "48    538\n",
       "37    537\n",
       "50    514\n",
       "43    513\n",
       "32    510\n",
       "49    508\n",
       "28    503\n",
       "45    497\n",
       "27    493\n",
       "56    487\n",
       "52    484\n",
       "47    480\n",
       "54    479\n",
       "46    475\n",
       "58    461\n",
       "57    460\n",
       "53    459\n",
       "51    448\n",
       "59    444\n",
       "55    443\n",
       "26    408\n",
       "60    377\n",
       "25    357\n",
       "61    355\n",
       "62    352\n",
       "63    269\n",
       "64    265\n",
       "24    264\n",
       "23    254\n",
       "65    194\n",
       "22    183\n",
       "66    183\n",
       "67    167\n",
       "21    111\n",
       "0     101\n",
       "68     99\n",
       "69     85\n",
       "70     65\n",
       "71     58\n",
       "20     51\n",
       "72     33\n",
       "19     14\n",
       "73      8\n",
       "74      6\n",
       "75      1\n",
       "Name: dob_years, dtype: int64"
      ]
     },
     "execution_count": 17,
     "metadata": {},
     "output_type": "execute_result"
    }
   ],
   "source": [
    "df['dob_years'].value_counts()"
   ]
  },
  {
   "cell_type": "markdown",
   "id": "23c03dc7",
   "metadata": {},
   "source": [
    "Понять по какой причине стоит такое значение мы не сможем, вероятно это ошибка либо заполнения, либо выгрузки. \n",
    "Так как в задаче по исследованию не стоит цели проанализировать что-либо по возрасту клиента, удалять данные на мой взгляд не целесообразно. Дальнейшей работе эта аномалия не помешает, а данные из других колонок этих строк помогут в анализе.\n",
    "\n",
    "Далее проверим столбец \"gender\":"
   ]
  },
  {
   "cell_type": "code",
   "execution_count": 18,
   "id": "71415f2c",
   "metadata": {},
   "outputs": [
    {
     "data": {
      "text/plain": [
       "F      14236\n",
       "M       7288\n",
       "XNA        1\n",
       "Name: gender, dtype: int64"
      ]
     },
     "execution_count": 18,
     "metadata": {},
     "output_type": "execute_result"
    }
   ],
   "source": [
    "df['gender'].value_counts()"
   ]
  },
  {
   "cell_type": "markdown",
   "id": "4570f1ae",
   "metadata": {},
   "source": [
    "Непонятное значение \"XNA\", вероятно вписанное по ошибке, мы можем смело удалить, так как оно всего в 1 строке."
   ]
  },
  {
   "cell_type": "code",
   "execution_count": 19,
   "id": "7096a9cd",
   "metadata": {},
   "outputs": [
    {
     "data": {
      "text/plain": [
       "F    14236\n",
       "M     7288\n",
       "Name: gender, dtype: int64"
      ]
     },
     "execution_count": 19,
     "metadata": {},
     "output_type": "execute_result"
    }
   ],
   "source": [
    "df.drop(df[df.gender =='XNA'].index, inplace=True)\n",
    "#проверяем:\n",
    "df['gender'].value_counts()"
   ]
  },
  {
   "cell_type": "markdown",
   "id": "b3473b6b",
   "metadata": {},
   "source": [
    "Ошибка успешно удалена."
   ]
  },
  {
   "cell_type": "markdown",
   "id": "4bdc234d",
   "metadata": {},
   "source": [
    "## Изменение типов данных"
   ]
  },
  {
   "cell_type": "markdown",
   "id": "8080565b",
   "metadata": {},
   "source": [
    "Для удобства изменим тип данных в столбцах 'days_employed' и 'total_income' с дробных на целочисленные:"
   ]
  },
  {
   "cell_type": "code",
   "execution_count": 20,
   "id": "84e94bf4",
   "metadata": {},
   "outputs": [
    {
     "data": {
      "text/plain": [
       "<bound method DataFrame.info of        children  days_employed  dob_years education  education_id  \\\n",
       "0             1           8437         42    высшее             0   \n",
       "1             1           4024         36   среднее             1   \n",
       "2             0           5623         33   среднее             1   \n",
       "3             3           4124         32   среднее             1   \n",
       "4             0         340266         53   среднее             1   \n",
       "...         ...            ...        ...       ...           ...   \n",
       "21520         1           4529         43   среднее             1   \n",
       "21521         0         343937         67   среднее             1   \n",
       "21522         1           2113         38   среднее             1   \n",
       "21523         3           3112         38   среднее             1   \n",
       "21524         2           1984         40   среднее             1   \n",
       "\n",
       "          family_status  family_status_id gender income_type  debt  \\\n",
       "0       женат / замужем                 0      F   сотрудник     0   \n",
       "1       женат / замужем                 0      F   сотрудник     0   \n",
       "2       женат / замужем                 0      M   сотрудник     0   \n",
       "3       женат / замужем                 0      M   сотрудник     0   \n",
       "4      гражданский брак                 1      F   пенсионер     0   \n",
       "...                 ...               ...    ...         ...   ...   \n",
       "21520  гражданский брак                 1      F   компаньон     0   \n",
       "21521   женат / замужем                 0      F   пенсионер     0   \n",
       "21522  гражданский брак                 1      M   сотрудник     1   \n",
       "21523   женат / замужем                 0      M   сотрудник     1   \n",
       "21524   женат / замужем                 0      F   сотрудник     0   \n",
       "\n",
       "       total_income                       purpose  \n",
       "0            253875                 покупка жилья  \n",
       "1            112080       приобретение автомобиля  \n",
       "2            145885                 покупка жилья  \n",
       "3            267628    дополнительное образование  \n",
       "4            158616               сыграть свадьбу  \n",
       "...             ...                           ...  \n",
       "21520        224791             операции с жильем  \n",
       "21521        155999          сделка с автомобилем  \n",
       "21522         89672                  недвижимость  \n",
       "21523        244093  на покупку своего автомобиля  \n",
       "21524         82047         на покупку автомобиля  \n",
       "\n",
       "[21524 rows x 12 columns]>"
      ]
     },
     "execution_count": 20,
     "metadata": {},
     "output_type": "execute_result"
    }
   ],
   "source": [
    "df['days_employed'] = df['days_employed'].astype(int)\n",
    "df['total_income'] = df['total_income'].astype(int)\n",
    "df.info"
   ]
  },
  {
   "cell_type": "markdown",
   "id": "9f1517d7",
   "metadata": {},
   "source": [
    "## Удаление дубликатов"
   ]
  },
  {
   "cell_type": "markdown",
   "id": "b1b99acd",
   "metadata": {},
   "source": [
    "Проверим данные на явные дубликаты:"
   ]
  },
  {
   "cell_type": "code",
   "execution_count": 21,
   "id": "e05427ce",
   "metadata": {},
   "outputs": [
    {
     "data": {
      "text/plain": [
       "71"
      ]
     },
     "execution_count": 21,
     "metadata": {},
     "output_type": "execute_result"
    }
   ],
   "source": [
    " df.duplicated().sum()"
   ]
  },
  {
   "cell_type": "markdown",
   "id": "a0f9583b",
   "metadata": {},
   "source": [
    "Удалим явные дубликаты:"
   ]
  },
  {
   "cell_type": "code",
   "execution_count": 22,
   "id": "6bd24ba9",
   "metadata": {},
   "outputs": [],
   "source": [
    "df=df.drop_duplicates().reset_index(drop=True)"
   ]
  },
  {
   "cell_type": "markdown",
   "id": "83edcfb8",
   "metadata": {},
   "source": [
    "Проверим, все ли удалилось:\n"
   ]
  },
  {
   "cell_type": "code",
   "execution_count": 23,
   "id": "b5d93e19",
   "metadata": {},
   "outputs": [
    {
     "data": {
      "text/plain": [
       "0"
      ]
     },
     "execution_count": 23,
     "metadata": {},
     "output_type": "execute_result"
    }
   ],
   "source": [
    " df.duplicated().sum()"
   ]
  },
  {
   "cell_type": "markdown",
   "id": "0b4ac72d",
   "metadata": {},
   "source": [
    "Все явные дубликаты успешно удалены.\n",
    "\n",
    "Теперь посмотрим по столбцам списки уникальных значений, чтобы выявить неявные дубликаты. Пройдемся по всем столбцам с неколичественными данными по очереди:"
   ]
  },
  {
   "cell_type": "code",
   "execution_count": 24,
   "id": "3cdd8448",
   "metadata": {},
   "outputs": [
    {
     "data": {
      "text/plain": [
       "array(['высшее', 'начальное', 'неоконченное высшее', 'среднее',\n",
       "       'ученая степень'], dtype=object)"
      ]
     },
     "execution_count": 24,
     "metadata": {},
     "output_type": "execute_result"
    }
   ],
   "source": [
    "df['education'].sort_values().unique()\n",
    "#уникальные значения в столбце 'education'"
   ]
  },
  {
   "cell_type": "code",
   "execution_count": 25,
   "id": "1adf9e34",
   "metadata": {},
   "outputs": [
    {
     "data": {
      "text/plain": [
       "array(['Не женат / не замужем', 'в разводе', 'вдовец / вдова',\n",
       "       'гражданский брак', 'женат / замужем'], dtype=object)"
      ]
     },
     "execution_count": 25,
     "metadata": {},
     "output_type": "execute_result"
    }
   ],
   "source": [
    "df['family_status'].sort_values().unique()\n",
    "#уникальные значения в столбце 'family_status'"
   ]
  },
  {
   "cell_type": "code",
   "execution_count": 26,
   "id": "878ee7e7",
   "metadata": {},
   "outputs": [
    {
     "data": {
      "text/plain": [
       "array(['безработный', 'в декрете', 'госслужащий', 'компаньон',\n",
       "       'пенсионер', 'предприниматель', 'сотрудник', 'студент'],\n",
       "      dtype=object)"
      ]
     },
     "execution_count": 26,
     "metadata": {},
     "output_type": "execute_result"
    }
   ],
   "source": [
    "df['income_type'].sort_values().unique()\n",
    "#уникальные значения в столбце 'income_type'"
   ]
  },
  {
   "cell_type": "code",
   "execution_count": 27,
   "id": "9afab9ca",
   "metadata": {},
   "outputs": [
    {
     "data": {
      "text/plain": [
       "array(['автомобили', 'автомобиль', 'высшее образование',\n",
       "       'дополнительное образование', 'жилье',\n",
       "       'заняться высшим образованием', 'заняться образованием',\n",
       "       'на покупку автомобиля', 'на покупку подержанного автомобиля',\n",
       "       'на покупку своего автомобиля', 'на проведение свадьбы',\n",
       "       'недвижимость', 'образование', 'операции с жильем',\n",
       "       'операции с коммерческой недвижимостью',\n",
       "       'операции с недвижимостью', 'операции со своей недвижимостью',\n",
       "       'покупка жилой недвижимости', 'покупка жилья',\n",
       "       'покупка жилья для сдачи', 'покупка жилья для семьи',\n",
       "       'покупка коммерческой недвижимости', 'покупка недвижимости',\n",
       "       'покупка своего жилья', 'получение высшего образования',\n",
       "       'получение дополнительного образования', 'получение образования',\n",
       "       'приобретение автомобиля', 'профильное образование',\n",
       "       'ремонт жилью', 'свадьба', 'свой автомобиль',\n",
       "       'сделка с автомобилем', 'сделка с подержанным автомобилем',\n",
       "       'строительство жилой недвижимости', 'строительство недвижимости',\n",
       "       'строительство собственной недвижимости', 'сыграть свадьбу'],\n",
       "      dtype=object)"
      ]
     },
     "execution_count": 27,
     "metadata": {},
     "output_type": "execute_result"
    }
   ],
   "source": [
    "df['purpose'].sort_values().unique()\n",
    "#уникальные значения в столбце ''purpose'"
   ]
  },
  {
   "cell_type": "markdown",
   "id": "e0464c6f",
   "metadata": {},
   "source": [
    "В столбце **'purpose'** неявные дубликаты обнаружены и не один. Исправим их, заменив дублирующие значения с разным написанием на одно значение:"
   ]
  },
  {
   "cell_type": "code",
   "execution_count": 28,
   "id": "6d846b0e",
   "metadata": {},
   "outputs": [
    {
     "data": {
      "text/plain": [
       "array(['образование', 'операции с автомобилем',\n",
       "       'операции с недвижимостью', 'проведение свадьбы'], dtype=object)"
      ]
     },
     "execution_count": 28,
     "metadata": {},
     "output_type": "execute_result"
    }
   ],
   "source": [
    "# Замена в категории \"сделки с автомобилем\":\n",
    "\n",
    "def replace_wrong_values(wrong_values, correct_value):\n",
    "    for wrong_value in wrong_values:\n",
    "        df['purpose'] = df['purpose'].replace(wrong_value, correct_value)\n",
    "\n",
    "\n",
    "duplicates = ['на покупку автомобиля', 'сделка с автомобилем', 'сделка с подержанным автомобилем', \n",
    "              'свой автомобиль', 'автомобиль', 'на покупку своего автомобиля', 'автомобили', 'приобретение автомобиля', \n",
    "              'на покупку подержанного автомобиля']\n",
    "name = 'операции с автомобилем'\n",
    "replace_wrong_values(duplicates, name)\n",
    "\n",
    "\n",
    "# Замена в категории \"образование\":\n",
    "\n",
    "def replace_wrong_values(wrong_values, correct_value):\n",
    "    for wrong_value in wrong_values:\n",
    "        df['purpose'] = df['purpose'].replace(wrong_value, correct_value)\n",
    "\n",
    "\n",
    "duplicates = ['высшее образование', 'профильное образование', 'получение образования', 'заняться образованием',\n",
    "              'заняться высшим образованием', 'получение высшего образования', 'дополнительное образование', \n",
    "              'получение дополнительного образования']\n",
    "name = 'образование'\n",
    "replace_wrong_values(duplicates, name)\n",
    "\n",
    "\n",
    "# Замена в категории \"недвижимость:\"\n",
    "def replace_wrong_values(wrong_values, correct_value):\n",
    "    for wrong_value in wrong_values:\n",
    "        df['purpose'] = df['purpose'].replace(wrong_value, correct_value)\n",
    "\n",
    "\n",
    "duplicates = ['жилье', 'ремонт жилью', 'недвижимость', 'строительство жилой недвижимости', 'строительство недвижимости', \n",
    "              'строительство собственной недвижимости', 'операции с жильем', 'операции с коммерческой недвижимостью',\n",
    "              'операции со своей недвижимостью', 'покупка жилой недвижимости', 'покупка жилья', 'покупка жилья для сдачи', \n",
    "              'покупка жилья для семьи', 'покупка коммерческой недвижимости', 'покупка недвижимости', 'покупка своего жилья']\n",
    "name = 'операции с недвижимостью'\n",
    "replace_wrong_values(duplicates, name)\n",
    "\n",
    "\n",
    "# Замена в категории \"свадьба\":\n",
    "\n",
    "def replace_wrong_values(wrong_values, correct_value):\n",
    "    for wrong_value in wrong_values:\n",
    "        df['purpose'] = df['purpose'].replace(wrong_value, correct_value)\n",
    "\n",
    "\n",
    "duplicates = ['на проведение свадьбы', 'свадьба',\n",
    "              'проведение свадьбы', 'сыграть свадьбу']\n",
    "name = 'проведение свадьбы'\n",
    "replace_wrong_values(duplicates, name)\n",
    "\n",
    "# Проверка\n",
    "\n",
    "df['purpose'].sort_values().unique()\n",
    "# проверка значений"
   ]
  },
  {
   "cell_type": "markdown",
   "id": "eab943f7",
   "metadata": {},
   "source": [
    "**Вывод по шагу:** все найденные явные и неявные дубликаты удалены. Для удаления явных дубликатов мы использовали метод drop_duplicates().reset_index(), который не только удалил дубли, но и восстановил корректную нумерацию строк. Для выявления неявных дубликатов мы смотрели уникальные значения в каждом столбце с неколичественными данными. Это помогло установить и исправить неявные дубликаты, которые могли появиться из-за того, что: 1) использован неверный регистр при написании 2) данные заполнялись клиентом/сотрудником вручную из-за чего одни и те же категории написаны с некоторыми отличиями, а также содержат ошибки/опечатки."
   ]
  },
  {
   "cell_type": "markdown",
   "id": "c4aaf5e5",
   "metadata": {},
   "source": [
    "## Формирование дополнительных датафреймов словарей, декомпозиция исходного датафрейма"
   ]
  },
  {
   "cell_type": "markdown",
   "id": "f0520413",
   "metadata": {},
   "source": [
    "Создадим датасет-cловарь в котором, содержится соотношение 'education_id' и 'education':"
   ]
  },
  {
   "cell_type": "code",
   "execution_count": 29,
   "id": "504ab02e",
   "metadata": {},
   "outputs": [
    {
     "data": {
      "text/html": [
       "<div>\n",
       "<style scoped>\n",
       "    .dataframe tbody tr th:only-of-type {\n",
       "        vertical-align: middle;\n",
       "    }\n",
       "\n",
       "    .dataframe tbody tr th {\n",
       "        vertical-align: top;\n",
       "    }\n",
       "\n",
       "    .dataframe thead th {\n",
       "        text-align: right;\n",
       "    }\n",
       "</style>\n",
       "<table border=\"1\" class=\"dataframe\">\n",
       "  <thead>\n",
       "    <tr style=\"text-align: right;\">\n",
       "      <th></th>\n",
       "      <th>education_id</th>\n",
       "    </tr>\n",
       "    <tr>\n",
       "      <th>education</th>\n",
       "      <th></th>\n",
       "    </tr>\n",
       "  </thead>\n",
       "  <tbody>\n",
       "    <tr>\n",
       "      <th>высшее</th>\n",
       "      <td>0</td>\n",
       "    </tr>\n",
       "    <tr>\n",
       "      <th>начальное</th>\n",
       "      <td>3</td>\n",
       "    </tr>\n",
       "    <tr>\n",
       "      <th>неоконченное высшее</th>\n",
       "      <td>2</td>\n",
       "    </tr>\n",
       "    <tr>\n",
       "      <th>среднее</th>\n",
       "      <td>1</td>\n",
       "    </tr>\n",
       "    <tr>\n",
       "      <th>ученая степень</th>\n",
       "      <td>4</td>\n",
       "    </tr>\n",
       "  </tbody>\n",
       "</table>\n",
       "</div>"
      ],
      "text/plain": [
       "                     education_id\n",
       "education                        \n",
       "высшее                          0\n",
       "начальное                       3\n",
       "неоконченное высшее             2\n",
       "среднее                         1\n",
       "ученая степень                  4"
      ]
     },
     "metadata": {},
     "output_type": "display_data"
    }
   ],
   "source": [
    "df_pivot_education = df.pivot_table(index ='education', values = 'education_id')\n",
    "display(df_pivot_education)"
   ]
  },
  {
   "cell_type": "markdown",
   "id": "0b889d49",
   "metadata": {},
   "source": [
    "Создадим второй датасет-словарь в котором, содержится соотношение 'family_status' и 'family_status_id':"
   ]
  },
  {
   "cell_type": "code",
   "execution_count": 30,
   "id": "366c52a9",
   "metadata": {},
   "outputs": [
    {
     "data": {
      "text/html": [
       "<div>\n",
       "<style scoped>\n",
       "    .dataframe tbody tr th:only-of-type {\n",
       "        vertical-align: middle;\n",
       "    }\n",
       "\n",
       "    .dataframe tbody tr th {\n",
       "        vertical-align: top;\n",
       "    }\n",
       "\n",
       "    .dataframe thead th {\n",
       "        text-align: right;\n",
       "    }\n",
       "</style>\n",
       "<table border=\"1\" class=\"dataframe\">\n",
       "  <thead>\n",
       "    <tr style=\"text-align: right;\">\n",
       "      <th></th>\n",
       "      <th>family_status_id</th>\n",
       "    </tr>\n",
       "    <tr>\n",
       "      <th>family_status</th>\n",
       "      <th></th>\n",
       "    </tr>\n",
       "  </thead>\n",
       "  <tbody>\n",
       "    <tr>\n",
       "      <th>Не женат / не замужем</th>\n",
       "      <td>4</td>\n",
       "    </tr>\n",
       "    <tr>\n",
       "      <th>в разводе</th>\n",
       "      <td>3</td>\n",
       "    </tr>\n",
       "    <tr>\n",
       "      <th>вдовец / вдова</th>\n",
       "      <td>2</td>\n",
       "    </tr>\n",
       "    <tr>\n",
       "      <th>гражданский брак</th>\n",
       "      <td>1</td>\n",
       "    </tr>\n",
       "    <tr>\n",
       "      <th>женат / замужем</th>\n",
       "      <td>0</td>\n",
       "    </tr>\n",
       "  </tbody>\n",
       "</table>\n",
       "</div>"
      ],
      "text/plain": [
       "                       family_status_id\n",
       "family_status                          \n",
       "Не женат / не замужем                 4\n",
       "в разводе                             3\n",
       "вдовец / вдова                        2\n",
       "гражданский брак                      1\n",
       "женат / замужем                       0"
      ]
     },
     "metadata": {},
     "output_type": "display_data"
    }
   ],
   "source": [
    "df_pivot_family = df.pivot_table(index ='family_status', values = 'family_status_id')\n",
    "display(df_pivot_family)"
   ]
  },
  {
   "cell_type": "markdown",
   "id": "255be07d",
   "metadata": {},
   "source": [
    "Теперь мы мождем удалить колонки 'education' и 'family_status' и сделать датасет компактнее:"
   ]
  },
  {
   "cell_type": "code",
   "execution_count": 31,
   "id": "ab1ee8da",
   "metadata": {},
   "outputs": [
    {
     "data": {
      "text/html": [
       "<div>\n",
       "<style scoped>\n",
       "    .dataframe tbody tr th:only-of-type {\n",
       "        vertical-align: middle;\n",
       "    }\n",
       "\n",
       "    .dataframe tbody tr th {\n",
       "        vertical-align: top;\n",
       "    }\n",
       "\n",
       "    .dataframe thead th {\n",
       "        text-align: right;\n",
       "    }\n",
       "</style>\n",
       "<table border=\"1\" class=\"dataframe\">\n",
       "  <thead>\n",
       "    <tr style=\"text-align: right;\">\n",
       "      <th></th>\n",
       "      <th>children</th>\n",
       "      <th>days_employed</th>\n",
       "      <th>dob_years</th>\n",
       "      <th>education_id</th>\n",
       "      <th>family_status_id</th>\n",
       "      <th>gender</th>\n",
       "      <th>income_type</th>\n",
       "      <th>debt</th>\n",
       "      <th>total_income</th>\n",
       "      <th>purpose</th>\n",
       "    </tr>\n",
       "  </thead>\n",
       "  <tbody>\n",
       "    <tr>\n",
       "      <th>0</th>\n",
       "      <td>1</td>\n",
       "      <td>8437</td>\n",
       "      <td>42</td>\n",
       "      <td>0</td>\n",
       "      <td>0</td>\n",
       "      <td>F</td>\n",
       "      <td>сотрудник</td>\n",
       "      <td>0</td>\n",
       "      <td>253875</td>\n",
       "      <td>операции с недвижимостью</td>\n",
       "    </tr>\n",
       "    <tr>\n",
       "      <th>1</th>\n",
       "      <td>1</td>\n",
       "      <td>4024</td>\n",
       "      <td>36</td>\n",
       "      <td>1</td>\n",
       "      <td>0</td>\n",
       "      <td>F</td>\n",
       "      <td>сотрудник</td>\n",
       "      <td>0</td>\n",
       "      <td>112080</td>\n",
       "      <td>операции с автомобилем</td>\n",
       "    </tr>\n",
       "    <tr>\n",
       "      <th>2</th>\n",
       "      <td>0</td>\n",
       "      <td>5623</td>\n",
       "      <td>33</td>\n",
       "      <td>1</td>\n",
       "      <td>0</td>\n",
       "      <td>M</td>\n",
       "      <td>сотрудник</td>\n",
       "      <td>0</td>\n",
       "      <td>145885</td>\n",
       "      <td>операции с недвижимостью</td>\n",
       "    </tr>\n",
       "    <tr>\n",
       "      <th>3</th>\n",
       "      <td>3</td>\n",
       "      <td>4124</td>\n",
       "      <td>32</td>\n",
       "      <td>1</td>\n",
       "      <td>0</td>\n",
       "      <td>M</td>\n",
       "      <td>сотрудник</td>\n",
       "      <td>0</td>\n",
       "      <td>267628</td>\n",
       "      <td>образование</td>\n",
       "    </tr>\n",
       "    <tr>\n",
       "      <th>4</th>\n",
       "      <td>0</td>\n",
       "      <td>340266</td>\n",
       "      <td>53</td>\n",
       "      <td>1</td>\n",
       "      <td>1</td>\n",
       "      <td>F</td>\n",
       "      <td>пенсионер</td>\n",
       "      <td>0</td>\n",
       "      <td>158616</td>\n",
       "      <td>проведение свадьбы</td>\n",
       "    </tr>\n",
       "  </tbody>\n",
       "</table>\n",
       "</div>"
      ],
      "text/plain": [
       "   children  days_employed  dob_years  education_id  family_status_id gender  \\\n",
       "0         1           8437         42             0                 0      F   \n",
       "1         1           4024         36             1                 0      F   \n",
       "2         0           5623         33             1                 0      M   \n",
       "3         3           4124         32             1                 0      M   \n",
       "4         0         340266         53             1                 1      F   \n",
       "\n",
       "  income_type  debt  total_income                   purpose  \n",
       "0   сотрудник     0        253875  операции с недвижимостью  \n",
       "1   сотрудник     0        112080    операции с автомобилем  \n",
       "2   сотрудник     0        145885  операции с недвижимостью  \n",
       "3   сотрудник     0        267628               образование  \n",
       "4   пенсионер     0        158616        проведение свадьбы  "
      ]
     },
     "execution_count": 31,
     "metadata": {},
     "output_type": "execute_result"
    }
   ],
   "source": [
    "df = df.drop(columns = ['education', 'family_status'],axis = 1)\n",
    "df.head()"
   ]
  },
  {
   "cell_type": "markdown",
   "id": "04d8007c",
   "metadata": {},
   "source": [
    "Теперь датасет полностью подготовлен для дальнейшего анализа."
   ]
  },
  {
   "cell_type": "markdown",
   "id": "04740374",
   "metadata": {},
   "source": [
    "## Категоризация дохода"
   ]
  },
  {
   "cell_type": "markdown",
   "id": "3f19778e",
   "metadata": {},
   "source": [
    "Так как данные в датафрейме расположены более, чем на 20 тысячах строк, сгруппируем данные о доходе по нескольким категориям по доходу для удобства и добавим дополнительный столбец с этими данными в датафрейм: "
   ]
  },
  {
   "cell_type": "code",
   "execution_count": 32,
   "id": "998d2ffd",
   "metadata": {},
   "outputs": [
    {
     "name": "stdout",
     "output_type": "stream",
     "text": [
      "E\n",
      "D\n",
      "C\n",
      "B\n",
      "A\n"
     ]
    }
   ],
   "source": [
    "def income_group(total_income):\n",
    "    if 0 <= total_income <= 30000:\n",
    "        return 'E'\n",
    "    if 30001 <= total_income <= 50000:\n",
    "        return 'D'\n",
    "    if 50001 <= total_income <= 200000:\n",
    "        return 'C'\n",
    "    if 200001 <= total_income <= 1000000:\n",
    "        return 'B'\n",
    "    return 'A'\n",
    "\n",
    "#проверяем, корректно ли работает функция:\n",
    "print(income_group(300))\n",
    "print(income_group(35000))\n",
    "print(income_group(55000))\n",
    "print(income_group(255000))\n",
    "print(income_group(1200001))"
   ]
  },
  {
   "cell_type": "code",
   "execution_count": 33,
   "id": "5f60c184",
   "metadata": {
    "scrolled": true
   },
   "outputs": [
    {
     "data": {
      "text/html": [
       "<div>\n",
       "<style scoped>\n",
       "    .dataframe tbody tr th:only-of-type {\n",
       "        vertical-align: middle;\n",
       "    }\n",
       "\n",
       "    .dataframe tbody tr th {\n",
       "        vertical-align: top;\n",
       "    }\n",
       "\n",
       "    .dataframe thead th {\n",
       "        text-align: right;\n",
       "    }\n",
       "</style>\n",
       "<table border=\"1\" class=\"dataframe\">\n",
       "  <thead>\n",
       "    <tr style=\"text-align: right;\">\n",
       "      <th></th>\n",
       "      <th>children</th>\n",
       "      <th>days_employed</th>\n",
       "      <th>dob_years</th>\n",
       "      <th>education_id</th>\n",
       "      <th>family_status_id</th>\n",
       "      <th>gender</th>\n",
       "      <th>income_type</th>\n",
       "      <th>debt</th>\n",
       "      <th>total_income</th>\n",
       "      <th>purpose</th>\n",
       "      <th>total_income_category</th>\n",
       "    </tr>\n",
       "  </thead>\n",
       "  <tbody>\n",
       "    <tr>\n",
       "      <th>0</th>\n",
       "      <td>1</td>\n",
       "      <td>8437</td>\n",
       "      <td>42</td>\n",
       "      <td>0</td>\n",
       "      <td>0</td>\n",
       "      <td>F</td>\n",
       "      <td>сотрудник</td>\n",
       "      <td>0</td>\n",
       "      <td>253875</td>\n",
       "      <td>операции с недвижимостью</td>\n",
       "      <td>B</td>\n",
       "    </tr>\n",
       "    <tr>\n",
       "      <th>1</th>\n",
       "      <td>1</td>\n",
       "      <td>4024</td>\n",
       "      <td>36</td>\n",
       "      <td>1</td>\n",
       "      <td>0</td>\n",
       "      <td>F</td>\n",
       "      <td>сотрудник</td>\n",
       "      <td>0</td>\n",
       "      <td>112080</td>\n",
       "      <td>операции с автомобилем</td>\n",
       "      <td>C</td>\n",
       "    </tr>\n",
       "    <tr>\n",
       "      <th>2</th>\n",
       "      <td>0</td>\n",
       "      <td>5623</td>\n",
       "      <td>33</td>\n",
       "      <td>1</td>\n",
       "      <td>0</td>\n",
       "      <td>M</td>\n",
       "      <td>сотрудник</td>\n",
       "      <td>0</td>\n",
       "      <td>145885</td>\n",
       "      <td>операции с недвижимостью</td>\n",
       "      <td>C</td>\n",
       "    </tr>\n",
       "    <tr>\n",
       "      <th>3</th>\n",
       "      <td>3</td>\n",
       "      <td>4124</td>\n",
       "      <td>32</td>\n",
       "      <td>1</td>\n",
       "      <td>0</td>\n",
       "      <td>M</td>\n",
       "      <td>сотрудник</td>\n",
       "      <td>0</td>\n",
       "      <td>267628</td>\n",
       "      <td>образование</td>\n",
       "      <td>B</td>\n",
       "    </tr>\n",
       "    <tr>\n",
       "      <th>4</th>\n",
       "      <td>0</td>\n",
       "      <td>340266</td>\n",
       "      <td>53</td>\n",
       "      <td>1</td>\n",
       "      <td>1</td>\n",
       "      <td>F</td>\n",
       "      <td>пенсионер</td>\n",
       "      <td>0</td>\n",
       "      <td>158616</td>\n",
       "      <td>проведение свадьбы</td>\n",
       "      <td>C</td>\n",
       "    </tr>\n",
       "  </tbody>\n",
       "</table>\n",
       "</div>"
      ],
      "text/plain": [
       "   children  days_employed  dob_years  education_id  family_status_id gender  \\\n",
       "0         1           8437         42             0                 0      F   \n",
       "1         1           4024         36             1                 0      F   \n",
       "2         0           5623         33             1                 0      M   \n",
       "3         3           4124         32             1                 0      M   \n",
       "4         0         340266         53             1                 1      F   \n",
       "\n",
       "  income_type  debt  total_income                   purpose  \\\n",
       "0   сотрудник     0        253875  операции с недвижимостью   \n",
       "1   сотрудник     0        112080    операции с автомобилем   \n",
       "2   сотрудник     0        145885  операции с недвижимостью   \n",
       "3   сотрудник     0        267628               образование   \n",
       "4   пенсионер     0        158616        проведение свадьбы   \n",
       "\n",
       "  total_income_category  \n",
       "0                     B  \n",
       "1                     C  \n",
       "2                     C  \n",
       "3                     B  \n",
       "4                     C  "
      ]
     },
     "execution_count": 33,
     "metadata": {},
     "output_type": "execute_result"
    }
   ],
   "source": [
    "df['total_income_category'] = df['total_income'].apply(income_group)\n",
    "df.head()"
   ]
  },
  {
   "cell_type": "markdown",
   "id": "c7965189",
   "metadata": {},
   "source": [
    "Категоризация дохода проведена, данные добавлены в датасет отдельным столбцом."
   ]
  },
  {
   "cell_type": "markdown",
   "id": "3d018a66",
   "metadata": {},
   "source": [
    "## Категоризация целей кредита"
   ]
  },
  {
   "cell_type": "code",
   "execution_count": 34,
   "id": "63b683df",
   "metadata": {},
   "outputs": [
    {
     "name": "stdout",
     "output_type": "stream",
     "text": [
      "операции с автомобилем\n",
      "получение образования\n",
      "операции с недвижимостью\n",
      "проведение свадьбы\n"
     ]
    }
   ],
   "source": [
    "def purpose_group(purpose):\n",
    "    if purpose == 'автомобиль' or purpose == 'на покупку автомобиля':\n",
    "        return 'операции с автомобилем'\n",
    "    if purpose == 'сделка с автомобилем' or purpose == 'сделка с подержанным автомобилем':\n",
    "        return 'операции с автомобилем'\n",
    "    if purpose == 'недвижимость' or purpose == 'операции с недвижимостью':\n",
    "        return 'операции с недвижимостью'\n",
    "    if purpose == 'покупка недвижимости' or purpose == 'ремонт жилью':\n",
    "        return 'операции с недвижимостью'\n",
    "    if purpose == 'проведение свадьбы' or purpose == 'свадьба':\n",
    "        return 'проведение свадьбы'\n",
    "    return 'получение образования'\n",
    "\n",
    "#проверяем\n",
    "print(purpose_group('сделка с подержанным автомобилем'))\n",
    "print(purpose_group('заняться образованием'))\n",
    "print(purpose_group('операции с недвижимостью'))\n",
    "print(purpose_group('свадьба'))"
   ]
  },
  {
   "cell_type": "markdown",
   "id": "1b790b7f",
   "metadata": {},
   "source": [
    "Все работает."
   ]
  },
  {
   "cell_type": "code",
   "execution_count": 35,
   "id": "b256b914",
   "metadata": {},
   "outputs": [
    {
     "data": {
      "text/html": [
       "<div>\n",
       "<style scoped>\n",
       "    .dataframe tbody tr th:only-of-type {\n",
       "        vertical-align: middle;\n",
       "    }\n",
       "\n",
       "    .dataframe tbody tr th {\n",
       "        vertical-align: top;\n",
       "    }\n",
       "\n",
       "    .dataframe thead th {\n",
       "        text-align: right;\n",
       "    }\n",
       "</style>\n",
       "<table border=\"1\" class=\"dataframe\">\n",
       "  <thead>\n",
       "    <tr style=\"text-align: right;\">\n",
       "      <th></th>\n",
       "      <th>children</th>\n",
       "      <th>days_employed</th>\n",
       "      <th>dob_years</th>\n",
       "      <th>education_id</th>\n",
       "      <th>family_status_id</th>\n",
       "      <th>gender</th>\n",
       "      <th>income_type</th>\n",
       "      <th>debt</th>\n",
       "      <th>total_income</th>\n",
       "      <th>purpose</th>\n",
       "      <th>total_income_category</th>\n",
       "      <th>purpose_category</th>\n",
       "    </tr>\n",
       "  </thead>\n",
       "  <tbody>\n",
       "    <tr>\n",
       "      <th>0</th>\n",
       "      <td>1</td>\n",
       "      <td>8437</td>\n",
       "      <td>42</td>\n",
       "      <td>0</td>\n",
       "      <td>0</td>\n",
       "      <td>F</td>\n",
       "      <td>сотрудник</td>\n",
       "      <td>0</td>\n",
       "      <td>253875</td>\n",
       "      <td>операции с недвижимостью</td>\n",
       "      <td>B</td>\n",
       "      <td>операции с недвижимостью</td>\n",
       "    </tr>\n",
       "    <tr>\n",
       "      <th>1</th>\n",
       "      <td>1</td>\n",
       "      <td>4024</td>\n",
       "      <td>36</td>\n",
       "      <td>1</td>\n",
       "      <td>0</td>\n",
       "      <td>F</td>\n",
       "      <td>сотрудник</td>\n",
       "      <td>0</td>\n",
       "      <td>112080</td>\n",
       "      <td>операции с автомобилем</td>\n",
       "      <td>C</td>\n",
       "      <td>получение образования</td>\n",
       "    </tr>\n",
       "    <tr>\n",
       "      <th>2</th>\n",
       "      <td>0</td>\n",
       "      <td>5623</td>\n",
       "      <td>33</td>\n",
       "      <td>1</td>\n",
       "      <td>0</td>\n",
       "      <td>M</td>\n",
       "      <td>сотрудник</td>\n",
       "      <td>0</td>\n",
       "      <td>145885</td>\n",
       "      <td>операции с недвижимостью</td>\n",
       "      <td>C</td>\n",
       "      <td>операции с недвижимостью</td>\n",
       "    </tr>\n",
       "    <tr>\n",
       "      <th>3</th>\n",
       "      <td>3</td>\n",
       "      <td>4124</td>\n",
       "      <td>32</td>\n",
       "      <td>1</td>\n",
       "      <td>0</td>\n",
       "      <td>M</td>\n",
       "      <td>сотрудник</td>\n",
       "      <td>0</td>\n",
       "      <td>267628</td>\n",
       "      <td>образование</td>\n",
       "      <td>B</td>\n",
       "      <td>получение образования</td>\n",
       "    </tr>\n",
       "    <tr>\n",
       "      <th>4</th>\n",
       "      <td>0</td>\n",
       "      <td>340266</td>\n",
       "      <td>53</td>\n",
       "      <td>1</td>\n",
       "      <td>1</td>\n",
       "      <td>F</td>\n",
       "      <td>пенсионер</td>\n",
       "      <td>0</td>\n",
       "      <td>158616</td>\n",
       "      <td>проведение свадьбы</td>\n",
       "      <td>C</td>\n",
       "      <td>проведение свадьбы</td>\n",
       "    </tr>\n",
       "  </tbody>\n",
       "</table>\n",
       "</div>"
      ],
      "text/plain": [
       "   children  days_employed  dob_years  education_id  family_status_id gender  \\\n",
       "0         1           8437         42             0                 0      F   \n",
       "1         1           4024         36             1                 0      F   \n",
       "2         0           5623         33             1                 0      M   \n",
       "3         3           4124         32             1                 0      M   \n",
       "4         0         340266         53             1                 1      F   \n",
       "\n",
       "  income_type  debt  total_income                   purpose  \\\n",
       "0   сотрудник     0        253875  операции с недвижимостью   \n",
       "1   сотрудник     0        112080    операции с автомобилем   \n",
       "2   сотрудник     0        145885  операции с недвижимостью   \n",
       "3   сотрудник     0        267628               образование   \n",
       "4   пенсионер     0        158616        проведение свадьбы   \n",
       "\n",
       "  total_income_category          purpose_category  \n",
       "0                     B  операции с недвижимостью  \n",
       "1                     C     получение образования  \n",
       "2                     C  операции с недвижимостью  \n",
       "3                     B     получение образования  \n",
       "4                     C        проведение свадьбы  "
      ]
     },
     "execution_count": 35,
     "metadata": {},
     "output_type": "execute_result"
    }
   ],
   "source": [
    "df['purpose_category'] = df['purpose'].apply(purpose_group)\n",
    "df.head()"
   ]
  },
  {
   "cell_type": "markdown",
   "id": "7c8624ef",
   "metadata": {},
   "source": [
    "Категоризация целей кредита проведена. данные добавлены в датасет отдельным столбцом."
   ]
  },
  {
   "cell_type": "markdown",
   "id": "b3e87be1",
   "metadata": {},
   "source": [
    "## Ответы на вопросы в ТЗ"
   ]
  },
  {
   "cell_type": "markdown",
   "id": "2810caf2",
   "metadata": {},
   "source": [
    "**1. Есть ли зависимость между количеством детей и возвратом кредита в срок?**\n",
    "\n",
    "Для того, чтобы ответить на этот вопрос, соотнесем данные по количеству детей с данными о наличии задолженностей:"
   ]
  },
  {
   "cell_type": "code",
   "execution_count": 36,
   "id": "8648954b",
   "metadata": {},
   "outputs": [
    {
     "data": {
      "text/html": [
       "<div>\n",
       "<style scoped>\n",
       "    .dataframe tbody tr th:only-of-type {\n",
       "        vertical-align: middle;\n",
       "    }\n",
       "\n",
       "    .dataframe tbody tr th {\n",
       "        vertical-align: top;\n",
       "    }\n",
       "\n",
       "    .dataframe thead th {\n",
       "        text-align: right;\n",
       "    }\n",
       "</style>\n",
       "<table border=\"1\" class=\"dataframe\">\n",
       "  <thead>\n",
       "    <tr style=\"text-align: right;\">\n",
       "      <th></th>\n",
       "      <th>debt</th>\n",
       "    </tr>\n",
       "    <tr>\n",
       "      <th>children</th>\n",
       "      <th></th>\n",
       "    </tr>\n",
       "  </thead>\n",
       "  <tbody>\n",
       "    <tr>\n",
       "      <th>5</th>\n",
       "      <td>0.000000</td>\n",
       "    </tr>\n",
       "    <tr>\n",
       "      <th>0</th>\n",
       "      <td>0.075444</td>\n",
       "    </tr>\n",
       "    <tr>\n",
       "      <th>3</th>\n",
       "      <td>0.081818</td>\n",
       "    </tr>\n",
       "    <tr>\n",
       "      <th>1</th>\n",
       "      <td>0.091658</td>\n",
       "    </tr>\n",
       "    <tr>\n",
       "      <th>2</th>\n",
       "      <td>0.094925</td>\n",
       "    </tr>\n",
       "    <tr>\n",
       "      <th>4</th>\n",
       "      <td>0.097561</td>\n",
       "    </tr>\n",
       "  </tbody>\n",
       "</table>\n",
       "</div>"
      ],
      "text/plain": [
       "              debt\n",
       "children          \n",
       "5         0.000000\n",
       "0         0.075444\n",
       "3         0.081818\n",
       "1         0.091658\n",
       "2         0.094925\n",
       "4         0.097561"
      ]
     },
     "metadata": {},
     "output_type": "display_data"
    }
   ],
   "source": [
    "children_debt = df.pivot_table(index ='children', values = 'debt').sort_values(by = ['debt'], ascending=True)\n",
    "display(children_debt)"
   ]
  },
  {
   "cell_type": "code",
   "execution_count": 37,
   "id": "57fe344d",
   "metadata": {},
   "outputs": [
    {
     "data": {
      "text/plain": [
       "0    14090\n",
       "1     4855\n",
       "2     2128\n",
       "3      330\n",
       "4       41\n",
       "5        9\n",
       "Name: children, dtype: int64"
      ]
     },
     "execution_count": 37,
     "metadata": {},
     "output_type": "execute_result"
    }
   ],
   "source": [
    "df['children'].value_counts()\n",
    "#Распределение количества строк по количеству детей:"
   ]
  },
  {
   "cell_type": "markdown",
   "id": "e353380f",
   "metadata": {},
   "source": [
    "Из таблицы стразу выбиваются следующие значения:\n",
    "\n",
    "**20 детей** - возможно это ошибка при внесении данных и клиент случайно поставил \"0\" после \"2\", но может и нет, мужчины с таким количеством детей хоть редко, но встречаются, таких значений у нас 76, поэтому без уточнения данных у колег на этапе предобработки, удалять я их не стала. Значение у данной группы 0,10, что является самым высоким среди категорий. \n",
    "\n",
    "**5 детей** - среди этой группы значение показателя нулевое, скорее всего из-за того, что представителей данной группы крайне мало в выборке, всего 9. Так как их действительно мало, показательным по группе это значение не будет. \n",
    "\n",
    "В целом, если оценивать зависимость наличия просрочек количества детей, то можно сделать **выводы**:\n",
    "  *  Зависимость между наличием задолженности и наличием детей, в принципе, есть. Самый низкий показатель по задолженности у бездетных клиентов.\n",
    "  *  Мы видим, что с увеличением количества детей, значение показателя растет от 1 ребенка до 4 (20 - если это количество корректно), хоть и не сильно. \n",
    "  *  Из заещиков с детьми самый минимальный показатель у клиентов с 3 детьми.\n",
    "  *  Категория с самым высоким показателем задолженности - это клиенты с 4 детьми (или 20, если это количество не ошибочное).\n"
   ]
  },
  {
   "cell_type": "markdown",
   "id": "a58a0296",
   "metadata": {},
   "source": [
    "**2. Есть ли зависимость между семейным положением и возвратом кредита в срок?**\n",
    "\n",
    "Чтобы ответить на данный вопрос, соотнесем данные по семейному статусу и показатель наличия задолженностей:"
   ]
  },
  {
   "cell_type": "code",
   "execution_count": 38,
   "id": "10da4a22",
   "metadata": {},
   "outputs": [
    {
     "data": {
      "text/html": [
       "<div>\n",
       "<style scoped>\n",
       "    .dataframe tbody tr th:only-of-type {\n",
       "        vertical-align: middle;\n",
       "    }\n",
       "\n",
       "    .dataframe tbody tr th {\n",
       "        vertical-align: top;\n",
       "    }\n",
       "\n",
       "    .dataframe thead th {\n",
       "        text-align: right;\n",
       "    }\n",
       "</style>\n",
       "<table border=\"1\" class=\"dataframe\">\n",
       "  <thead>\n",
       "    <tr style=\"text-align: right;\">\n",
       "      <th></th>\n",
       "      <th>debt</th>\n",
       "      <th>status</th>\n",
       "    </tr>\n",
       "    <tr>\n",
       "      <th>family_status_id</th>\n",
       "      <th></th>\n",
       "      <th></th>\n",
       "    </tr>\n",
       "  </thead>\n",
       "  <tbody>\n",
       "    <tr>\n",
       "      <th>2</th>\n",
       "      <td>0.065693</td>\n",
       "      <td>вдовец / вдова</td>\n",
       "    </tr>\n",
       "    <tr>\n",
       "      <th>3</th>\n",
       "      <td>0.071130</td>\n",
       "      <td>в разводе</td>\n",
       "    </tr>\n",
       "    <tr>\n",
       "      <th>0</th>\n",
       "      <td>0.075452</td>\n",
       "      <td>женат / замужем</td>\n",
       "    </tr>\n",
       "    <tr>\n",
       "      <th>1</th>\n",
       "      <td>0.093494</td>\n",
       "      <td>гражданский брак</td>\n",
       "    </tr>\n",
       "    <tr>\n",
       "      <th>4</th>\n",
       "      <td>0.097509</td>\n",
       "      <td>Не женат / не замужем</td>\n",
       "    </tr>\n",
       "  </tbody>\n",
       "</table>\n",
       "</div>"
      ],
      "text/plain": [
       "                      debt                 status\n",
       "family_status_id                                 \n",
       "2                 0.065693         вдовец / вдова\n",
       "3                 0.071130              в разводе\n",
       "0                 0.075452        женат / замужем\n",
       "1                 0.093494       гражданский брак\n",
       "4                 0.097509  Не женат / не замужем"
      ]
     },
     "metadata": {},
     "output_type": "display_data"
    }
   ],
   "source": [
    "family_status_debt = df.pivot_table(index ='family_status_id', values = 'debt').sort_values(by = ['debt'], ascending=True)\n",
    "family_status_debt['status'] = ['вдовец / вдова','в разводе','женат / замужем','гражданский брак', 'Не женат / не замужем']\n",
    "display(family_status_debt)"
   ]
  },
  {
   "cell_type": "markdown",
   "id": "3cd12387",
   "metadata": {},
   "source": [
    "Построим график для наглядности:"
   ]
  },
  {
   "cell_type": "code",
   "execution_count": 39,
   "id": "d335e2b1",
   "metadata": {},
   "outputs": [
    {
     "name": "stderr",
     "output_type": "stream",
     "text": [
      "C:\\Users\\Aliee\\anaconda3\\lib\\site-packages\\seaborn\\_decorators.py:36: FutureWarning: Pass the following variables as keyword args: x, y. From version 0.12, the only valid positional argument will be `data`, and passing other arguments without an explicit keyword will result in an error or misinterpretation.\n",
      "  warnings.warn(\n"
     ]
    },
    {
     "data": {
      "image/png": "[encoded data removed]",
      "text/plain": [
       "<Figure size 432x288 with 1 Axes>"
      ]
     },
     "metadata": {
      "needs_background": "light"
     },
     "output_type": "display_data"
    }
   ],
   "source": [
    "x = family_status_debt['debt']\n",
    "y = family_status_debt['status']\n",
    "\n",
    "sns.barplot(x, y, palette='pastel').set(title='Показатель задолженности и семейное положение');"
   ]
  },
  {
   "cell_type": "markdown",
   "id": "c57e9002",
   "metadata": {},
   "source": [
    "Из этих данных мы можем увидеть, что:\n",
    " * Категория с самым низким показателем задолженности - это \"вдовец / вдова\";\n",
    " * Вторая после \"вдовец / вдова\", категория \"в разводе\" и третья \"женат/замужем\" получаются в середине выборки, значения средние;\n",
    " * Категория с самым высоким показателем по задолженности - это \"не женат/не замужем\";\n",
    " * Категория \"граждански брак\" также является высокой по риску задолженностей и лишь немного уступает не женатым клиентам."
   ]
  },
  {
   "cell_type": "markdown",
   "id": "27d7c2d9",
   "metadata": {},
   "source": [
    "**3. Есть ли зависимость между уровнем дохода и возвратом кредита в срок?**\n",
    "\n",
    "Сопоставим клиентов по категориям доходов и показатели задолженности, чтобы ответить на этот вопрос:"
   ]
  },
  {
   "cell_type": "code",
   "execution_count": 40,
   "id": "e00b0b8b",
   "metadata": {
    "scrolled": true
   },
   "outputs": [
    {
     "data": {
      "text/html": [
       "<div>\n",
       "<style scoped>\n",
       "    .dataframe tbody tr th:only-of-type {\n",
       "        vertical-align: middle;\n",
       "    }\n",
       "\n",
       "    .dataframe tbody tr th {\n",
       "        vertical-align: top;\n",
       "    }\n",
       "\n",
       "    .dataframe thead th {\n",
       "        text-align: right;\n",
       "    }\n",
       "</style>\n",
       "<table border=\"1\" class=\"dataframe\">\n",
       "  <thead>\n",
       "    <tr style=\"text-align: right;\">\n",
       "      <th></th>\n",
       "      <th>debt</th>\n",
       "      <th>total_income</th>\n",
       "    </tr>\n",
       "    <tr>\n",
       "      <th>total_income_category</th>\n",
       "      <th></th>\n",
       "      <th></th>\n",
       "    </tr>\n",
       "  </thead>\n",
       "  <tbody>\n",
       "    <tr>\n",
       "      <th>D</th>\n",
       "      <td>0.060000</td>\n",
       "      <td>30001 - 50000</td>\n",
       "    </tr>\n",
       "    <tr>\n",
       "      <th>B</th>\n",
       "      <td>0.070635</td>\n",
       "      <td>200001 - 1000000</td>\n",
       "    </tr>\n",
       "    <tr>\n",
       "      <th>A</th>\n",
       "      <td>0.080000</td>\n",
       "      <td>over 1000000</td>\n",
       "    </tr>\n",
       "    <tr>\n",
       "      <th>C</th>\n",
       "      <td>0.084915</td>\n",
       "      <td>50001 - 200000</td>\n",
       "    </tr>\n",
       "    <tr>\n",
       "      <th>E</th>\n",
       "      <td>0.090909</td>\n",
       "      <td>0 - 30000</td>\n",
       "    </tr>\n",
       "  </tbody>\n",
       "</table>\n",
       "</div>"
      ],
      "text/plain": [
       "                           debt      total_income\n",
       "total_income_category                            \n",
       "D                      0.060000     30001 - 50000\n",
       "B                      0.070635  200001 - 1000000\n",
       "A                      0.080000      over 1000000\n",
       "C                      0.084915    50001 - 200000\n",
       "E                      0.090909         0 - 30000"
      ]
     },
     "metadata": {},
     "output_type": "display_data"
    }
   ],
   "source": [
    "total_income_debt = df.pivot_table(index ='total_income_category', values = 'debt').sort_values(by = ['debt'], ascending=True)\n",
    "\n",
    "total_income_debt['total_income'] = ['30001 - 50000', '200001 - 1000000', 'over 1000000', '50001 - 200000', '0 - 30000']\n",
    "display(total_income_debt)"
   ]
  },
  {
   "cell_type": "markdown",
   "id": "b3910122",
   "metadata": {},
   "source": [
    "Построим график для наглядности:"
   ]
  },
  {
   "cell_type": "code",
   "execution_count": 41,
   "id": "e7f13b9a",
   "metadata": {},
   "outputs": [
    {
     "name": "stderr",
     "output_type": "stream",
     "text": [
      "C:\\Users\\Aliee\\anaconda3\\lib\\site-packages\\seaborn\\_decorators.py:36: FutureWarning: Pass the following variables as keyword args: x, y. From version 0.12, the only valid positional argument will be `data`, and passing other arguments without an explicit keyword will result in an error or misinterpretation.\n",
      "  warnings.warn(\n"
     ]
    },
    {
     "data": {
      "image/png": "[encoded data removed]",
      "text/plain": [
       "<Figure size 432x288 with 1 Axes>"
      ]
     },
     "metadata": {
      "needs_background": "light"
     },
     "output_type": "display_data"
    }
   ],
   "source": [
    "x = total_income_debt['debt']\n",
    "y = total_income_debt['total_income']\n",
    "\n",
    "sns.barplot(x, y, palette='pastel').set(title='Показатель задолженности и категории дохода');"
   ]
  },
  {
   "cell_type": "markdown",
   "id": "1ed58e64",
   "metadata": {},
   "source": [
    "Судя по получившимся данным, нельзя сказать, что чем больше доход, тем меньше клиенты имеют задолженностей по возврату кредитов: \n",
    " * В зоне низкого показателя как клиенты с доходом от 30 до 50 тысяч, так и 200 тысяч - миллион; \n",
    " * В зоне высокого риска, как клиенты с доходом 0 - 30 тысяч, так и клиенты с доходом до 200 тысяч; \n",
    " * Самый низкий показатель у клиентов категории \"D\", 30 - 50 тысяч рублей; \n",
    " * Самый высокий \"Е\" - от 0 до 30 тысяч."
   ]
  },
  {
   "cell_type": "markdown",
   "id": "127809c8",
   "metadata": {},
   "source": [
    "**4.Как разные цели кредита влияют на его возврат в срок?**"
   ]
  },
  {
   "cell_type": "markdown",
   "id": "5571cd6d",
   "metadata": {},
   "source": [
    "Соотнесем данные по целям кредита и показатели наличия задолженностей по кредитам:"
   ]
  },
  {
   "cell_type": "code",
   "execution_count": 42,
   "id": "b0be7afb",
   "metadata": {},
   "outputs": [
    {
     "data": {
      "text/html": [
       "<div>\n",
       "<style scoped>\n",
       "    .dataframe tbody tr th:only-of-type {\n",
       "        vertical-align: middle;\n",
       "    }\n",
       "\n",
       "    .dataframe tbody tr th {\n",
       "        vertical-align: top;\n",
       "    }\n",
       "\n",
       "    .dataframe thead th {\n",
       "        text-align: right;\n",
       "    }\n",
       "</style>\n",
       "<table border=\"1\" class=\"dataframe\">\n",
       "  <thead>\n",
       "    <tr style=\"text-align: right;\">\n",
       "      <th></th>\n",
       "      <th>debt</th>\n",
       "    </tr>\n",
       "    <tr>\n",
       "      <th>purpose_category</th>\n",
       "      <th></th>\n",
       "    </tr>\n",
       "  </thead>\n",
       "  <tbody>\n",
       "    <tr>\n",
       "      <th>операции с недвижимостью</th>\n",
       "      <td>0.072340</td>\n",
       "    </tr>\n",
       "    <tr>\n",
       "      <th>проведение свадьбы</th>\n",
       "      <td>0.080034</td>\n",
       "    </tr>\n",
       "    <tr>\n",
       "      <th>получение образования</th>\n",
       "      <td>0.092920</td>\n",
       "    </tr>\n",
       "  </tbody>\n",
       "</table>\n",
       "</div>"
      ],
      "text/plain": [
       "                              debt\n",
       "purpose_category                  \n",
       "операции с недвижимостью  0.072340\n",
       "проведение свадьбы        0.080034\n",
       "получение образования     0.092920"
      ]
     },
     "metadata": {},
     "output_type": "display_data"
    }
   ],
   "source": [
    "purpose_debt = df.pivot_table(index ='purpose_category', values = 'debt').sort_values(by = ['debt'], ascending=True)\n",
    "display(purpose_debt)"
   ]
  },
  {
   "cell_type": "markdown",
   "id": "ad6dd300",
   "metadata": {},
   "source": [
    "По представленным данным можно сделать следующие выводы:\n",
    "\n",
    " * Самая рискованная в плане задолженностей категория кредитов на операции с автомобилем; \n",
    " * Самая низкорискованная категория - операции с недвижимостью; \n",
    " * Категории \"проведения свадьбы\" и \"получение образования\" - имеют средние показатели задолженностей."
   ]
  },
  {
   "cell_type": "markdown",
   "id": "2172e899",
   "metadata": {},
   "source": [
    "## Общий вывод"
   ]
  },
  {
   "cell_type": "markdown",
   "id": "e0157859",
   "metadata": {},
   "source": [
    "В ходе анализа были проделаны следующие шаги:\n",
    "- Описание цели исследования; \n",
    "- Обзор предоставленных данных для ознакомления и поиска ошибок/аномалий; \n",
    "- Далее была проведена работа по предобработке данных для дальнейшего анализа (заполнены пропуски в данных, удалены явные дубликаты, исправлены неявные, исправлены все найденные аномалии в данных); \n",
    "- После подготовки данных к анализу, была проведена работа по категоризации данных по уровню заработка клиентов и целей кредита, для удобства анализа; \n",
    "- Далее проведена работа по доказательству 4 поставленных в исследовании гипотиз: \n",
    "    1. Есть ли зависимость между количеством детей и возвратом кредита в срок?\n",
    "    2. Есть ли зависимость между семейным положением и возвратом кредита в срок?\n",
    "    3. Есть ли зависимость между уровнем дохода и возвратом кредита в срок?\n",
    "    4. Как разные цели кредита влияют на его возврат в срок?\n",
    "\n",
    "В ходе исследования мы установили, что на факт погашения кредитов в срок влияют:\n",
    "\n",
    "- Семейное положение: высокий риск задолженностей у неженатых клиентов, самый низкий риск у вдовцов; \n",
    "- Наличие детей: чем больше детей, тем, в основном, риск выше, у бездетных клиентов самый низкий показатель; \n",
    "- Нет прямой зависимости \"чем выше доход, тем меньше риск невозврата\". Самые обеспеченые клиенты в середине рейтинга, самый высокий показатель задолженностей у клиентов с доходом от 0 до 30 тысяч, самый низкий у клиентов с доходом от 30 до 50 тысяч; \n",
    "- Цели кредита влияют на показатель наличия задолженности, \"операции с недвижимостью\" имеют самый низкий показатель, а \"операции с автомобилем\" - самый высокий.\n",
    "\n",
    "Все выводы по поставленным вопросам могут быть использованы для принятия решений при выдаче последующих кредитов, для построения модели кредитного скоринга."
   ]
  }
 ],
 "metadata": {
  "ExecuteTimeLog": [
   {
    "duration": 68,
    "start_time": "2022-04-11T16:32:37.690Z"
   },
   {
    "duration": 643,
    "start_time": "2022-04-11T16:32:46.891Z"
   },
   {
    "duration": 77,
    "start_time": "2022-04-11T16:33:02.108Z"
   },
   {
    "duration": 30,
    "start_time": "2022-04-11T16:33:04.931Z"
   },
   {
    "duration": 23,
    "start_time": "2022-04-11T19:15:36.445Z"
   },
   {
    "duration": 13,
    "start_time": "2022-04-11T19:21:52.716Z"
   },
   {
    "duration": 27,
    "start_time": "2022-04-11T19:23:23.473Z"
   },
   {
    "duration": 529,
    "start_time": "2022-04-13T12:47:56.619Z"
   },
   {
    "duration": 81,
    "start_time": "2022-04-13T12:47:57.150Z"
   },
   {
    "duration": 46,
    "start_time": "2022-04-13T12:47:57.233Z"
   },
   {
    "duration": 21,
    "start_time": "2022-04-13T12:47:57.282Z"
   },
   {
    "duration": 12,
    "start_time": "2022-04-13T12:47:57.306Z"
   },
   {
    "duration": 10,
    "start_time": "2022-04-13T12:48:29.604Z"
   },
   {
    "duration": 15,
    "start_time": "2022-04-13T12:59:15.310Z"
   },
   {
    "duration": 29,
    "start_time": "2022-04-13T12:59:45.964Z"
   },
   {
    "duration": 26,
    "start_time": "2022-04-13T13:00:06.223Z"
   },
   {
    "duration": 13,
    "start_time": "2022-04-13T13:02:30.733Z"
   },
   {
    "duration": 1694,
    "start_time": "2022-04-13T13:03:10.245Z"
   },
   {
    "duration": 10,
    "start_time": "2022-04-13T13:03:21.725Z"
   },
   {
    "duration": 15,
    "start_time": "2022-04-13T13:03:54.726Z"
   },
   {
    "duration": 12,
    "start_time": "2022-04-13T13:06:36.710Z"
   },
   {
    "duration": 7,
    "start_time": "2022-04-13T13:08:12.280Z"
   },
   {
    "duration": 6,
    "start_time": "2022-04-13T13:13:14.742Z"
   },
   {
    "duration": 6,
    "start_time": "2022-04-13T13:13:45.129Z"
   },
   {
    "duration": 20,
    "start_time": "2022-04-13T13:44:37.204Z"
   },
   {
    "duration": 13,
    "start_time": "2022-04-13T13:45:28.117Z"
   },
   {
    "duration": 5,
    "start_time": "2022-04-13T13:45:54.266Z"
   },
   {
    "duration": 9,
    "start_time": "2022-04-13T13:49:10.148Z"
   },
   {
    "duration": 7,
    "start_time": "2022-04-13T13:49:28.627Z"
   },
   {
    "duration": 15,
    "start_time": "2022-04-13T13:50:42.267Z"
   },
   {
    "duration": 12,
    "start_time": "2022-04-13T13:51:30.593Z"
   },
   {
    "duration": 10,
    "start_time": "2022-04-13T13:51:46.769Z"
   },
   {
    "duration": 10,
    "start_time": "2022-04-13T13:52:29.323Z"
   },
   {
    "duration": 10,
    "start_time": "2022-04-13T13:53:04.419Z"
   },
   {
    "duration": 7,
    "start_time": "2022-04-13T13:53:33.388Z"
   },
   {
    "duration": 7,
    "start_time": "2022-04-13T14:02:36.637Z"
   },
   {
    "duration": 13,
    "start_time": "2022-04-13T14:03:11.109Z"
   },
   {
    "duration": 131,
    "start_time": "2022-04-13T14:03:41.644Z"
   },
   {
    "duration": 10,
    "start_time": "2022-04-13T14:44:53.378Z"
   },
   {
    "duration": 8,
    "start_time": "2022-04-13T14:44:59.890Z"
   },
   {
    "duration": 7,
    "start_time": "2022-04-13T15:02:40.542Z"
   },
   {
    "duration": 26,
    "start_time": "2022-04-13T15:03:11.747Z"
   },
   {
    "duration": 14,
    "start_time": "2022-04-13T15:04:04.054Z"
   },
   {
    "duration": 5,
    "start_time": "2022-04-13T15:04:14.956Z"
   },
   {
    "duration": 4,
    "start_time": "2022-04-13T15:04:20.853Z"
   },
   {
    "duration": 28,
    "start_time": "2022-04-13T15:04:24.776Z"
   },
   {
    "duration": 4,
    "start_time": "2022-04-13T15:10:06.134Z"
   },
   {
    "duration": 29,
    "start_time": "2022-04-13T15:10:08.974Z"
   },
   {
    "duration": 4,
    "start_time": "2022-04-13T15:11:01.884Z"
   },
   {
    "duration": 4,
    "start_time": "2022-04-13T15:11:17.357Z"
   },
   {
    "duration": 527,
    "start_time": "2022-04-13T15:12:32.552Z"
   },
   {
    "duration": 84,
    "start_time": "2022-04-13T15:12:33.083Z"
   },
   {
    "duration": 38,
    "start_time": "2022-04-13T15:12:33.169Z"
   },
   {
    "duration": 47,
    "start_time": "2022-04-13T15:12:33.212Z"
   },
   {
    "duration": 12,
    "start_time": "2022-04-13T15:12:33.262Z"
   },
   {
    "duration": 5,
    "start_time": "2022-04-13T15:12:33.277Z"
   },
   {
    "duration": 8,
    "start_time": "2022-04-13T15:12:33.284Z"
   },
   {
    "duration": 5,
    "start_time": "2022-04-13T15:12:33.294Z"
   },
   {
    "duration": 59,
    "start_time": "2022-04-13T15:12:33.302Z"
   },
   {
    "duration": 1835,
    "start_time": "2022-04-13T15:12:33.365Z"
   },
   {
    "duration": 0,
    "start_time": "2022-04-13T15:12:35.203Z"
   },
   {
    "duration": 0,
    "start_time": "2022-04-13T15:12:35.205Z"
   },
   {
    "duration": 6,
    "start_time": "2022-04-13T15:13:01.420Z"
   },
   {
    "duration": 23,
    "start_time": "2022-04-13T15:13:17.059Z"
   },
   {
    "duration": 11,
    "start_time": "2022-04-13T15:14:06.127Z"
   },
   {
    "duration": 5,
    "start_time": "2022-04-13T15:18:34.941Z"
   },
   {
    "duration": 12,
    "start_time": "2022-04-13T15:18:53.836Z"
   },
   {
    "duration": 16,
    "start_time": "2022-04-13T15:19:11.155Z"
   },
   {
    "duration": 10,
    "start_time": "2022-04-13T15:19:31.229Z"
   },
   {
    "duration": 9,
    "start_time": "2022-04-13T15:20:17.741Z"
   },
   {
    "duration": 26,
    "start_time": "2022-04-13T15:20:29.804Z"
   },
   {
    "duration": 20,
    "start_time": "2022-04-13T15:20:48.126Z"
   },
   {
    "duration": 5,
    "start_time": "2022-04-13T15:21:06.156Z"
   },
   {
    "duration": 19,
    "start_time": "2022-04-13T15:21:10.797Z"
   },
   {
    "duration": 5,
    "start_time": "2022-04-13T15:21:21.276Z"
   },
   {
    "duration": 19,
    "start_time": "2022-04-13T15:21:23.788Z"
   },
   {
    "duration": 19,
    "start_time": "2022-04-13T15:21:42.508Z"
   },
   {
    "duration": 19,
    "start_time": "2022-04-13T15:22:54.070Z"
   },
   {
    "duration": 18,
    "start_time": "2022-04-13T15:23:21.765Z"
   },
   {
    "duration": 528,
    "start_time": "2022-04-13T15:23:31.132Z"
   },
   {
    "duration": 74,
    "start_time": "2022-04-13T15:23:31.663Z"
   },
   {
    "duration": 47,
    "start_time": "2022-04-13T15:23:31.739Z"
   },
   {
    "duration": 20,
    "start_time": "2022-04-13T15:23:31.789Z"
   },
   {
    "duration": 40,
    "start_time": "2022-04-13T15:23:31.812Z"
   },
   {
    "duration": 5,
    "start_time": "2022-04-13T15:23:31.854Z"
   },
   {
    "duration": 14,
    "start_time": "2022-04-13T15:23:31.861Z"
   },
   {
    "duration": 6,
    "start_time": "2022-04-13T15:23:31.878Z"
   },
   {
    "duration": 26,
    "start_time": "2022-04-13T15:23:31.886Z"
   },
   {
    "duration": 38,
    "start_time": "2022-04-13T15:23:31.915Z"
   },
   {
    "duration": 18,
    "start_time": "2022-04-13T15:23:31.955Z"
   },
   {
    "duration": 17,
    "start_time": "2022-04-13T15:23:31.976Z"
   },
   {
    "duration": 21,
    "start_time": "2022-04-13T15:23:31.995Z"
   },
   {
    "duration": 19,
    "start_time": "2022-04-13T15:24:11.048Z"
   },
   {
    "duration": 20,
    "start_time": "2022-04-13T15:25:04.025Z"
   },
   {
    "duration": 19,
    "start_time": "2022-04-13T15:25:23.001Z"
   },
   {
    "duration": 9,
    "start_time": "2022-04-13T15:25:48.857Z"
   },
   {
    "duration": 19,
    "start_time": "2022-04-13T15:25:56.592Z"
   },
   {
    "duration": 17,
    "start_time": "2022-04-13T15:48:59.091Z"
   },
   {
    "duration": 491,
    "start_time": "2022-04-13T15:49:25.561Z"
   },
   {
    "duration": 71,
    "start_time": "2022-04-13T15:49:26.054Z"
   },
   {
    "duration": 46,
    "start_time": "2022-04-13T15:49:26.127Z"
   },
   {
    "duration": 23,
    "start_time": "2022-04-13T15:49:26.175Z"
   },
   {
    "duration": 15,
    "start_time": "2022-04-13T15:49:26.200Z"
   },
   {
    "duration": 39,
    "start_time": "2022-04-13T15:49:26.217Z"
   },
   {
    "duration": 16,
    "start_time": "2022-04-13T15:49:26.259Z"
   },
   {
    "duration": 9,
    "start_time": "2022-04-13T15:49:26.277Z"
   },
   {
    "duration": 6,
    "start_time": "2022-04-13T15:49:26.289Z"
   },
   {
    "duration": 61,
    "start_time": "2022-04-13T15:49:26.300Z"
   },
   {
    "duration": 28,
    "start_time": "2022-04-13T15:49:26.364Z"
   },
   {
    "duration": 7,
    "start_time": "2022-04-13T15:49:26.395Z"
   },
   {
    "duration": 48,
    "start_time": "2022-04-13T15:49:26.404Z"
   },
   {
    "duration": 28,
    "start_time": "2022-04-13T15:49:26.455Z"
   },
   {
    "duration": 41,
    "start_time": "2022-04-13T15:50:46.697Z"
   },
   {
    "duration": 19,
    "start_time": "2022-04-13T15:54:43.986Z"
   },
   {
    "duration": 35,
    "start_time": "2022-04-13T15:57:37.672Z"
   },
   {
    "duration": 39,
    "start_time": "2022-04-13T15:57:48.633Z"
   },
   {
    "duration": 34,
    "start_time": "2022-04-13T15:58:04.041Z"
   },
   {
    "duration": 499,
    "start_time": "2022-04-13T16:02:06.402Z"
   },
   {
    "duration": 74,
    "start_time": "2022-04-13T16:02:06.904Z"
   },
   {
    "duration": 37,
    "start_time": "2022-04-13T16:02:06.981Z"
   },
   {
    "duration": 44,
    "start_time": "2022-04-13T16:02:07.020Z"
   },
   {
    "duration": 13,
    "start_time": "2022-04-13T16:02:07.067Z"
   },
   {
    "duration": 5,
    "start_time": "2022-04-13T16:02:07.083Z"
   },
   {
    "duration": 11,
    "start_time": "2022-04-13T16:02:07.091Z"
   },
   {
    "duration": 52,
    "start_time": "2022-04-13T16:02:07.104Z"
   },
   {
    "duration": 6,
    "start_time": "2022-04-13T16:02:07.159Z"
   },
   {
    "duration": 13,
    "start_time": "2022-04-13T16:02:07.167Z"
   },
   {
    "duration": 18,
    "start_time": "2022-04-13T16:02:07.183Z"
   },
   {
    "duration": 79,
    "start_time": "2022-04-13T16:02:07.203Z"
   },
   {
    "duration": 20,
    "start_time": "2022-04-13T16:05:09.673Z"
   },
   {
    "duration": 20,
    "start_time": "2022-04-13T16:05:20.418Z"
   },
   {
    "duration": 20,
    "start_time": "2022-04-13T16:05:42.825Z"
   },
   {
    "duration": 39,
    "start_time": "2022-04-13T16:07:10.529Z"
   },
   {
    "duration": 33,
    "start_time": "2022-04-13T16:08:00.002Z"
   },
   {
    "duration": 29,
    "start_time": "2022-04-13T16:08:04.601Z"
   },
   {
    "duration": 38,
    "start_time": "2022-04-13T16:08:22.915Z"
   },
   {
    "duration": 26,
    "start_time": "2022-04-13T16:09:01.313Z"
   },
   {
    "duration": 99,
    "start_time": "2022-04-13T16:09:23.920Z"
   },
   {
    "duration": 27,
    "start_time": "2022-04-13T16:10:39.249Z"
   },
   {
    "duration": 20,
    "start_time": "2022-04-13T16:11:06.969Z"
   },
   {
    "duration": 31,
    "start_time": "2022-04-13T16:11:51.130Z"
   },
   {
    "duration": 25,
    "start_time": "2022-04-13T16:12:28.603Z"
   },
   {
    "duration": 19,
    "start_time": "2022-04-13T16:28:04.349Z"
   },
   {
    "duration": 16,
    "start_time": "2022-04-13T16:28:10.844Z"
   },
   {
    "duration": 23,
    "start_time": "2022-04-13T16:28:22.340Z"
   },
   {
    "duration": 17,
    "start_time": "2022-04-13T16:29:58.308Z"
   },
   {
    "duration": 37,
    "start_time": "2022-04-13T16:31:15.957Z"
   },
   {
    "duration": 18,
    "start_time": "2022-04-13T16:35:36.549Z"
   },
   {
    "duration": 21,
    "start_time": "2022-04-13T16:35:46.494Z"
   },
   {
    "duration": 25,
    "start_time": "2022-04-13T16:40:44.662Z"
   },
   {
    "duration": 23,
    "start_time": "2022-04-13T16:40:47.318Z"
   },
   {
    "duration": 60,
    "start_time": "2022-04-13T16:40:58.031Z"
   },
   {
    "duration": 44,
    "start_time": "2022-04-13T16:41:45.454Z"
   },
   {
    "duration": 29,
    "start_time": "2022-04-13T16:45:06.231Z"
   },
   {
    "duration": 26,
    "start_time": "2022-04-13T16:45:23.167Z"
   },
   {
    "duration": 47,
    "start_time": "2022-04-13T16:47:23.327Z"
   },
   {
    "duration": 27,
    "start_time": "2022-04-13T16:47:35.151Z"
   },
   {
    "duration": 36,
    "start_time": "2022-04-13T16:53:19.455Z"
   },
   {
    "duration": 522,
    "start_time": "2022-04-13T16:53:32.773Z"
   },
   {
    "duration": 76,
    "start_time": "2022-04-13T16:53:33.299Z"
   },
   {
    "duration": 38,
    "start_time": "2022-04-13T16:53:33.378Z"
   },
   {
    "duration": 39,
    "start_time": "2022-04-13T16:53:33.420Z"
   },
   {
    "duration": 15,
    "start_time": "2022-04-13T16:53:33.464Z"
   },
   {
    "duration": 8,
    "start_time": "2022-04-13T16:53:33.482Z"
   },
   {
    "duration": 59,
    "start_time": "2022-04-13T16:53:33.493Z"
   },
   {
    "duration": 10,
    "start_time": "2022-04-13T16:53:33.555Z"
   },
   {
    "duration": 9,
    "start_time": "2022-04-13T16:53:33.567Z"
   },
   {
    "duration": 20,
    "start_time": "2022-04-13T16:53:33.579Z"
   },
   {
    "duration": 21,
    "start_time": "2022-04-13T16:53:33.601Z"
   },
   {
    "duration": 57,
    "start_time": "2022-04-13T16:53:33.624Z"
   },
   {
    "duration": 20,
    "start_time": "2022-04-13T16:53:33.683Z"
   },
   {
    "duration": 55,
    "start_time": "2022-04-13T16:53:33.706Z"
   },
   {
    "duration": 29,
    "start_time": "2022-04-13T16:53:33.763Z"
   },
   {
    "duration": 26,
    "start_time": "2022-04-13T16:53:33.794Z"
   },
   {
    "duration": 52,
    "start_time": "2022-04-13T16:53:33.821Z"
   },
   {
    "duration": 24,
    "start_time": "2022-04-13T16:53:33.876Z"
   },
   {
    "duration": 19,
    "start_time": "2022-04-13T16:53:33.903Z"
   },
   {
    "duration": 22,
    "start_time": "2022-04-13T16:53:33.952Z"
   },
   {
    "duration": 37,
    "start_time": "2022-04-13T16:53:33.977Z"
   },
   {
    "duration": 67,
    "start_time": "2022-04-13T16:53:34.017Z"
   },
   {
    "duration": 94,
    "start_time": "2022-04-13T16:53:34.086Z"
   },
   {
    "duration": 45,
    "start_time": "2022-04-13T16:53:34.183Z"
   },
   {
    "duration": 35,
    "start_time": "2022-04-13T16:54:02.816Z"
   },
   {
    "duration": 35,
    "start_time": "2022-04-13T16:54:08.607Z"
   },
   {
    "duration": 34,
    "start_time": "2022-04-13T16:54:14.488Z"
   },
   {
    "duration": 45,
    "start_time": "2022-04-13T16:54:31.832Z"
   },
   {
    "duration": 27,
    "start_time": "2022-04-13T16:54:59.832Z"
   },
   {
    "duration": 4,
    "start_time": "2022-04-13T16:56:48.649Z"
   },
   {
    "duration": 105,
    "start_time": "2022-04-13T19:59:50.741Z"
   },
   {
    "duration": 24,
    "start_time": "2022-04-13T20:00:07.828Z"
   },
   {
    "duration": 97,
    "start_time": "2022-04-13T20:09:07.823Z"
   },
   {
    "duration": 108,
    "start_time": "2022-04-13T20:09:18.254Z"
   },
   {
    "duration": 29,
    "start_time": "2022-04-13T20:09:29.566Z"
   },
   {
    "duration": 34,
    "start_time": "2022-04-13T20:09:47.494Z"
   },
   {
    "duration": 35,
    "start_time": "2022-04-13T20:10:26.383Z"
   },
   {
    "duration": 35,
    "start_time": "2022-04-13T20:11:01.311Z"
   },
   {
    "duration": 26,
    "start_time": "2022-04-13T20:15:45.079Z"
   },
   {
    "duration": 24,
    "start_time": "2022-04-13T20:16:35.160Z"
   },
   {
    "duration": 20,
    "start_time": "2022-04-13T20:17:32.713Z"
   },
   {
    "duration": 19,
    "start_time": "2022-04-13T20:19:12.544Z"
   },
   {
    "duration": 20,
    "start_time": "2022-04-13T20:19:45.464Z"
   },
   {
    "duration": 20,
    "start_time": "2022-04-13T20:20:28.928Z"
   },
   {
    "duration": 18,
    "start_time": "2022-04-13T20:43:20.562Z"
   },
   {
    "duration": 8,
    "start_time": "2022-04-13T21:03:26.071Z"
   },
   {
    "duration": 15,
    "start_time": "2022-04-13T21:10:28.417Z"
   },
   {
    "duration": 15,
    "start_time": "2022-04-13T21:10:53.410Z"
   },
   {
    "duration": 7,
    "start_time": "2022-04-13T21:11:31.667Z"
   },
   {
    "duration": 14,
    "start_time": "2022-04-13T21:20:16.730Z"
   },
   {
    "duration": 31,
    "start_time": "2022-04-13T21:20:30.300Z"
   },
   {
    "duration": 29,
    "start_time": "2022-04-13T21:21:56.819Z"
   },
   {
    "duration": 34,
    "start_time": "2022-04-13T21:25:06.866Z"
   },
   {
    "duration": 42,
    "start_time": "2022-04-13T21:25:30.275Z"
   },
   {
    "duration": 26,
    "start_time": "2022-04-13T21:25:45.897Z"
   },
   {
    "duration": 33,
    "start_time": "2022-04-13T21:25:58.513Z"
   },
   {
    "duration": 522,
    "start_time": "2022-04-13T21:26:15.430Z"
   },
   {
    "duration": 73,
    "start_time": "2022-04-13T21:26:15.954Z"
   },
   {
    "duration": 46,
    "start_time": "2022-04-13T21:26:16.029Z"
   },
   {
    "duration": 20,
    "start_time": "2022-04-13T21:26:16.078Z"
   },
   {
    "duration": 15,
    "start_time": "2022-04-13T21:26:16.101Z"
   },
   {
    "duration": 33,
    "start_time": "2022-04-13T21:26:16.118Z"
   },
   {
    "duration": 12,
    "start_time": "2022-04-13T21:26:16.154Z"
   },
   {
    "duration": 8,
    "start_time": "2022-04-13T21:26:16.168Z"
   },
   {
    "duration": 5,
    "start_time": "2022-04-13T21:26:16.178Z"
   },
   {
    "duration": 14,
    "start_time": "2022-04-13T21:26:16.187Z"
   },
   {
    "duration": 60,
    "start_time": "2022-04-13T21:26:16.203Z"
   },
   {
    "duration": 31,
    "start_time": "2022-04-13T21:26:16.265Z"
   },
   {
    "duration": 21,
    "start_time": "2022-04-13T21:26:16.298Z"
   },
   {
    "duration": 27,
    "start_time": "2022-04-13T21:26:16.352Z"
   },
   {
    "duration": 28,
    "start_time": "2022-04-13T21:26:16.381Z"
   },
   {
    "duration": 51,
    "start_time": "2022-04-13T21:26:16.411Z"
   },
   {
    "duration": 25,
    "start_time": "2022-04-13T21:26:16.464Z"
   },
   {
    "duration": 20,
    "start_time": "2022-04-13T21:26:16.491Z"
   },
   {
    "duration": 45,
    "start_time": "2022-04-13T21:26:16.513Z"
   },
   {
    "duration": 22,
    "start_time": "2022-04-13T21:26:16.560Z"
   },
   {
    "duration": 35,
    "start_time": "2022-04-13T21:26:16.584Z"
   },
   {
    "duration": 67,
    "start_time": "2022-04-13T21:26:16.621Z"
   },
   {
    "duration": 69,
    "start_time": "2022-04-13T21:26:16.691Z"
   },
   {
    "duration": 29,
    "start_time": "2022-04-13T21:26:16.763Z"
   },
   {
    "duration": 24,
    "start_time": "2022-04-13T21:26:16.795Z"
   },
   {
    "duration": 88,
    "start_time": "2022-04-13T21:26:16.821Z"
   },
   {
    "duration": 0,
    "start_time": "2022-04-13T21:26:16.912Z"
   },
   {
    "duration": 0,
    "start_time": "2022-04-13T21:26:16.914Z"
   },
   {
    "duration": 0,
    "start_time": "2022-04-13T21:26:16.917Z"
   },
   {
    "duration": 0,
    "start_time": "2022-04-13T21:26:16.918Z"
   },
   {
    "duration": 21,
    "start_time": "2022-04-13T21:27:13.374Z"
   },
   {
    "duration": 99,
    "start_time": "2022-04-13T21:27:20.646Z"
   },
   {
    "duration": 489,
    "start_time": "2022-04-13T21:27:47.863Z"
   },
   {
    "duration": 78,
    "start_time": "2022-04-13T21:27:48.354Z"
   },
   {
    "duration": 38,
    "start_time": "2022-04-13T21:27:48.434Z"
   },
   {
    "duration": 22,
    "start_time": "2022-04-13T21:27:48.475Z"
   },
   {
    "duration": 15,
    "start_time": "2022-04-13T21:27:48.499Z"
   },
   {
    "duration": 37,
    "start_time": "2022-04-13T21:27:48.517Z"
   },
   {
    "duration": 15,
    "start_time": "2022-04-13T21:27:48.557Z"
   },
   {
    "duration": 10,
    "start_time": "2022-04-13T21:27:48.574Z"
   },
   {
    "duration": 12,
    "start_time": "2022-04-13T21:27:48.587Z"
   },
   {
    "duration": 52,
    "start_time": "2022-04-13T21:27:48.604Z"
   },
   {
    "duration": 21,
    "start_time": "2022-04-13T21:27:48.659Z"
   },
   {
    "duration": 32,
    "start_time": "2022-04-13T21:27:48.682Z"
   },
   {
    "duration": 47,
    "start_time": "2022-04-13T21:27:48.716Z"
   },
   {
    "duration": 26,
    "start_time": "2022-04-13T21:27:48.765Z"
   },
   {
    "duration": 28,
    "start_time": "2022-04-13T21:27:48.793Z"
   },
   {
    "duration": 23,
    "start_time": "2022-04-13T21:27:48.852Z"
   },
   {
    "duration": 25,
    "start_time": "2022-04-13T21:27:48.877Z"
   },
   {
    "duration": 48,
    "start_time": "2022-04-13T21:27:48.904Z"
   },
   {
    "duration": 19,
    "start_time": "2022-04-13T21:27:48.954Z"
   },
   {
    "duration": 21,
    "start_time": "2022-04-13T21:27:48.976Z"
   },
   {
    "duration": 65,
    "start_time": "2022-04-13T21:27:48.998Z"
   },
   {
    "duration": 34,
    "start_time": "2022-04-13T21:27:49.065Z"
   },
   {
    "duration": 66,
    "start_time": "2022-04-13T21:27:49.101Z"
   },
   {
    "duration": 27,
    "start_time": "2022-04-13T21:27:49.169Z"
   },
   {
    "duration": 25,
    "start_time": "2022-04-13T21:27:49.198Z"
   },
   {
    "duration": 20,
    "start_time": "2022-04-13T21:27:49.251Z"
   },
   {
    "duration": 19,
    "start_time": "2022-04-13T21:27:49.274Z"
   },
   {
    "duration": 8,
    "start_time": "2022-04-13T21:27:49.299Z"
   },
   {
    "duration": 66,
    "start_time": "2022-04-13T21:27:49.310Z"
   },
   {
    "duration": 111,
    "start_time": "2022-04-13T21:35:13.813Z"
   },
   {
    "duration": 90,
    "start_time": "2022-04-13T21:35:29.700Z"
   },
   {
    "duration": 6,
    "start_time": "2022-04-13T21:35:54.484Z"
   },
   {
    "duration": 431,
    "start_time": "2022-04-13T21:37:05.581Z"
   },
   {
    "duration": 11,
    "start_time": "2022-04-13T21:37:44.182Z"
   },
   {
    "duration": 24,
    "start_time": "2022-04-13T21:37:54.381Z"
   },
   {
    "duration": 20,
    "start_time": "2022-04-13T21:43:10.735Z"
   },
   {
    "duration": 7,
    "start_time": "2022-04-13T21:50:20.663Z"
   },
   {
    "duration": 6,
    "start_time": "2022-04-13T21:51:02.431Z"
   },
   {
    "duration": 16,
    "start_time": "2022-04-13T21:53:00.160Z"
   },
   {
    "duration": 6,
    "start_time": "2022-04-13T21:53:24.094Z"
   },
   {
    "duration": 535,
    "start_time": "2022-04-13T21:53:31.627Z"
   },
   {
    "duration": 72,
    "start_time": "2022-04-13T21:53:32.165Z"
   },
   {
    "duration": 41,
    "start_time": "2022-04-13T21:53:32.240Z"
   },
   {
    "duration": 20,
    "start_time": "2022-04-13T21:53:32.284Z"
   },
   {
    "duration": 12,
    "start_time": "2022-04-13T21:53:32.306Z"
   },
   {
    "duration": 33,
    "start_time": "2022-04-13T21:53:32.320Z"
   },
   {
    "duration": 10,
    "start_time": "2022-04-13T21:53:32.355Z"
   },
   {
    "duration": 11,
    "start_time": "2022-04-13T21:53:32.367Z"
   },
   {
    "duration": 6,
    "start_time": "2022-04-13T21:53:32.381Z"
   },
   {
    "duration": 14,
    "start_time": "2022-04-13T21:53:32.393Z"
   },
   {
    "duration": 62,
    "start_time": "2022-04-13T21:53:32.409Z"
   },
   {
    "duration": 33,
    "start_time": "2022-04-13T21:53:32.474Z"
   },
   {
    "duration": 55,
    "start_time": "2022-04-13T21:53:32.510Z"
   },
   {
    "duration": 29,
    "start_time": "2022-04-13T21:53:32.568Z"
   },
   {
    "duration": 60,
    "start_time": "2022-04-13T21:53:32.600Z"
   },
   {
    "duration": 28,
    "start_time": "2022-04-13T21:53:32.662Z"
   },
   {
    "duration": 27,
    "start_time": "2022-04-13T21:53:32.692Z"
   },
   {
    "duration": 46,
    "start_time": "2022-04-13T21:53:32.722Z"
   },
   {
    "duration": 20,
    "start_time": "2022-04-13T21:53:32.770Z"
   },
   {
    "duration": 22,
    "start_time": "2022-04-13T21:53:32.792Z"
   },
   {
    "duration": 66,
    "start_time": "2022-04-13T21:53:32.816Z"
   },
   {
    "duration": 34,
    "start_time": "2022-04-13T21:53:32.884Z"
   },
   {
    "duration": 69,
    "start_time": "2022-04-13T21:53:32.920Z"
   },
   {
    "duration": 26,
    "start_time": "2022-04-13T21:53:32.992Z"
   },
   {
    "duration": 52,
    "start_time": "2022-04-13T21:53:33.020Z"
   },
   {
    "duration": 18,
    "start_time": "2022-04-13T21:53:33.074Z"
   },
   {
    "duration": 17,
    "start_time": "2022-04-13T21:53:33.094Z"
   },
   {
    "duration": 7,
    "start_time": "2022-04-13T21:53:33.115Z"
   },
   {
    "duration": 29,
    "start_time": "2022-04-13T21:53:33.152Z"
   },
   {
    "duration": 6,
    "start_time": "2022-04-13T21:53:33.183Z"
   },
   {
    "duration": 30,
    "start_time": "2022-04-13T21:53:33.191Z"
   },
   {
    "duration": 47,
    "start_time": "2022-04-13T21:53:33.223Z"
   },
   {
    "duration": 6,
    "start_time": "2022-04-13T21:53:33.272Z"
   },
   {
    "duration": 7,
    "start_time": "2022-04-13T21:54:53.256Z"
   },
   {
    "duration": 9,
    "start_time": "2022-04-13T21:55:13.954Z"
   },
   {
    "duration": 97,
    "start_time": "2022-04-13T21:55:35.342Z"
   },
   {
    "duration": 8,
    "start_time": "2022-04-13T21:57:00.568Z"
   },
   {
    "duration": 9,
    "start_time": "2022-04-13T21:57:35.935Z"
   },
   {
    "duration": 4,
    "start_time": "2022-04-13T21:57:48.087Z"
   },
   {
    "duration": 10,
    "start_time": "2022-04-13T21:59:11.670Z"
   },
   {
    "duration": 10,
    "start_time": "2022-04-13T21:59:24.742Z"
   },
   {
    "duration": 5,
    "start_time": "2022-04-13T22:08:49.465Z"
   },
   {
    "duration": 18,
    "start_time": "2022-04-13T22:10:50.384Z"
   },
   {
    "duration": 20,
    "start_time": "2022-04-13T22:11:37.529Z"
   },
   {
    "duration": 17,
    "start_time": "2022-04-13T22:11:44.265Z"
   },
   {
    "duration": 28,
    "start_time": "2022-04-13T22:15:38.434Z"
   },
   {
    "duration": 24,
    "start_time": "2022-04-13T22:15:56.586Z"
   },
   {
    "duration": 28,
    "start_time": "2022-04-13T22:16:18.985Z"
   },
   {
    "duration": 32,
    "start_time": "2022-04-13T22:16:31.913Z"
   },
   {
    "duration": 27,
    "start_time": "2022-04-13T22:16:59.946Z"
   },
   {
    "duration": 30,
    "start_time": "2022-04-13T22:17:47.514Z"
   },
   {
    "duration": 20,
    "start_time": "2022-04-13T22:17:59.258Z"
   },
   {
    "duration": 19,
    "start_time": "2022-04-13T22:18:14.249Z"
   },
   {
    "duration": 19,
    "start_time": "2022-04-13T22:33:47.908Z"
   },
   {
    "duration": 1473,
    "start_time": "2022-04-13T22:34:41.300Z"
   },
   {
    "duration": 1280,
    "start_time": "2022-04-13T22:35:06.213Z"
   },
   {
    "duration": 44,
    "start_time": "2022-04-14T19:43:10.352Z"
   },
   {
    "duration": 6,
    "start_time": "2022-04-14T19:43:20.890Z"
   },
   {
    "duration": 414,
    "start_time": "2022-04-14T19:43:34.570Z"
   },
   {
    "duration": 57,
    "start_time": "2022-04-14T19:43:34.986Z"
   },
   {
    "duration": 22,
    "start_time": "2022-04-14T19:43:35.045Z"
   },
   {
    "duration": 13,
    "start_time": "2022-04-14T19:43:35.069Z"
   },
   {
    "duration": 18,
    "start_time": "2022-04-14T19:43:35.084Z"
   },
   {
    "duration": 4,
    "start_time": "2022-04-14T19:43:35.103Z"
   },
   {
    "duration": 5,
    "start_time": "2022-04-14T19:43:35.108Z"
   },
   {
    "duration": 8,
    "start_time": "2022-04-14T19:43:35.114Z"
   },
   {
    "duration": 4,
    "start_time": "2022-04-14T19:43:35.123Z"
   },
   {
    "duration": 9,
    "start_time": "2022-04-14T19:43:35.129Z"
   },
   {
    "duration": 12,
    "start_time": "2022-04-14T19:43:35.139Z"
   },
   {
    "duration": 53,
    "start_time": "2022-04-14T19:43:35.153Z"
   },
   {
    "duration": 12,
    "start_time": "2022-04-14T19:43:35.207Z"
   },
   {
    "duration": 19,
    "start_time": "2022-04-14T19:43:35.221Z"
   },
   {
    "duration": 18,
    "start_time": "2022-04-14T19:43:35.241Z"
   },
   {
    "duration": 41,
    "start_time": "2022-04-14T19:43:35.260Z"
   },
   {
    "duration": 18,
    "start_time": "2022-04-14T19:43:35.302Z"
   },
   {
    "duration": 14,
    "start_time": "2022-04-14T19:43:35.321Z"
   },
   {
    "duration": 14,
    "start_time": "2022-04-14T19:43:35.336Z"
   },
   {
    "duration": 16,
    "start_time": "2022-04-14T19:43:35.351Z"
   },
   {
    "duration": 50,
    "start_time": "2022-04-14T19:43:35.368Z"
   },
   {
    "duration": 24,
    "start_time": "2022-04-14T19:43:35.420Z"
   },
   {
    "duration": 33,
    "start_time": "2022-04-14T19:43:35.445Z"
   },
   {
    "duration": 36,
    "start_time": "2022-04-14T19:43:35.479Z"
   },
   {
    "duration": 14,
    "start_time": "2022-04-14T19:43:35.517Z"
   },
   {
    "duration": 13,
    "start_time": "2022-04-14T19:43:35.532Z"
   },
   {
    "duration": 11,
    "start_time": "2022-04-14T19:43:35.546Z"
   },
   {
    "duration": 6,
    "start_time": "2022-04-14T19:43:35.560Z"
   },
   {
    "duration": 42,
    "start_time": "2022-04-14T19:43:35.568Z"
   },
   {
    "duration": 4,
    "start_time": "2022-04-14T19:43:35.612Z"
   },
   {
    "duration": 16,
    "start_time": "2022-04-14T19:43:35.617Z"
   },
   {
    "duration": 11,
    "start_time": "2022-04-14T19:43:35.635Z"
   },
   {
    "duration": 10,
    "start_time": "2022-04-14T19:43:35.648Z"
   },
   {
    "duration": 97,
    "start_time": "2022-04-14T19:43:35.660Z"
   },
   {
    "duration": 10,
    "start_time": "2022-04-14T19:44:06.491Z"
   },
   {
    "duration": 7,
    "start_time": "2022-04-14T19:44:15.281Z"
   },
   {
    "duration": 12,
    "start_time": "2022-04-14T19:45:11.497Z"
   },
   {
    "duration": 12,
    "start_time": "2022-04-14T19:45:20.905Z"
   },
   {
    "duration": 11,
    "start_time": "2022-04-14T19:45:24.257Z"
   },
   {
    "duration": 8,
    "start_time": "2022-04-14T19:45:37.448Z"
   },
   {
    "duration": 2,
    "start_time": "2022-04-14T19:52:00.227Z"
   },
   {
    "duration": 4,
    "start_time": "2022-04-14T19:52:15.785Z"
   },
   {
    "duration": 3,
    "start_time": "2022-04-14T19:53:17.545Z"
   },
   {
    "duration": 5,
    "start_time": "2022-04-14T19:59:36.804Z"
   },
   {
    "duration": 5,
    "start_time": "2022-04-14T19:59:53.611Z"
   },
   {
    "duration": 7,
    "start_time": "2022-04-14T20:00:55.339Z"
   },
   {
    "duration": 201,
    "start_time": "2022-04-14T20:01:06.914Z"
   },
   {
    "duration": 193,
    "start_time": "2022-04-14T20:01:51.955Z"
   },
   {
    "duration": 198,
    "start_time": "2022-04-14T20:02:04.914Z"
   },
   {
    "duration": 6,
    "start_time": "2022-04-14T20:02:37.675Z"
   },
   {
    "duration": 5,
    "start_time": "2022-04-14T20:02:51.043Z"
   },
   {
    "duration": 8,
    "start_time": "2022-04-14T20:03:13.730Z"
   },
   {
    "duration": 10,
    "start_time": "2022-04-14T20:03:53.427Z"
   },
   {
    "duration": 9,
    "start_time": "2022-04-14T20:04:34.708Z"
   },
   {
    "duration": 14,
    "start_time": "2022-04-14T20:04:45.851Z"
   },
   {
    "duration": 14,
    "start_time": "2022-04-14T20:04:53.923Z"
   },
   {
    "duration": 9,
    "start_time": "2022-04-14T20:06:06.788Z"
   },
   {
    "duration": 7,
    "start_time": "2022-04-14T20:06:15.651Z"
   },
   {
    "duration": 177,
    "start_time": "2022-04-14T20:07:49.067Z"
   },
   {
    "duration": 7,
    "start_time": "2022-04-14T20:08:02.779Z"
   },
   {
    "duration": 13,
    "start_time": "2022-04-14T20:09:47.836Z"
   },
   {
    "duration": 12,
    "start_time": "2022-04-14T20:11:03.380Z"
   },
   {
    "duration": 11,
    "start_time": "2022-04-14T20:11:32.468Z"
   },
   {
    "duration": 17,
    "start_time": "2022-04-14T20:12:02.168Z"
   },
   {
    "duration": 908,
    "start_time": "2022-04-14T20:14:05.813Z"
   },
   {
    "duration": 40,
    "start_time": "2022-04-14T20:15:09.973Z"
   },
   {
    "duration": 123,
    "start_time": "2022-04-14T20:20:01.191Z"
   },
   {
    "duration": 112,
    "start_time": "2022-04-14T20:20:49.005Z"
   },
   {
    "duration": 115,
    "start_time": "2022-04-14T20:21:10.741Z"
   },
   {
    "duration": 12,
    "start_time": "2022-04-14T20:21:49.934Z"
   },
   {
    "duration": 9,
    "start_time": "2022-04-14T20:24:29.494Z"
   },
   {
    "duration": 86,
    "start_time": "2022-04-14T20:25:01.163Z"
   },
   {
    "duration": 4,
    "start_time": "2022-04-14T20:33:30.736Z"
   },
   {
    "duration": 4,
    "start_time": "2022-04-14T20:34:20.392Z"
   },
   {
    "duration": 3548,
    "start_time": "2022-04-14T20:36:24.480Z"
   },
   {
    "duration": 3177,
    "start_time": "2022-04-14T20:38:05.513Z"
   },
   {
    "duration": 3069,
    "start_time": "2022-04-14T20:39:35.721Z"
   },
   {
    "duration": 13,
    "start_time": "2022-04-14T20:40:44.985Z"
   },
   {
    "duration": 190,
    "start_time": "2022-04-14T20:41:29.258Z"
   },
   {
    "duration": 12,
    "start_time": "2022-04-14T20:41:37.569Z"
   },
   {
    "duration": 3024,
    "start_time": "2022-04-14T20:41:40.210Z"
   },
   {
    "duration": 3077,
    "start_time": "2022-04-14T20:42:38.369Z"
   },
   {
    "duration": 3170,
    "start_time": "2022-04-14T20:45:33.116Z"
   },
   {
    "duration": 9,
    "start_time": "2022-04-14T20:45:46.082Z"
   },
   {
    "duration": 15,
    "start_time": "2022-04-14T20:46:46.420Z"
   },
   {
    "duration": 15,
    "start_time": "2022-04-14T20:47:07.531Z"
   },
   {
    "duration": 3229,
    "start_time": "2022-04-14T20:47:33.346Z"
   },
   {
    "duration": 209,
    "start_time": "2022-04-14T20:48:23.013Z"
   },
   {
    "duration": 263,
    "start_time": "2022-04-14T20:48:46.259Z"
   },
   {
    "duration": 205,
    "start_time": "2022-04-14T20:48:59.115Z"
   },
   {
    "duration": 12,
    "start_time": "2022-04-14T20:49:26.570Z"
   },
   {
    "duration": 9,
    "start_time": "2022-04-14T20:49:56.933Z"
   },
   {
    "duration": 3245,
    "start_time": "2022-04-14T20:50:20.730Z"
   },
   {
    "duration": 4,
    "start_time": "2022-04-14T20:51:40.420Z"
   },
   {
    "duration": 8,
    "start_time": "2022-04-14T20:52:04.634Z"
   },
   {
    "duration": 7,
    "start_time": "2022-04-14T20:52:47.898Z"
   },
   {
    "duration": 9,
    "start_time": "2022-04-14T20:54:46.964Z"
   },
   {
    "duration": 112,
    "start_time": "2022-04-14T20:56:08.212Z"
   },
   {
    "duration": 126,
    "start_time": "2022-04-14T20:56:31.532Z"
   },
   {
    "duration": 18,
    "start_time": "2022-04-14T21:10:49.222Z"
   },
   {
    "duration": 14,
    "start_time": "2022-04-14T21:11:12.461Z"
   },
   {
    "duration": 2950,
    "start_time": "2022-04-14T21:14:12.990Z"
   },
   {
    "duration": 3038,
    "start_time": "2022-04-14T21:14:16.597Z"
   },
   {
    "duration": 3119,
    "start_time": "2022-04-14T21:14:32.710Z"
   },
   {
    "duration": 13,
    "start_time": "2022-04-14T21:15:24.614Z"
   },
   {
    "duration": 15,
    "start_time": "2022-04-14T21:20:14.671Z"
   },
   {
    "duration": 126,
    "start_time": "2022-04-14T21:20:36.622Z"
   },
   {
    "duration": 47,
    "start_time": "2022-04-18T17:35:24.316Z"
   },
   {
    "duration": 353,
    "start_time": "2022-04-18T17:35:33.652Z"
   },
   {
    "duration": 59,
    "start_time": "2022-04-18T17:35:34.007Z"
   },
   {
    "duration": 23,
    "start_time": "2022-04-18T17:35:34.068Z"
   },
   {
    "duration": 14,
    "start_time": "2022-04-18T17:35:34.099Z"
   },
   {
    "duration": 8,
    "start_time": "2022-04-18T17:35:34.114Z"
   },
   {
    "duration": 3,
    "start_time": "2022-04-18T17:35:34.124Z"
   },
   {
    "duration": 5,
    "start_time": "2022-04-18T17:35:34.128Z"
   },
   {
    "duration": 6,
    "start_time": "2022-04-18T17:35:34.134Z"
   },
   {
    "duration": 4,
    "start_time": "2022-04-18T17:35:34.142Z"
   },
   {
    "duration": 10,
    "start_time": "2022-04-18T17:35:34.149Z"
   },
   {
    "duration": 15,
    "start_time": "2022-04-18T17:35:34.200Z"
   },
   {
    "duration": 29,
    "start_time": "2022-04-18T17:35:34.217Z"
   },
   {
    "duration": 12,
    "start_time": "2022-04-18T17:35:34.247Z"
   },
   {
    "duration": 42,
    "start_time": "2022-04-18T17:35:34.260Z"
   },
   {
    "duration": 20,
    "start_time": "2022-04-18T17:35:34.303Z"
   },
   {
    "duration": 15,
    "start_time": "2022-04-18T17:35:34.324Z"
   },
   {
    "duration": 18,
    "start_time": "2022-04-18T17:35:34.340Z"
   },
   {
    "duration": 43,
    "start_time": "2022-04-18T17:35:34.359Z"
   },
   {
    "duration": 15,
    "start_time": "2022-04-18T17:35:34.403Z"
   },
   {
    "duration": 16,
    "start_time": "2022-04-18T17:35:34.420Z"
   },
   {
    "duration": 21,
    "start_time": "2022-04-18T17:35:34.437Z"
   },
   {
    "duration": 60,
    "start_time": "2022-04-18T17:35:34.460Z"
   },
   {
    "duration": 30,
    "start_time": "2022-04-18T17:35:34.522Z"
   },
   {
    "duration": 18,
    "start_time": "2022-04-18T17:35:34.553Z"
   },
   {
    "duration": 41,
    "start_time": "2022-04-18T17:35:34.572Z"
   },
   {
    "duration": 26,
    "start_time": "2022-04-18T17:35:34.614Z"
   },
   {
    "duration": 6,
    "start_time": "2022-04-18T17:35:34.642Z"
   },
   {
    "duration": 13,
    "start_time": "2022-04-18T17:35:34.651Z"
   },
   {
    "duration": 5,
    "start_time": "2022-04-18T17:35:34.665Z"
   },
   {
    "duration": 38,
    "start_time": "2022-04-18T17:35:34.671Z"
   },
   {
    "duration": 4,
    "start_time": "2022-04-18T17:35:34.711Z"
   },
   {
    "duration": 16,
    "start_time": "2022-04-18T17:35:34.716Z"
   },
   {
    "duration": 13,
    "start_time": "2022-04-18T17:35:34.733Z"
   },
   {
    "duration": 1667,
    "start_time": "2022-04-18T17:35:34.748Z"
   },
   {
    "duration": 0,
    "start_time": "2022-04-18T17:35:36.417Z"
   },
   {
    "duration": 0,
    "start_time": "2022-04-18T17:35:36.418Z"
   },
   {
    "duration": 0,
    "start_time": "2022-04-18T17:35:36.420Z"
   },
   {
    "duration": 0,
    "start_time": "2022-04-18T17:35:36.421Z"
   },
   {
    "duration": 1,
    "start_time": "2022-04-18T17:35:36.422Z"
   },
   {
    "duration": 22,
    "start_time": "2022-04-18T17:40:08.782Z"
   },
   {
    "duration": 375,
    "start_time": "2022-04-18T17:40:26.125Z"
   },
   {
    "duration": 71,
    "start_time": "2022-04-18T17:40:26.502Z"
   },
   {
    "duration": 24,
    "start_time": "2022-04-18T17:40:26.575Z"
   },
   {
    "duration": 15,
    "start_time": "2022-04-18T17:40:26.601Z"
   },
   {
    "duration": 10,
    "start_time": "2022-04-18T17:40:26.617Z"
   },
   {
    "duration": 4,
    "start_time": "2022-04-18T17:40:26.628Z"
   },
   {
    "duration": 5,
    "start_time": "2022-04-18T17:40:26.633Z"
   },
   {
    "duration": 5,
    "start_time": "2022-04-18T17:40:26.639Z"
   },
   {
    "duration": 5,
    "start_time": "2022-04-18T17:40:26.646Z"
   },
   {
    "duration": 48,
    "start_time": "2022-04-18T17:40:26.653Z"
   },
   {
    "duration": 14,
    "start_time": "2022-04-18T17:40:26.702Z"
   },
   {
    "duration": 20,
    "start_time": "2022-04-18T17:40:26.718Z"
   },
   {
    "duration": 12,
    "start_time": "2022-04-18T17:40:26.739Z"
   },
   {
    "duration": 54,
    "start_time": "2022-04-18T17:40:26.753Z"
   },
   {
    "duration": 18,
    "start_time": "2022-04-18T17:40:26.808Z"
   },
   {
    "duration": 15,
    "start_time": "2022-04-18T17:40:26.828Z"
   },
   {
    "duration": 17,
    "start_time": "2022-04-18T17:40:26.844Z"
   },
   {
    "duration": 44,
    "start_time": "2022-04-18T17:40:26.863Z"
   },
   {
    "duration": 15,
    "start_time": "2022-04-18T17:40:26.908Z"
   },
   {
    "duration": 17,
    "start_time": "2022-04-18T17:40:26.925Z"
   },
   {
    "duration": 22,
    "start_time": "2022-04-18T17:40:26.943Z"
   },
   {
    "duration": 53,
    "start_time": "2022-04-18T17:40:26.966Z"
   },
   {
    "duration": 24,
    "start_time": "2022-04-18T17:40:27.021Z"
   },
   {
    "duration": 60,
    "start_time": "2022-04-18T17:40:27.046Z"
   },
   {
    "duration": 18,
    "start_time": "2022-04-18T17:40:27.108Z"
   },
   {
    "duration": 16,
    "start_time": "2022-04-18T17:40:27.127Z"
   },
   {
    "duration": 15,
    "start_time": "2022-04-18T17:40:27.144Z"
   },
   {
    "duration": 39,
    "start_time": "2022-04-18T17:40:27.163Z"
   },
   {
    "duration": 18,
    "start_time": "2022-04-18T17:40:27.204Z"
   },
   {
    "duration": 9,
    "start_time": "2022-04-18T17:40:27.223Z"
   },
   {
    "duration": 19,
    "start_time": "2022-04-18T17:40:27.234Z"
   },
   {
    "duration": 4,
    "start_time": "2022-04-18T17:40:27.255Z"
   },
   {
    "duration": 42,
    "start_time": "2022-04-18T17:40:27.260Z"
   },
   {
    "duration": 14,
    "start_time": "2022-04-18T17:40:27.303Z"
   },
   {
    "duration": 1130,
    "start_time": "2022-04-18T17:40:27.318Z"
   },
   {
    "duration": 0,
    "start_time": "2022-04-18T17:40:28.450Z"
   },
   {
    "duration": 0,
    "start_time": "2022-04-18T17:40:28.451Z"
   },
   {
    "duration": 0,
    "start_time": "2022-04-18T17:40:28.452Z"
   },
   {
    "duration": 0,
    "start_time": "2022-04-18T17:40:28.453Z"
   },
   {
    "duration": 0,
    "start_time": "2022-04-18T17:40:28.454Z"
   },
   {
    "duration": 21,
    "start_time": "2022-04-18T17:43:14.923Z"
   },
   {
    "duration": 19,
    "start_time": "2022-04-18T17:44:52.767Z"
   },
   {
    "duration": 368,
    "start_time": "2022-04-18T17:45:02.138Z"
   },
   {
    "duration": 61,
    "start_time": "2022-04-18T17:45:02.508Z"
   },
   {
    "duration": 30,
    "start_time": "2022-04-18T17:45:02.571Z"
   },
   {
    "duration": 15,
    "start_time": "2022-04-18T17:45:02.604Z"
   },
   {
    "duration": 11,
    "start_time": "2022-04-18T17:45:02.621Z"
   },
   {
    "duration": 6,
    "start_time": "2022-04-18T17:45:02.634Z"
   },
   {
    "duration": 13,
    "start_time": "2022-04-18T17:45:02.642Z"
   },
   {
    "duration": 20,
    "start_time": "2022-04-18T17:45:02.656Z"
   },
   {
    "duration": 4,
    "start_time": "2022-04-18T17:45:02.700Z"
   },
   {
    "duration": 21,
    "start_time": "2022-04-18T17:45:02.707Z"
   },
   {
    "duration": 22,
    "start_time": "2022-04-18T17:45:02.729Z"
   },
   {
    "duration": 24,
    "start_time": "2022-04-18T17:45:02.752Z"
   },
   {
    "duration": 29,
    "start_time": "2022-04-18T17:45:02.777Z"
   },
   {
    "duration": 18,
    "start_time": "2022-04-18T17:45:02.807Z"
   },
   {
    "duration": 19,
    "start_time": "2022-04-18T17:45:02.826Z"
   },
   {
    "duration": 19,
    "start_time": "2022-04-18T17:45:02.847Z"
   },
   {
    "duration": 47,
    "start_time": "2022-04-18T17:45:02.867Z"
   },
   {
    "duration": 14,
    "start_time": "2022-04-18T17:45:02.916Z"
   },
   {
    "duration": 30,
    "start_time": "2022-04-18T17:45:02.932Z"
   },
   {
    "duration": 19,
    "start_time": "2022-04-18T17:45:02.963Z"
   },
   {
    "duration": 34,
    "start_time": "2022-04-18T17:45:02.983Z"
   },
   {
    "duration": 20,
    "start_time": "2022-04-18T17:45:03.019Z"
   },
   {
    "duration": 19,
    "start_time": "2022-04-18T17:45:03.041Z"
   },
   {
    "duration": 42,
    "start_time": "2022-04-18T17:45:03.061Z"
   },
   {
    "duration": 30,
    "start_time": "2022-04-18T17:45:03.105Z"
   },
   {
    "duration": 19,
    "start_time": "2022-04-18T17:45:03.137Z"
   },
   {
    "duration": 43,
    "start_time": "2022-04-18T17:45:03.158Z"
   },
   {
    "duration": 14,
    "start_time": "2022-04-18T17:45:03.204Z"
   },
   {
    "duration": 7,
    "start_time": "2022-04-18T17:45:03.219Z"
   },
   {
    "duration": 16,
    "start_time": "2022-04-18T17:45:03.228Z"
   },
   {
    "duration": 6,
    "start_time": "2022-04-18T17:45:03.246Z"
   },
   {
    "duration": 51,
    "start_time": "2022-04-18T17:45:03.254Z"
   },
   {
    "duration": 7,
    "start_time": "2022-04-18T17:45:03.306Z"
   },
   {
    "duration": 20,
    "start_time": "2022-04-18T17:45:03.314Z"
   },
   {
    "duration": 13,
    "start_time": "2022-04-18T17:45:03.336Z"
   },
   {
    "duration": 1013,
    "start_time": "2022-04-18T17:45:03.351Z"
   },
   {
    "duration": 0,
    "start_time": "2022-04-18T17:45:04.366Z"
   },
   {
    "duration": 0,
    "start_time": "2022-04-18T17:45:04.367Z"
   },
   {
    "duration": 0,
    "start_time": "2022-04-18T17:45:04.367Z"
   },
   {
    "duration": 0,
    "start_time": "2022-04-18T17:45:04.369Z"
   },
   {
    "duration": 1,
    "start_time": "2022-04-18T17:45:04.369Z"
   },
   {
    "duration": 23,
    "start_time": "2022-04-18T17:50:21.812Z"
   },
   {
    "duration": 405,
    "start_time": "2022-04-18T17:50:29.474Z"
   },
   {
    "duration": 60,
    "start_time": "2022-04-18T17:50:29.881Z"
   },
   {
    "duration": 22,
    "start_time": "2022-04-18T17:50:29.943Z"
   },
   {
    "duration": 14,
    "start_time": "2022-04-18T17:50:29.967Z"
   },
   {
    "duration": 22,
    "start_time": "2022-04-18T17:50:29.983Z"
   },
   {
    "duration": 16,
    "start_time": "2022-04-18T17:50:30.006Z"
   },
   {
    "duration": 6,
    "start_time": "2022-04-18T17:50:30.023Z"
   },
   {
    "duration": 6,
    "start_time": "2022-04-18T17:50:30.031Z"
   },
   {
    "duration": 3,
    "start_time": "2022-04-18T17:50:30.039Z"
   },
   {
    "duration": 13,
    "start_time": "2022-04-18T17:50:30.045Z"
   },
   {
    "duration": 41,
    "start_time": "2022-04-18T17:50:30.060Z"
   },
   {
    "duration": 20,
    "start_time": "2022-04-18T17:50:30.103Z"
   },
   {
    "duration": 19,
    "start_time": "2022-04-18T17:50:30.124Z"
   },
   {
    "duration": 18,
    "start_time": "2022-04-18T17:50:30.144Z"
   },
   {
    "duration": 44,
    "start_time": "2022-04-18T17:50:30.164Z"
   },
   {
    "duration": 18,
    "start_time": "2022-04-18T17:50:30.209Z"
   },
   {
    "duration": 27,
    "start_time": "2022-04-18T17:50:30.229Z"
   },
   {
    "duration": 44,
    "start_time": "2022-04-18T17:50:30.257Z"
   },
   {
    "duration": 18,
    "start_time": "2022-04-18T17:50:30.303Z"
   },
   {
    "duration": 19,
    "start_time": "2022-04-18T17:50:30.323Z"
   },
   {
    "duration": 22,
    "start_time": "2022-04-18T17:50:30.344Z"
   },
   {
    "duration": 54,
    "start_time": "2022-04-18T17:50:30.367Z"
   },
   {
    "duration": 23,
    "start_time": "2022-04-18T17:50:30.422Z"
   },
   {
    "duration": 28,
    "start_time": "2022-04-18T17:50:30.446Z"
   },
   {
    "duration": 51,
    "start_time": "2022-04-18T17:50:30.475Z"
   },
   {
    "duration": 23,
    "start_time": "2022-04-18T17:50:30.528Z"
   },
   {
    "duration": 51,
    "start_time": "2022-04-18T17:50:30.552Z"
   },
   {
    "duration": 13,
    "start_time": "2022-04-18T17:50:30.606Z"
   },
   {
    "duration": 10,
    "start_time": "2022-04-18T17:50:30.620Z"
   },
   {
    "duration": 32,
    "start_time": "2022-04-18T17:50:30.631Z"
   },
   {
    "duration": 22,
    "start_time": "2022-04-18T17:50:30.665Z"
   },
   {
    "duration": 29,
    "start_time": "2022-04-18T17:50:30.688Z"
   },
   {
    "duration": 19,
    "start_time": "2022-04-18T17:50:30.719Z"
   },
   {
    "duration": 25,
    "start_time": "2022-04-18T17:50:30.740Z"
   },
   {
    "duration": 23,
    "start_time": "2022-04-18T17:50:30.767Z"
   },
   {
    "duration": 1033,
    "start_time": "2022-04-18T17:50:30.791Z"
   },
   {
    "duration": 0,
    "start_time": "2022-04-18T17:50:31.826Z"
   },
   {
    "duration": 0,
    "start_time": "2022-04-18T17:50:31.827Z"
   },
   {
    "duration": 0,
    "start_time": "2022-04-18T17:50:31.828Z"
   },
   {
    "duration": 0,
    "start_time": "2022-04-18T17:50:31.829Z"
   },
   {
    "duration": 0,
    "start_time": "2022-04-18T17:50:31.831Z"
   },
   {
    "duration": 21,
    "start_time": "2022-04-18T17:52:59.119Z"
   },
   {
    "duration": 389,
    "start_time": "2022-04-18T17:53:10.453Z"
   },
   {
    "duration": 84,
    "start_time": "2022-04-18T17:53:10.844Z"
   },
   {
    "duration": 25,
    "start_time": "2022-04-18T17:53:10.929Z"
   },
   {
    "duration": 44,
    "start_time": "2022-04-18T17:53:10.956Z"
   },
   {
    "duration": 10,
    "start_time": "2022-04-18T17:53:11.002Z"
   },
   {
    "duration": 8,
    "start_time": "2022-04-18T17:53:11.013Z"
   },
   {
    "duration": 7,
    "start_time": "2022-04-18T17:53:11.023Z"
   },
   {
    "duration": 8,
    "start_time": "2022-04-18T17:53:11.031Z"
   },
   {
    "duration": 4,
    "start_time": "2022-04-18T17:53:11.041Z"
   },
   {
    "duration": 9,
    "start_time": "2022-04-18T17:53:11.047Z"
   },
   {
    "duration": 49,
    "start_time": "2022-04-18T17:53:11.058Z"
   },
   {
    "duration": 21,
    "start_time": "2022-04-18T17:53:11.108Z"
   },
   {
    "duration": 13,
    "start_time": "2022-04-18T17:53:11.130Z"
   },
   {
    "duration": 56,
    "start_time": "2022-04-18T17:53:11.145Z"
   },
   {
    "duration": 20,
    "start_time": "2022-04-18T17:53:11.203Z"
   },
   {
    "duration": 17,
    "start_time": "2022-04-18T17:53:11.225Z"
   },
   {
    "duration": 20,
    "start_time": "2022-04-18T17:53:11.243Z"
   },
   {
    "duration": 17,
    "start_time": "2022-04-18T17:53:11.299Z"
   },
   {
    "duration": 15,
    "start_time": "2022-04-18T17:53:11.318Z"
   },
   {
    "duration": 17,
    "start_time": "2022-04-18T17:53:11.335Z"
   },
   {
    "duration": 57,
    "start_time": "2022-04-18T17:53:11.354Z"
   },
   {
    "duration": 22,
    "start_time": "2022-04-18T17:53:11.413Z"
   },
   {
    "duration": 20,
    "start_time": "2022-04-18T17:53:11.437Z"
   },
   {
    "duration": 53,
    "start_time": "2022-04-18T17:53:11.459Z"
   },
   {
    "duration": 26,
    "start_time": "2022-04-18T17:53:11.513Z"
   },
   {
    "duration": 21,
    "start_time": "2022-04-18T17:53:11.540Z"
   },
   {
    "duration": 48,
    "start_time": "2022-04-18T17:53:11.563Z"
   },
   {
    "duration": 15,
    "start_time": "2022-04-18T17:53:11.614Z"
   },
   {
    "duration": 11,
    "start_time": "2022-04-18T17:53:11.630Z"
   },
   {
    "duration": 6,
    "start_time": "2022-04-18T17:53:11.643Z"
   },
   {
    "duration": 11,
    "start_time": "2022-04-18T17:53:11.651Z"
   },
   {
    "duration": 39,
    "start_time": "2022-04-18T17:53:11.664Z"
   },
   {
    "duration": 20,
    "start_time": "2022-04-18T17:53:11.704Z"
   },
   {
    "duration": 4,
    "start_time": "2022-04-18T17:53:11.725Z"
   },
   {
    "duration": 18,
    "start_time": "2022-04-18T17:53:11.730Z"
   },
   {
    "duration": 12,
    "start_time": "2022-04-18T17:53:11.749Z"
   },
   {
    "duration": 1009,
    "start_time": "2022-04-18T17:53:11.763Z"
   },
   {
    "duration": 0,
    "start_time": "2022-04-18T17:53:12.773Z"
   },
   {
    "duration": 0,
    "start_time": "2022-04-18T17:53:12.775Z"
   },
   {
    "duration": 0,
    "start_time": "2022-04-18T17:53:12.776Z"
   },
   {
    "duration": 0,
    "start_time": "2022-04-18T17:53:12.777Z"
   },
   {
    "duration": 0,
    "start_time": "2022-04-18T17:53:12.778Z"
   },
   {
    "duration": 19,
    "start_time": "2022-04-18T17:55:21.421Z"
   },
   {
    "duration": 10,
    "start_time": "2022-04-18T17:56:36.962Z"
   },
   {
    "duration": 405,
    "start_time": "2022-04-18T17:56:59.678Z"
   },
   {
    "duration": 59,
    "start_time": "2022-04-18T17:57:00.087Z"
   },
   {
    "duration": 25,
    "start_time": "2022-04-18T17:57:00.148Z"
   },
   {
    "duration": 29,
    "start_time": "2022-04-18T17:57:00.175Z"
   },
   {
    "duration": 12,
    "start_time": "2022-04-18T17:57:00.206Z"
   },
   {
    "duration": 8,
    "start_time": "2022-04-18T17:57:00.220Z"
   },
   {
    "duration": 13,
    "start_time": "2022-04-18T17:57:00.230Z"
   },
   {
    "duration": 8,
    "start_time": "2022-04-18T17:57:00.245Z"
   },
   {
    "duration": 13,
    "start_time": "2022-04-18T17:57:00.254Z"
   },
   {
    "duration": 36,
    "start_time": "2022-04-18T17:57:00.269Z"
   },
   {
    "duration": 13,
    "start_time": "2022-04-18T17:57:00.307Z"
   },
   {
    "duration": 21,
    "start_time": "2022-04-18T17:57:00.321Z"
   },
   {
    "duration": 12,
    "start_time": "2022-04-18T17:57:00.344Z"
   },
   {
    "duration": 46,
    "start_time": "2022-04-18T17:57:00.357Z"
   },
   {
    "duration": 19,
    "start_time": "2022-04-18T17:57:00.405Z"
   },
   {
    "duration": 15,
    "start_time": "2022-04-18T17:57:00.425Z"
   },
   {
    "duration": 17,
    "start_time": "2022-04-18T17:57:00.442Z"
   },
   {
    "duration": 44,
    "start_time": "2022-04-18T17:57:00.461Z"
   },
   {
    "duration": 17,
    "start_time": "2022-04-18T17:57:00.507Z"
   },
   {
    "duration": 32,
    "start_time": "2022-04-18T17:57:00.526Z"
   },
   {
    "duration": 26,
    "start_time": "2022-04-18T17:57:00.559Z"
   },
   {
    "duration": 33,
    "start_time": "2022-04-18T17:57:00.586Z"
   },
   {
    "duration": 34,
    "start_time": "2022-04-18T17:57:00.620Z"
   },
   {
    "duration": 40,
    "start_time": "2022-04-18T17:57:00.656Z"
   },
   {
    "duration": 25,
    "start_time": "2022-04-18T17:57:00.697Z"
   },
   {
    "duration": 21,
    "start_time": "2022-04-18T17:57:00.723Z"
   },
   {
    "duration": 21,
    "start_time": "2022-04-18T17:57:00.745Z"
   },
   {
    "duration": 20,
    "start_time": "2022-04-18T17:57:00.800Z"
   },
   {
    "duration": 17,
    "start_time": "2022-04-18T17:57:00.821Z"
   },
   {
    "duration": 12,
    "start_time": "2022-04-18T17:57:00.840Z"
   },
   {
    "duration": 7,
    "start_time": "2022-04-18T17:57:00.853Z"
   },
   {
    "duration": 45,
    "start_time": "2022-04-18T17:57:00.861Z"
   },
   {
    "duration": 6,
    "start_time": "2022-04-18T17:57:00.907Z"
   },
   {
    "duration": 30,
    "start_time": "2022-04-18T17:57:00.914Z"
   },
   {
    "duration": 4,
    "start_time": "2022-04-18T17:57:00.945Z"
   },
   {
    "duration": 21,
    "start_time": "2022-04-18T17:57:00.951Z"
   },
   {
    "duration": 29,
    "start_time": "2022-04-18T17:57:00.974Z"
   },
   {
    "duration": 953,
    "start_time": "2022-04-18T17:57:01.005Z"
   },
   {
    "duration": 0,
    "start_time": "2022-04-18T17:57:01.960Z"
   },
   {
    "duration": 0,
    "start_time": "2022-04-18T17:57:01.961Z"
   },
   {
    "duration": 0,
    "start_time": "2022-04-18T17:57:01.962Z"
   },
   {
    "duration": 0,
    "start_time": "2022-04-18T17:57:01.963Z"
   },
   {
    "duration": 0,
    "start_time": "2022-04-18T17:57:01.964Z"
   },
   {
    "duration": 1154,
    "start_time": "2022-04-18T17:59:00.754Z"
   },
   {
    "duration": 88,
    "start_time": "2022-04-18T17:59:18.852Z"
   },
   {
    "duration": 8,
    "start_time": "2022-04-18T17:59:21.252Z"
   },
   {
    "duration": 1118,
    "start_time": "2022-04-18T17:59:30.378Z"
   },
   {
    "duration": 58,
    "start_time": "2022-04-18T17:59:31.498Z"
   },
   {
    "duration": 15,
    "start_time": "2022-04-18T17:59:31.557Z"
   },
   {
    "duration": 27,
    "start_time": "2022-04-18T17:59:31.574Z"
   },
   {
    "duration": 9,
    "start_time": "2022-04-18T17:59:31.602Z"
   },
   {
    "duration": 7,
    "start_time": "2022-04-18T17:59:31.612Z"
   },
   {
    "duration": 10,
    "start_time": "2022-04-18T17:59:31.621Z"
   },
   {
    "duration": 7,
    "start_time": "2022-04-18T17:59:31.633Z"
   },
   {
    "duration": 4,
    "start_time": "2022-04-18T17:59:31.642Z"
   },
   {
    "duration": 13,
    "start_time": "2022-04-18T17:59:31.649Z"
   },
   {
    "duration": 14,
    "start_time": "2022-04-18T17:59:31.700Z"
   },
   {
    "duration": 22,
    "start_time": "2022-04-18T17:59:31.715Z"
   },
   {
    "duration": 11,
    "start_time": "2022-04-18T17:59:31.738Z"
   },
   {
    "duration": 54,
    "start_time": "2022-04-18T17:59:31.750Z"
   },
   {
    "duration": 19,
    "start_time": "2022-04-18T17:59:31.806Z"
   },
   {
    "duration": 16,
    "start_time": "2022-04-18T17:59:31.827Z"
   },
   {
    "duration": 25,
    "start_time": "2022-04-18T17:59:31.845Z"
   },
   {
    "duration": 43,
    "start_time": "2022-04-18T17:59:31.871Z"
   },
   {
    "duration": 19,
    "start_time": "2022-04-18T17:59:31.916Z"
   },
   {
    "duration": 16,
    "start_time": "2022-04-18T17:59:31.937Z"
   },
   {
    "duration": 51,
    "start_time": "2022-04-18T17:59:31.955Z"
   },
   {
    "duration": 22,
    "start_time": "2022-04-18T17:59:32.007Z"
   },
   {
    "duration": 19,
    "start_time": "2022-04-18T17:59:32.031Z"
   },
   {
    "duration": 51,
    "start_time": "2022-04-18T17:59:32.051Z"
   },
   {
    "duration": 24,
    "start_time": "2022-04-18T17:59:32.104Z"
   },
   {
    "duration": 20,
    "start_time": "2022-04-18T17:59:32.130Z"
   },
   {
    "duration": 52,
    "start_time": "2022-04-18T17:59:32.152Z"
   },
   {
    "duration": 17,
    "start_time": "2022-04-18T17:59:32.207Z"
   },
   {
    "duration": 15,
    "start_time": "2022-04-18T17:59:32.226Z"
   },
   {
    "duration": 19,
    "start_time": "2022-04-18T17:59:32.242Z"
   },
   {
    "duration": 10,
    "start_time": "2022-04-18T17:59:32.263Z"
   },
   {
    "duration": 30,
    "start_time": "2022-04-18T17:59:32.275Z"
   },
   {
    "duration": 12,
    "start_time": "2022-04-18T17:59:32.306Z"
   },
   {
    "duration": 24,
    "start_time": "2022-04-18T17:59:32.319Z"
   },
   {
    "duration": 9,
    "start_time": "2022-04-18T17:59:32.344Z"
   },
   {
    "duration": 46,
    "start_time": "2022-04-18T17:59:32.354Z"
   },
   {
    "duration": 14,
    "start_time": "2022-04-18T17:59:32.402Z"
   },
   {
    "duration": 200,
    "start_time": "2022-04-18T17:59:32.417Z"
   },
   {
    "duration": 0,
    "start_time": "2022-04-18T17:59:32.618Z"
   },
   {
    "duration": 0,
    "start_time": "2022-04-18T17:59:32.619Z"
   },
   {
    "duration": 0,
    "start_time": "2022-04-18T17:59:32.620Z"
   },
   {
    "duration": 0,
    "start_time": "2022-04-18T17:59:32.621Z"
   },
   {
    "duration": 0,
    "start_time": "2022-04-18T17:59:32.622Z"
   },
   {
    "duration": 12,
    "start_time": "2022-04-18T18:02:24.820Z"
   },
   {
    "duration": 7,
    "start_time": "2022-04-18T18:04:14.380Z"
   },
   {
    "duration": 8,
    "start_time": "2022-04-18T18:04:20.852Z"
   },
   {
    "duration": 41,
    "start_time": "2022-04-18T18:10:44.333Z"
   },
   {
    "duration": 44,
    "start_time": "2022-04-18T18:11:46.493Z"
   },
   {
    "duration": 16,
    "start_time": "2022-04-18T18:18:45.270Z"
   },
   {
    "duration": 15,
    "start_time": "2022-04-18T18:20:28.526Z"
   },
   {
    "duration": 17,
    "start_time": "2022-04-18T18:20:36.086Z"
   },
   {
    "duration": 15,
    "start_time": "2022-04-18T18:20:41.045Z"
   },
   {
    "duration": 10,
    "start_time": "2022-04-18T18:24:03.902Z"
   },
   {
    "duration": 10,
    "start_time": "2022-04-18T18:24:23.261Z"
   },
   {
    "duration": 5,
    "start_time": "2022-04-18T18:25:55.239Z"
   },
   {
    "duration": 3,
    "start_time": "2022-04-18T18:28:20.417Z"
   },
   {
    "duration": 9,
    "start_time": "2022-04-18T18:28:30.174Z"
   },
   {
    "duration": 13,
    "start_time": "2022-04-18T18:28:59.150Z"
   },
   {
    "duration": 18,
    "start_time": "2022-04-18T18:30:21.078Z"
   },
   {
    "duration": 1120,
    "start_time": "2022-04-18T18:30:53.758Z"
   },
   {
    "duration": 58,
    "start_time": "2022-04-18T18:30:54.879Z"
   },
   {
    "duration": 16,
    "start_time": "2022-04-18T18:30:54.938Z"
   },
   {
    "duration": 14,
    "start_time": "2022-04-18T18:30:54.956Z"
   },
   {
    "duration": 32,
    "start_time": "2022-04-18T18:30:54.971Z"
   },
   {
    "duration": 4,
    "start_time": "2022-04-18T18:30:55.004Z"
   },
   {
    "duration": 6,
    "start_time": "2022-04-18T18:30:55.009Z"
   },
   {
    "duration": 6,
    "start_time": "2022-04-18T18:30:55.016Z"
   },
   {
    "duration": 3,
    "start_time": "2022-04-18T18:30:55.024Z"
   },
   {
    "duration": 10,
    "start_time": "2022-04-18T18:30:55.029Z"
   },
   {
    "duration": 13,
    "start_time": "2022-04-18T18:30:55.040Z"
   },
   {
    "duration": 19,
    "start_time": "2022-04-18T18:30:55.100Z"
   },
   {
    "duration": 11,
    "start_time": "2022-04-18T18:30:55.121Z"
   },
   {
    "duration": 18,
    "start_time": "2022-04-18T18:30:55.134Z"
   },
   {
    "duration": 51,
    "start_time": "2022-04-18T18:30:55.153Z"
   },
   {
    "duration": 16,
    "start_time": "2022-04-18T18:30:55.205Z"
   },
   {
    "duration": 17,
    "start_time": "2022-04-18T18:30:55.223Z"
   },
   {
    "duration": 14,
    "start_time": "2022-04-18T18:30:55.242Z"
   },
   {
    "duration": 47,
    "start_time": "2022-04-18T18:30:55.257Z"
   },
   {
    "duration": 15,
    "start_time": "2022-04-18T18:30:55.305Z"
   },
   {
    "duration": 46,
    "start_time": "2022-04-18T18:30:55.322Z"
   },
   {
    "duration": 41,
    "start_time": "2022-04-18T18:30:55.369Z"
   },
   {
    "duration": 11,
    "start_time": "2022-04-18T18:30:55.411Z"
   },
   {
    "duration": 10,
    "start_time": "2022-04-18T18:30:55.424Z"
   },
   {
    "duration": 5,
    "start_time": "2022-04-18T18:30:55.435Z"
   },
   {
    "duration": 60,
    "start_time": "2022-04-18T18:30:55.441Z"
   },
   {
    "duration": 5,
    "start_time": "2022-04-18T18:30:55.503Z"
   },
   {
    "duration": 17,
    "start_time": "2022-04-18T18:30:55.512Z"
   },
   {
    "duration": 136,
    "start_time": "2022-04-18T18:30:55.530Z"
   },
   {
    "duration": 0,
    "start_time": "2022-04-18T18:30:55.667Z"
   },
   {
    "duration": 0,
    "start_time": "2022-04-18T18:30:55.669Z"
   },
   {
    "duration": 0,
    "start_time": "2022-04-18T18:30:55.670Z"
   },
   {
    "duration": 0,
    "start_time": "2022-04-18T18:30:55.672Z"
   },
   {
    "duration": 0,
    "start_time": "2022-04-18T18:30:55.673Z"
   },
   {
    "duration": 0,
    "start_time": "2022-04-18T18:30:55.674Z"
   },
   {
    "duration": 0,
    "start_time": "2022-04-18T18:30:55.675Z"
   },
   {
    "duration": 0,
    "start_time": "2022-04-18T18:30:55.676Z"
   },
   {
    "duration": 18,
    "start_time": "2022-04-18T18:31:05.182Z"
   },
   {
    "duration": 19,
    "start_time": "2022-04-18T18:32:11.464Z"
   },
   {
    "duration": 3278,
    "start_time": "2022-04-18T18:32:34.246Z"
   },
   {
    "duration": 3201,
    "start_time": "2022-04-18T18:32:39.446Z"
   },
   {
    "duration": 3129,
    "start_time": "2022-04-18T18:33:25.024Z"
   },
   {
    "duration": 3344,
    "start_time": "2022-04-18T18:33:43.422Z"
   },
   {
    "duration": 12,
    "start_time": "2022-04-18T18:33:50.292Z"
   },
   {
    "duration": 8,
    "start_time": "2022-04-18T18:34:39.963Z"
   },
   {
    "duration": 12,
    "start_time": "2022-04-18T18:35:00.665Z"
   },
   {
    "duration": 8,
    "start_time": "2022-04-18T18:35:04.061Z"
   },
   {
    "duration": 134,
    "start_time": "2022-04-18T18:35:08.894Z"
   },
   {
    "duration": 13,
    "start_time": "2022-04-18T18:35:16.550Z"
   },
   {
    "duration": 0,
    "start_time": "2022-04-18T18:35:29.925Z"
   },
   {
    "duration": 14,
    "start_time": "2022-04-18T18:35:30.702Z"
   },
   {
    "duration": 126,
    "start_time": "2022-04-18T18:37:22.191Z"
   },
   {
    "duration": 105,
    "start_time": "2022-04-18T18:37:28.078Z"
   },
   {
    "duration": 15,
    "start_time": "2022-04-18T18:37:40.981Z"
   },
   {
    "duration": 103,
    "start_time": "2022-04-18T18:37:46.366Z"
   },
   {
    "duration": 105,
    "start_time": "2022-04-18T18:37:51.014Z"
   },
   {
    "duration": 5,
    "start_time": "2022-04-18T18:38:46.310Z"
   },
   {
    "duration": 5,
    "start_time": "2022-04-18T18:41:41.055Z"
   },
   {
    "duration": 15,
    "start_time": "2022-04-18T18:45:31.934Z"
   },
   {
    "duration": 6,
    "start_time": "2022-04-18T19:04:43.288Z"
   },
   {
    "duration": 5,
    "start_time": "2022-04-18T19:13:12.234Z"
   },
   {
    "duration": 6,
    "start_time": "2022-04-18T19:14:01.843Z"
   },
   {
    "duration": 4,
    "start_time": "2022-04-18T19:31:48.654Z"
   },
   {
    "duration": 195,
    "start_time": "2022-04-18T19:46:54.446Z"
   },
   {
    "duration": 11,
    "start_time": "2022-04-18T20:00:22.793Z"
   },
   {
    "duration": 14,
    "start_time": "2022-04-18T20:00:36.511Z"
   },
   {
    "duration": 16,
    "start_time": "2022-04-18T20:04:55.072Z"
   },
   {
    "duration": 6,
    "start_time": "2022-04-18T20:06:08.233Z"
   },
   {
    "duration": 19,
    "start_time": "2022-04-18T20:09:36.410Z"
   },
   {
    "duration": 4,
    "start_time": "2022-04-18T20:16:06.786Z"
   },
   {
    "duration": 16,
    "start_time": "2022-04-18T20:16:21.914Z"
   },
   {
    "duration": 5,
    "start_time": "2022-04-18T20:16:52.681Z"
   },
   {
    "duration": 5,
    "start_time": "2022-04-18T20:17:32.457Z"
   },
   {
    "duration": 5,
    "start_time": "2022-04-18T20:17:39.786Z"
   },
   {
    "duration": 1383,
    "start_time": "2022-04-18T20:17:51.044Z"
   },
   {
    "duration": 77,
    "start_time": "2022-04-18T20:17:52.430Z"
   },
   {
    "duration": 15,
    "start_time": "2022-04-18T20:17:52.509Z"
   },
   {
    "duration": 17,
    "start_time": "2022-04-18T20:17:52.526Z"
   },
   {
    "duration": 9,
    "start_time": "2022-04-18T20:17:52.544Z"
   },
   {
    "duration": 4,
    "start_time": "2022-04-18T20:17:52.554Z"
   },
   {
    "duration": 41,
    "start_time": "2022-04-18T20:17:52.559Z"
   },
   {
    "duration": 5,
    "start_time": "2022-04-18T20:17:52.602Z"
   },
   {
    "duration": 8,
    "start_time": "2022-04-18T20:17:52.609Z"
   },
   {
    "duration": 16,
    "start_time": "2022-04-18T20:17:52.618Z"
   },
   {
    "duration": 11,
    "start_time": "2022-04-18T20:17:52.636Z"
   },
   {
    "duration": 22,
    "start_time": "2022-04-18T20:17:52.648Z"
   },
   {
    "duration": 31,
    "start_time": "2022-04-18T20:17:52.673Z"
   },
   {
    "duration": 17,
    "start_time": "2022-04-18T20:17:52.705Z"
   },
   {
    "duration": 18,
    "start_time": "2022-04-18T20:17:52.724Z"
   },
   {
    "duration": 14,
    "start_time": "2022-04-18T20:17:52.743Z"
   },
   {
    "duration": 45,
    "start_time": "2022-04-18T20:17:52.759Z"
   },
   {
    "duration": 13,
    "start_time": "2022-04-18T20:17:52.806Z"
   },
   {
    "duration": 13,
    "start_time": "2022-04-18T20:17:52.820Z"
   },
   {
    "duration": 16,
    "start_time": "2022-04-18T20:17:52.834Z"
   },
   {
    "duration": 78,
    "start_time": "2022-04-18T20:17:52.851Z"
   },
   {
    "duration": 13,
    "start_time": "2022-04-18T20:17:52.931Z"
   },
   {
    "duration": 11,
    "start_time": "2022-04-18T20:17:52.945Z"
   },
   {
    "duration": 11,
    "start_time": "2022-04-18T20:17:52.957Z"
   },
   {
    "duration": 32,
    "start_time": "2022-04-18T20:17:52.969Z"
   },
   {
    "duration": 18,
    "start_time": "2022-04-18T20:17:53.002Z"
   },
   {
    "duration": 4,
    "start_time": "2022-04-18T20:17:53.021Z"
   },
   {
    "duration": 14,
    "start_time": "2022-04-18T20:17:53.027Z"
   },
   {
    "duration": 12,
    "start_time": "2022-04-18T20:17:53.043Z"
   },
   {
    "duration": 5,
    "start_time": "2022-04-18T20:17:53.056Z"
   },
   {
    "duration": 48,
    "start_time": "2022-04-18T20:17:53.062Z"
   },
   {
    "duration": 6,
    "start_time": "2022-04-18T20:17:53.111Z"
   },
   {
    "duration": 141,
    "start_time": "2022-04-18T20:17:53.119Z"
   },
   {
    "duration": 16,
    "start_time": "2022-04-18T20:17:53.261Z"
   },
   {
    "duration": 127,
    "start_time": "2022-04-18T20:17:53.278Z"
   },
   {
    "duration": 109,
    "start_time": "2022-04-18T20:17:53.407Z"
   },
   {
    "duration": 0,
    "start_time": "2022-04-18T20:17:53.518Z"
   },
   {
    "duration": 4,
    "start_time": "2022-04-18T20:21:28.567Z"
   },
   {
    "duration": 5,
    "start_time": "2022-04-18T20:21:53.518Z"
   },
   {
    "duration": 5,
    "start_time": "2022-04-18T20:22:08.782Z"
   },
   {
    "duration": 5,
    "start_time": "2022-04-18T20:22:16.889Z"
   },
   {
    "duration": 4,
    "start_time": "2022-04-18T20:22:24.903Z"
   },
   {
    "duration": 4,
    "start_time": "2022-04-18T20:25:34.855Z"
   },
   {
    "duration": 4,
    "start_time": "2022-04-18T20:25:49.695Z"
   },
   {
    "duration": 4,
    "start_time": "2022-04-18T20:26:07.055Z"
   },
   {
    "duration": 4,
    "start_time": "2022-04-18T20:26:29.439Z"
   },
   {
    "duration": 4,
    "start_time": "2022-04-18T20:26:41.047Z"
   },
   {
    "duration": 4,
    "start_time": "2022-04-18T20:27:43.552Z"
   },
   {
    "duration": 200,
    "start_time": "2022-04-18T20:28:26.679Z"
   },
   {
    "duration": 21,
    "start_time": "2022-04-18T20:28:48.552Z"
   },
   {
    "duration": 18,
    "start_time": "2022-04-18T20:29:01.008Z"
   },
   {
    "duration": 1061,
    "start_time": "2022-04-18T20:29:10.821Z"
   },
   {
    "duration": 62,
    "start_time": "2022-04-18T20:29:11.884Z"
   },
   {
    "duration": 16,
    "start_time": "2022-04-18T20:29:11.948Z"
   },
   {
    "duration": 16,
    "start_time": "2022-04-18T20:29:11.966Z"
   },
   {
    "duration": 10,
    "start_time": "2022-04-18T20:29:12.000Z"
   },
   {
    "duration": 4,
    "start_time": "2022-04-18T20:29:12.011Z"
   },
   {
    "duration": 6,
    "start_time": "2022-04-18T20:29:12.016Z"
   },
   {
    "duration": 8,
    "start_time": "2022-04-18T20:29:12.023Z"
   },
   {
    "duration": 4,
    "start_time": "2022-04-18T20:29:12.032Z"
   },
   {
    "duration": 9,
    "start_time": "2022-04-18T20:29:12.039Z"
   },
   {
    "duration": 51,
    "start_time": "2022-04-18T20:29:12.049Z"
   },
   {
    "duration": 19,
    "start_time": "2022-04-18T20:29:12.102Z"
   },
   {
    "duration": 13,
    "start_time": "2022-04-18T20:29:12.123Z"
   },
   {
    "duration": 18,
    "start_time": "2022-04-18T20:29:12.138Z"
   },
   {
    "duration": 47,
    "start_time": "2022-04-18T20:29:12.158Z"
   },
   {
    "duration": 16,
    "start_time": "2022-04-18T20:29:12.207Z"
   },
   {
    "duration": 17,
    "start_time": "2022-04-18T20:29:12.225Z"
   },
   {
    "duration": 14,
    "start_time": "2022-04-18T20:29:12.244Z"
   },
   {
    "duration": 50,
    "start_time": "2022-04-18T20:29:12.260Z"
   },
   {
    "duration": 20,
    "start_time": "2022-04-18T20:29:12.312Z"
   },
   {
    "duration": 75,
    "start_time": "2022-04-18T20:29:12.334Z"
   },
   {
    "duration": 14,
    "start_time": "2022-04-18T20:29:12.412Z"
   },
   {
    "duration": 12,
    "start_time": "2022-04-18T20:29:12.428Z"
   },
   {
    "duration": 12,
    "start_time": "2022-04-18T20:29:12.441Z"
   },
   {
    "duration": 8,
    "start_time": "2022-04-18T20:29:12.454Z"
   },
   {
    "duration": 53,
    "start_time": "2022-04-18T20:29:12.463Z"
   },
   {
    "duration": 6,
    "start_time": "2022-04-18T20:29:12.517Z"
   },
   {
    "duration": 17,
    "start_time": "2022-04-18T20:29:12.526Z"
   },
   {
    "duration": 17,
    "start_time": "2022-04-18T20:29:12.544Z"
   },
   {
    "duration": 5,
    "start_time": "2022-04-18T20:29:12.562Z"
   },
   {
    "duration": 12,
    "start_time": "2022-04-18T20:29:12.601Z"
   },
   {
    "duration": 6,
    "start_time": "2022-04-18T20:29:12.614Z"
   },
   {
    "duration": 147,
    "start_time": "2022-04-18T20:29:12.622Z"
   },
   {
    "duration": 15,
    "start_time": "2022-04-18T20:29:12.770Z"
   },
   {
    "duration": 129,
    "start_time": "2022-04-18T20:29:12.786Z"
   },
   {
    "duration": 116,
    "start_time": "2022-04-18T20:29:12.917Z"
   },
   {
    "duration": 0,
    "start_time": "2022-04-18T20:29:13.035Z"
   },
   {
    "duration": 16,
    "start_time": "2022-04-18T20:30:00.661Z"
   },
   {
    "duration": 14,
    "start_time": "2022-04-18T20:30:46.444Z"
   },
   {
    "duration": 5,
    "start_time": "2022-04-18T20:32:18.615Z"
   },
   {
    "duration": 2212,
    "start_time": "2022-04-18T20:32:27.671Z"
   },
   {
    "duration": 300,
    "start_time": "2022-04-18T20:32:29.885Z"
   },
   {
    "duration": 21,
    "start_time": "2022-04-18T20:32:30.187Z"
   },
   {
    "duration": 17,
    "start_time": "2022-04-18T20:32:30.211Z"
   },
   {
    "duration": 12,
    "start_time": "2022-04-18T20:32:30.230Z"
   },
   {
    "duration": 8,
    "start_time": "2022-04-18T20:32:30.243Z"
   },
   {
    "duration": 13,
    "start_time": "2022-04-18T20:32:30.252Z"
   },
   {
    "duration": 36,
    "start_time": "2022-04-18T20:32:30.266Z"
   },
   {
    "duration": 4,
    "start_time": "2022-04-18T20:32:30.303Z"
   },
   {
    "duration": 15,
    "start_time": "2022-04-18T20:32:30.310Z"
   },
   {
    "duration": 15,
    "start_time": "2022-04-18T20:32:30.326Z"
   },
   {
    "duration": 36,
    "start_time": "2022-04-18T20:32:30.342Z"
   },
   {
    "duration": 23,
    "start_time": "2022-04-18T20:32:30.380Z"
   },
   {
    "duration": 19,
    "start_time": "2022-04-18T20:32:30.405Z"
   },
   {
    "duration": 54,
    "start_time": "2022-04-18T20:32:30.426Z"
   },
   {
    "duration": 47,
    "start_time": "2022-04-18T20:32:30.482Z"
   },
   {
    "duration": 55,
    "start_time": "2022-04-18T20:32:30.530Z"
   },
   {
    "duration": 23,
    "start_time": "2022-04-18T20:32:30.586Z"
   },
   {
    "duration": 18,
    "start_time": "2022-04-18T20:32:30.611Z"
   },
   {
    "duration": 26,
    "start_time": "2022-04-18T20:32:30.631Z"
   },
   {
    "duration": 59,
    "start_time": "2022-04-18T20:32:30.658Z"
   },
   {
    "duration": 17,
    "start_time": "2022-04-18T20:32:30.719Z"
   },
   {
    "duration": 14,
    "start_time": "2022-04-18T20:32:30.738Z"
   },
   {
    "duration": 20,
    "start_time": "2022-04-18T20:32:30.754Z"
   },
   {
    "duration": 13,
    "start_time": "2022-04-18T20:32:30.775Z"
   },
   {
    "duration": 25,
    "start_time": "2022-04-18T20:32:30.800Z"
   },
   {
    "duration": 10,
    "start_time": "2022-04-18T20:32:30.827Z"
   },
   {
    "duration": 31,
    "start_time": "2022-04-18T20:32:30.840Z"
   },
   {
    "duration": 20,
    "start_time": "2022-04-18T20:32:30.873Z"
   },
   {
    "duration": 9,
    "start_time": "2022-04-18T20:32:30.895Z"
   },
   {
    "duration": 19,
    "start_time": "2022-04-18T20:32:30.906Z"
   },
   {
    "duration": 8,
    "start_time": "2022-04-18T20:32:30.926Z"
   },
   {
    "duration": 143,
    "start_time": "2022-04-18T20:32:30.935Z"
   },
   {
    "duration": 22,
    "start_time": "2022-04-18T20:32:31.080Z"
   },
   {
    "duration": 111,
    "start_time": "2022-04-18T20:32:31.104Z"
   },
   {
    "duration": 14,
    "start_time": "2022-04-18T20:32:31.216Z"
   },
   {
    "duration": 6,
    "start_time": "2022-04-18T20:32:31.231Z"
   },
   {
    "duration": 3106,
    "start_time": "2022-04-18T20:33:31.640Z"
   },
   {
    "duration": 2982,
    "start_time": "2022-04-18T20:33:34.944Z"
   },
   {
    "duration": 3092,
    "start_time": "2022-04-18T20:34:37.649Z"
   },
   {
    "duration": 8,
    "start_time": "2022-04-18T20:37:03.137Z"
   },
   {
    "duration": 1176,
    "start_time": "2022-04-18T21:27:23.529Z"
   },
   {
    "duration": 58,
    "start_time": "2022-04-18T21:27:24.707Z"
   },
   {
    "duration": 14,
    "start_time": "2022-04-18T21:27:24.767Z"
   },
   {
    "duration": 24,
    "start_time": "2022-04-18T21:27:24.783Z"
   },
   {
    "duration": 9,
    "start_time": "2022-04-18T21:27:24.808Z"
   },
   {
    "duration": 5,
    "start_time": "2022-04-18T21:27:24.818Z"
   },
   {
    "duration": 5,
    "start_time": "2022-04-18T21:27:24.825Z"
   },
   {
    "duration": 7,
    "start_time": "2022-04-18T21:27:24.831Z"
   },
   {
    "duration": 4,
    "start_time": "2022-04-18T21:27:24.840Z"
   },
   {
    "duration": 54,
    "start_time": "2022-04-18T21:27:24.847Z"
   },
   {
    "duration": 13,
    "start_time": "2022-04-18T21:27:24.903Z"
   },
   {
    "duration": 19,
    "start_time": "2022-04-18T21:27:24.917Z"
   },
   {
    "duration": 10,
    "start_time": "2022-04-18T21:27:24.938Z"
   },
   {
    "duration": 50,
    "start_time": "2022-04-18T21:27:24.950Z"
   },
   {
    "duration": 19,
    "start_time": "2022-04-18T21:27:25.002Z"
   },
   {
    "duration": 15,
    "start_time": "2022-04-18T21:27:25.022Z"
   },
   {
    "duration": 17,
    "start_time": "2022-04-18T21:27:25.039Z"
   },
   {
    "duration": 44,
    "start_time": "2022-04-18T21:27:25.057Z"
   },
   {
    "duration": 14,
    "start_time": "2022-04-18T21:27:25.102Z"
   },
   {
    "duration": 15,
    "start_time": "2022-04-18T21:27:25.117Z"
   },
   {
    "duration": 68,
    "start_time": "2022-04-18T21:27:25.133Z"
   },
   {
    "duration": 16,
    "start_time": "2022-04-18T21:27:25.202Z"
   },
   {
    "duration": 12,
    "start_time": "2022-04-18T21:27:25.220Z"
   },
   {
    "duration": 12,
    "start_time": "2022-04-18T21:27:25.233Z"
   },
   {
    "duration": 8,
    "start_time": "2022-04-18T21:27:25.246Z"
   },
   {
    "duration": 49,
    "start_time": "2022-04-18T21:27:25.256Z"
   },
   {
    "duration": 5,
    "start_time": "2022-04-18T21:27:25.307Z"
   },
   {
    "duration": 19,
    "start_time": "2022-04-18T21:27:25.315Z"
   },
   {
    "duration": 13,
    "start_time": "2022-04-18T21:27:25.336Z"
   },
   {
    "duration": 4,
    "start_time": "2022-04-18T21:27:25.350Z"
   },
   {
    "duration": 45,
    "start_time": "2022-04-18T21:27:25.355Z"
   },
   {
    "duration": 7,
    "start_time": "2022-04-18T21:27:25.401Z"
   },
   {
    "duration": 130,
    "start_time": "2022-04-18T21:27:25.409Z"
   },
   {
    "duration": 14,
    "start_time": "2022-04-18T21:27:25.541Z"
   },
   {
    "duration": 113,
    "start_time": "2022-04-18T21:27:25.557Z"
   },
   {
    "duration": 31,
    "start_time": "2022-04-18T21:27:25.671Z"
   },
   {
    "duration": 14,
    "start_time": "2022-04-18T21:32:06.670Z"
   },
   {
    "duration": 1104,
    "start_time": "2022-04-18T21:32:41.433Z"
   },
   {
    "duration": 59,
    "start_time": "2022-04-18T21:32:42.539Z"
   },
   {
    "duration": 19,
    "start_time": "2022-04-18T21:32:42.600Z"
   },
   {
    "duration": 14,
    "start_time": "2022-04-18T21:32:42.621Z"
   },
   {
    "duration": 9,
    "start_time": "2022-04-18T21:32:42.636Z"
   },
   {
    "duration": 3,
    "start_time": "2022-04-18T21:32:42.647Z"
   },
   {
    "duration": 4,
    "start_time": "2022-04-18T21:32:42.652Z"
   },
   {
    "duration": 47,
    "start_time": "2022-04-18T21:32:42.657Z"
   },
   {
    "duration": 4,
    "start_time": "2022-04-18T21:32:42.706Z"
   },
   {
    "duration": 12,
    "start_time": "2022-04-18T21:32:42.712Z"
   },
   {
    "duration": 12,
    "start_time": "2022-04-18T21:32:42.725Z"
   },
   {
    "duration": 23,
    "start_time": "2022-04-18T21:32:42.738Z"
   },
   {
    "duration": 39,
    "start_time": "2022-04-18T21:32:42.762Z"
   },
   {
    "duration": 17,
    "start_time": "2022-04-18T21:32:42.803Z"
   },
   {
    "duration": 18,
    "start_time": "2022-04-18T21:32:42.821Z"
   },
   {
    "duration": 15,
    "start_time": "2022-04-18T21:32:42.841Z"
   },
   {
    "duration": 51,
    "start_time": "2022-04-18T21:32:42.858Z"
   },
   {
    "duration": 15,
    "start_time": "2022-04-18T21:32:42.910Z"
   },
   {
    "duration": 16,
    "start_time": "2022-04-18T21:32:42.927Z"
   },
   {
    "duration": 17,
    "start_time": "2022-04-18T21:32:42.944Z"
   },
   {
    "duration": 75,
    "start_time": "2022-04-18T21:32:42.963Z"
   },
   {
    "duration": 13,
    "start_time": "2022-04-18T21:32:43.040Z"
   },
   {
    "duration": 11,
    "start_time": "2022-04-18T21:32:43.055Z"
   },
   {
    "duration": 40,
    "start_time": "2022-04-18T21:32:43.067Z"
   },
   {
    "duration": 5,
    "start_time": "2022-04-18T21:32:43.109Z"
   },
   {
    "duration": 18,
    "start_time": "2022-04-18T21:32:43.115Z"
   },
   {
    "duration": 6,
    "start_time": "2022-04-18T21:32:43.134Z"
   },
   {
    "duration": 17,
    "start_time": "2022-04-18T21:32:43.143Z"
   },
   {
    "duration": 50,
    "start_time": "2022-04-18T21:32:43.161Z"
   },
   {
    "duration": 4,
    "start_time": "2022-04-18T21:32:43.212Z"
   },
   {
    "duration": 11,
    "start_time": "2022-04-18T21:32:43.218Z"
   },
   {
    "duration": 6,
    "start_time": "2022-04-18T21:32:43.231Z"
   },
   {
    "duration": 144,
    "start_time": "2022-04-18T21:32:43.238Z"
   },
   {
    "duration": 23,
    "start_time": "2022-04-18T21:32:43.383Z"
   },
   {
    "duration": 113,
    "start_time": "2022-04-18T21:32:43.407Z"
   },
   {
    "duration": 14,
    "start_time": "2022-04-18T21:32:43.522Z"
   },
   {
    "duration": 216,
    "start_time": "2022-04-18T21:40:45.420Z"
   },
   {
    "duration": 216,
    "start_time": "2022-04-18T21:48:08.684Z"
   },
   {
    "duration": 1048,
    "start_time": "2022-04-18T21:49:57.037Z"
   },
   {
    "duration": 60,
    "start_time": "2022-04-18T21:49:58.086Z"
   },
   {
    "duration": 19,
    "start_time": "2022-04-18T21:49:58.147Z"
   },
   {
    "duration": 17,
    "start_time": "2022-04-18T21:49:58.168Z"
   },
   {
    "duration": 18,
    "start_time": "2022-04-18T21:49:58.186Z"
   },
   {
    "duration": 7,
    "start_time": "2022-04-18T21:49:58.205Z"
   },
   {
    "duration": 5,
    "start_time": "2022-04-18T21:49:58.213Z"
   },
   {
    "duration": 6,
    "start_time": "2022-04-18T21:49:58.220Z"
   },
   {
    "duration": 4,
    "start_time": "2022-04-18T21:49:58.228Z"
   },
   {
    "duration": 12,
    "start_time": "2022-04-18T21:49:58.234Z"
   },
   {
    "duration": 12,
    "start_time": "2022-04-18T21:49:58.247Z"
   },
   {
    "duration": 21,
    "start_time": "2022-04-18T21:49:58.301Z"
   },
   {
    "duration": 12,
    "start_time": "2022-04-18T21:49:58.324Z"
   },
   {
    "duration": 18,
    "start_time": "2022-04-18T21:49:58.338Z"
   },
   {
    "duration": 52,
    "start_time": "2022-04-18T21:49:58.358Z"
   },
   {
    "duration": 16,
    "start_time": "2022-04-18T21:49:58.412Z"
   },
   {
    "duration": 17,
    "start_time": "2022-04-18T21:49:58.429Z"
   },
   {
    "duration": 14,
    "start_time": "2022-04-18T21:49:58.447Z"
   },
   {
    "duration": 47,
    "start_time": "2022-04-18T21:49:58.462Z"
   },
   {
    "duration": 15,
    "start_time": "2022-04-18T21:49:58.510Z"
   },
   {
    "duration": 46,
    "start_time": "2022-04-18T21:49:58.527Z"
   },
   {
    "duration": 31,
    "start_time": "2022-04-18T21:49:58.575Z"
   },
   {
    "duration": 11,
    "start_time": "2022-04-18T21:49:58.608Z"
   },
   {
    "duration": 11,
    "start_time": "2022-04-18T21:49:58.620Z"
   },
   {
    "duration": 5,
    "start_time": "2022-04-18T21:49:58.633Z"
   },
   {
    "duration": 20,
    "start_time": "2022-04-18T21:49:58.639Z"
   },
   {
    "duration": 43,
    "start_time": "2022-04-18T21:49:58.660Z"
   },
   {
    "duration": 18,
    "start_time": "2022-04-18T21:49:58.706Z"
   },
   {
    "duration": 13,
    "start_time": "2022-04-18T21:49:58.725Z"
   },
   {
    "duration": 4,
    "start_time": "2022-04-18T21:49:58.740Z"
   },
   {
    "duration": 12,
    "start_time": "2022-04-18T21:49:58.745Z"
   },
   {
    "duration": 43,
    "start_time": "2022-04-18T21:49:58.758Z"
   },
   {
    "duration": 126,
    "start_time": "2022-04-18T21:49:58.803Z"
   },
   {
    "duration": 15,
    "start_time": "2022-04-18T21:49:58.930Z"
   },
   {
    "duration": 119,
    "start_time": "2022-04-18T21:49:58.947Z"
   },
   {
    "duration": 14,
    "start_time": "2022-04-18T21:49:59.068Z"
   },
   {
    "duration": 1205,
    "start_time": "2022-04-27T08:59:07.613Z"
   },
   {
    "duration": 59,
    "start_time": "2022-04-27T08:59:08.820Z"
   },
   {
    "duration": 21,
    "start_time": "2022-04-27T08:59:08.881Z"
   },
   {
    "duration": 15,
    "start_time": "2022-04-27T08:59:08.904Z"
   },
   {
    "duration": 11,
    "start_time": "2022-04-27T08:59:08.921Z"
   },
   {
    "duration": 5,
    "start_time": "2022-04-27T08:59:08.933Z"
   },
   {
    "duration": 35,
    "start_time": "2022-04-27T08:59:08.940Z"
   },
   {
    "duration": 7,
    "start_time": "2022-04-27T08:59:08.977Z"
   },
   {
    "duration": 4,
    "start_time": "2022-04-27T08:59:08.986Z"
   },
   {
    "duration": 10,
    "start_time": "2022-04-27T08:59:08.992Z"
   },
   {
    "duration": 13,
    "start_time": "2022-04-27T08:59:09.004Z"
   },
   {
    "duration": 26,
    "start_time": "2022-04-27T08:59:09.018Z"
   },
   {
    "duration": 38,
    "start_time": "2022-04-27T08:59:09.046Z"
   },
   {
    "duration": 20,
    "start_time": "2022-04-27T08:59:09.087Z"
   },
   {
    "duration": 21,
    "start_time": "2022-04-27T08:59:09.109Z"
   },
   {
    "duration": 50,
    "start_time": "2022-04-27T08:59:09.132Z"
   },
   {
    "duration": 20,
    "start_time": "2022-04-27T08:59:09.184Z"
   },
   {
    "duration": 17,
    "start_time": "2022-04-27T08:59:09.206Z"
   },
   {
    "duration": 16,
    "start_time": "2022-04-27T08:59:09.225Z"
   },
   {
    "duration": 48,
    "start_time": "2022-04-27T08:59:09.243Z"
   },
   {
    "duration": 51,
    "start_time": "2022-04-27T08:59:09.294Z"
   },
   {
    "duration": 39,
    "start_time": "2022-04-27T08:59:09.347Z"
   },
   {
    "duration": 15,
    "start_time": "2022-04-27T08:59:09.388Z"
   },
   {
    "duration": 13,
    "start_time": "2022-04-27T08:59:09.404Z"
   },
   {
    "duration": 6,
    "start_time": "2022-04-27T08:59:09.419Z"
   },
   {
    "duration": 49,
    "start_time": "2022-04-27T08:59:09.426Z"
   },
   {
    "duration": 6,
    "start_time": "2022-04-27T08:59:09.477Z"
   },
   {
    "duration": 19,
    "start_time": "2022-04-27T08:59:09.484Z"
   },
   {
    "duration": 18,
    "start_time": "2022-04-27T08:59:09.505Z"
   },
   {
    "duration": 5,
    "start_time": "2022-04-27T08:59:09.525Z"
   },
   {
    "duration": 42,
    "start_time": "2022-04-27T08:59:09.532Z"
   },
   {
    "duration": 9,
    "start_time": "2022-04-27T08:59:09.576Z"
   },
   {
    "duration": 153,
    "start_time": "2022-04-27T08:59:09.586Z"
   },
   {
    "duration": 18,
    "start_time": "2022-04-27T08:59:09.741Z"
   },
   {
    "duration": 142,
    "start_time": "2022-04-27T08:59:09.761Z"
   },
   {
    "duration": 17,
    "start_time": "2022-04-27T08:59:09.905Z"
   },
   {
    "duration": 1212,
    "start_time": "2022-04-27T09:04:45.907Z"
   },
   {
    "duration": 58,
    "start_time": "2022-04-27T09:04:47.121Z"
   },
   {
    "duration": 20,
    "start_time": "2022-04-27T09:04:47.181Z"
   },
   {
    "duration": 16,
    "start_time": "2022-04-27T09:04:47.203Z"
   },
   {
    "duration": 10,
    "start_time": "2022-04-27T09:04:47.221Z"
   },
   {
    "duration": 4,
    "start_time": "2022-04-27T09:04:47.232Z"
   },
   {
    "duration": 35,
    "start_time": "2022-04-27T09:04:47.238Z"
   },
   {
    "duration": 8,
    "start_time": "2022-04-27T09:04:47.275Z"
   },
   {
    "duration": 5,
    "start_time": "2022-04-27T09:04:47.284Z"
   },
   {
    "duration": 11,
    "start_time": "2022-04-27T09:04:47.290Z"
   },
   {
    "duration": 15,
    "start_time": "2022-04-27T09:04:47.303Z"
   },
   {
    "duration": 56,
    "start_time": "2022-04-27T09:04:47.320Z"
   },
   {
    "duration": 22,
    "start_time": "2022-04-27T09:04:47.378Z"
   },
   {
    "duration": 20,
    "start_time": "2022-04-27T09:04:47.403Z"
   },
   {
    "duration": 22,
    "start_time": "2022-04-27T09:04:47.424Z"
   },
   {
    "duration": 40,
    "start_time": "2022-04-27T09:04:47.447Z"
   },
   {
    "duration": 20,
    "start_time": "2022-04-27T09:04:47.489Z"
   },
   {
    "duration": 15,
    "start_time": "2022-04-27T09:04:47.511Z"
   },
   {
    "duration": 14,
    "start_time": "2022-04-27T09:04:47.528Z"
   },
   {
    "duration": 42,
    "start_time": "2022-04-27T09:04:47.544Z"
   },
   {
    "duration": 48,
    "start_time": "2022-04-27T09:04:47.588Z"
   },
   {
    "duration": 36,
    "start_time": "2022-04-27T09:04:47.638Z"
   },
   {
    "duration": 14,
    "start_time": "2022-04-27T09:04:47.676Z"
   },
   {
    "duration": 15,
    "start_time": "2022-04-27T09:04:47.692Z"
   },
   {
    "duration": 10,
    "start_time": "2022-04-27T09:04:47.709Z"
   },
   {
    "duration": 25,
    "start_time": "2022-04-27T09:04:47.721Z"
   },
   {
    "duration": 29,
    "start_time": "2022-04-27T09:04:47.748Z"
   },
   {
    "duration": 28,
    "start_time": "2022-04-27T09:04:47.779Z"
   },
   {
    "duration": 26,
    "start_time": "2022-04-27T09:04:47.809Z"
   },
   {
    "duration": 6,
    "start_time": "2022-04-27T09:04:47.837Z"
   },
   {
    "duration": 29,
    "start_time": "2022-04-27T09:04:47.845Z"
   },
   {
    "duration": 9,
    "start_time": "2022-04-27T09:04:47.877Z"
   },
   {
    "duration": 163,
    "start_time": "2022-04-27T09:04:47.888Z"
   },
   {
    "duration": 32,
    "start_time": "2022-04-27T09:04:48.053Z"
   },
   {
    "duration": 151,
    "start_time": "2022-04-27T09:04:48.087Z"
   },
   {
    "duration": 42,
    "start_time": "2022-04-27T09:04:48.240Z"
   },
   {
    "duration": 45,
    "start_time": "2022-05-04T15:26:45.574Z"
   },
   {
    "duration": 1254,
    "start_time": "2022-05-04T15:26:57.774Z"
   },
   {
    "duration": 56,
    "start_time": "2022-05-04T15:26:59.030Z"
   },
   {
    "duration": 21,
    "start_time": "2022-05-04T15:26:59.087Z"
   },
   {
    "duration": 23,
    "start_time": "2022-05-04T15:26:59.110Z"
   },
   {
    "duration": 9,
    "start_time": "2022-05-04T15:26:59.134Z"
   },
   {
    "duration": 11,
    "start_time": "2022-05-04T15:26:59.145Z"
   },
   {
    "duration": 11,
    "start_time": "2022-05-04T15:26:59.157Z"
   },
   {
    "duration": 4,
    "start_time": "2022-05-04T15:26:59.170Z"
   },
   {
    "duration": 10,
    "start_time": "2022-05-04T15:26:59.176Z"
   },
   {
    "duration": 36,
    "start_time": "2022-05-04T15:26:59.189Z"
   },
   {
    "duration": 9,
    "start_time": "2022-05-04T15:26:59.227Z"
   },
   {
    "duration": 12,
    "start_time": "2022-05-04T15:26:59.237Z"
   },
   {
    "duration": 21,
    "start_time": "2022-05-04T15:26:59.251Z"
   },
   {
    "duration": 13,
    "start_time": "2022-05-04T15:26:59.273Z"
   },
   {
    "duration": 48,
    "start_time": "2022-05-04T15:26:59.288Z"
   },
   {
    "duration": 19,
    "start_time": "2022-05-04T15:26:59.338Z"
   },
   {
    "duration": 16,
    "start_time": "2022-05-04T15:26:59.359Z"
   },
   {
    "duration": 52,
    "start_time": "2022-05-04T15:26:59.376Z"
   },
   {
    "duration": 12,
    "start_time": "2022-05-04T15:26:59.430Z"
   },
   {
    "duration": 13,
    "start_time": "2022-05-04T15:26:59.444Z"
   },
   {
    "duration": 14,
    "start_time": "2022-05-04T15:26:59.459Z"
   },
   {
    "duration": 79,
    "start_time": "2022-05-04T15:26:59.475Z"
   },
   {
    "duration": 14,
    "start_time": "2022-05-04T15:26:59.556Z"
   },
   {
    "duration": 12,
    "start_time": "2022-05-04T15:26:59.571Z"
   },
   {
    "duration": 39,
    "start_time": "2022-05-04T15:26:59.585Z"
   },
   {
    "duration": 5,
    "start_time": "2022-05-04T15:26:59.626Z"
   },
   {
    "duration": 17,
    "start_time": "2022-05-04T15:26:59.633Z"
   },
   {
    "duration": 5,
    "start_time": "2022-05-04T15:26:59.654Z"
   },
   {
    "duration": 17,
    "start_time": "2022-05-04T15:26:59.661Z"
   },
   {
    "duration": 51,
    "start_time": "2022-05-04T15:26:59.680Z"
   },
   {
    "duration": 5,
    "start_time": "2022-05-04T15:26:59.732Z"
   },
   {
    "duration": 17,
    "start_time": "2022-05-04T15:26:59.739Z"
   },
   {
    "duration": 7,
    "start_time": "2022-05-04T15:26:59.757Z"
   },
   {
    "duration": 147,
    "start_time": "2022-05-04T15:26:59.765Z"
   },
   {
    "duration": 21,
    "start_time": "2022-05-04T15:26:59.913Z"
   },
   {
    "duration": 134,
    "start_time": "2022-05-04T15:26:59.935Z"
   },
   {
    "duration": 14,
    "start_time": "2022-05-04T15:27:00.071Z"
   },
   {
    "duration": 10,
    "start_time": "2022-05-04T15:28:25.658Z"
   },
   {
    "duration": 110,
    "start_time": "2022-05-04T15:29:24.554Z"
   },
   {
    "duration": 6,
    "start_time": "2022-05-04T15:33:48.836Z"
   },
   {
    "duration": 5,
    "start_time": "2022-05-04T15:37:24.309Z"
   },
   {
    "duration": 4,
    "start_time": "2022-05-04T15:42:04.644Z"
   },
   {
    "duration": 4,
    "start_time": "2022-05-04T15:42:10.261Z"
   },
   {
    "duration": 3,
    "start_time": "2022-05-04T15:42:22.956Z"
   },
   {
    "duration": 6,
    "start_time": "2022-05-04T15:42:45.813Z"
   },
   {
    "duration": 6,
    "start_time": "2022-05-04T15:43:56.029Z"
   },
   {
    "duration": 1071,
    "start_time": "2022-05-04T15:44:42.749Z"
   },
   {
    "duration": 50,
    "start_time": "2022-05-04T15:44:43.822Z"
   },
   {
    "duration": 22,
    "start_time": "2022-05-04T15:44:43.874Z"
   },
   {
    "duration": 32,
    "start_time": "2022-05-04T15:44:43.899Z"
   },
   {
    "duration": 19,
    "start_time": "2022-05-04T15:44:43.932Z"
   },
   {
    "duration": 27,
    "start_time": "2022-05-04T15:44:43.953Z"
   },
   {
    "duration": 31,
    "start_time": "2022-05-04T15:44:43.981Z"
   },
   {
    "duration": 28,
    "start_time": "2022-05-04T15:44:44.014Z"
   },
   {
    "duration": 21,
    "start_time": "2022-05-04T15:44:44.044Z"
   },
   {
    "duration": 38,
    "start_time": "2022-05-04T15:44:44.067Z"
   },
   {
    "duration": 23,
    "start_time": "2022-05-04T15:44:44.106Z"
   },
   {
    "duration": 42,
    "start_time": "2022-05-04T15:44:44.131Z"
   },
   {
    "duration": 31,
    "start_time": "2022-05-04T15:44:44.175Z"
   },
   {
    "duration": 43,
    "start_time": "2022-05-04T15:44:44.208Z"
   },
   {
    "duration": 40,
    "start_time": "2022-05-04T15:44:44.252Z"
   },
   {
    "duration": 32,
    "start_time": "2022-05-04T15:44:44.294Z"
   },
   {
    "duration": 36,
    "start_time": "2022-05-04T15:44:44.328Z"
   },
   {
    "duration": 22,
    "start_time": "2022-05-04T15:44:44.366Z"
   },
   {
    "duration": 22,
    "start_time": "2022-05-04T15:44:44.390Z"
   },
   {
    "duration": 39,
    "start_time": "2022-05-04T15:44:44.413Z"
   },
   {
    "duration": 20,
    "start_time": "2022-05-04T15:44:44.455Z"
   },
   {
    "duration": 26,
    "start_time": "2022-05-04T15:44:44.477Z"
   },
   {
    "duration": 36,
    "start_time": "2022-05-04T15:44:44.505Z"
   },
   {
    "duration": 86,
    "start_time": "2022-05-04T15:44:44.544Z"
   },
   {
    "duration": 20,
    "start_time": "2022-05-04T15:44:44.632Z"
   },
   {
    "duration": 32,
    "start_time": "2022-05-04T15:44:44.654Z"
   },
   {
    "duration": 35,
    "start_time": "2022-05-04T15:44:44.689Z"
   },
   {
    "duration": 24,
    "start_time": "2022-05-04T15:44:44.728Z"
   },
   {
    "duration": 49,
    "start_time": "2022-05-04T15:44:44.754Z"
   },
   {
    "duration": 7,
    "start_time": "2022-05-04T15:44:44.805Z"
   },
   {
    "duration": 51,
    "start_time": "2022-05-04T15:44:44.814Z"
   },
   {
    "duration": 25,
    "start_time": "2022-05-04T15:44:44.866Z"
   },
   {
    "duration": 7,
    "start_time": "2022-05-04T15:44:44.893Z"
   },
   {
    "duration": 45,
    "start_time": "2022-05-04T15:44:44.902Z"
   },
   {
    "duration": 11,
    "start_time": "2022-05-04T15:44:44.949Z"
   },
   {
    "duration": 213,
    "start_time": "2022-05-04T15:44:44.962Z"
   },
   {
    "duration": 23,
    "start_time": "2022-05-04T15:44:45.177Z"
   },
   {
    "duration": 192,
    "start_time": "2022-05-04T15:44:45.202Z"
   },
   {
    "duration": 29,
    "start_time": "2022-05-04T15:44:45.397Z"
   },
   {
    "duration": 6,
    "start_time": "2022-05-04T15:45:14.569Z"
   },
   {
    "duration": 6,
    "start_time": "2022-05-04T15:45:53.337Z"
   },
   {
    "duration": 7,
    "start_time": "2022-05-04T15:46:10.401Z"
   },
   {
    "duration": 7,
    "start_time": "2022-05-04T15:46:23.456Z"
   },
   {
    "duration": 121,
    "start_time": "2022-05-04T15:46:50.169Z"
   },
   {
    "duration": 6,
    "start_time": "2022-05-04T15:47:58.474Z"
   },
   {
    "duration": 109,
    "start_time": "2022-05-04T15:50:36.242Z"
   },
   {
    "duration": 5,
    "start_time": "2022-05-04T15:51:26.186Z"
   },
   {
    "duration": 10,
    "start_time": "2022-05-04T15:52:26.706Z"
   },
   {
    "duration": 4,
    "start_time": "2022-05-04T15:53:03.097Z"
   },
   {
    "duration": 7,
    "start_time": "2022-05-04T15:57:59.807Z"
   },
   {
    "duration": 14,
    "start_time": "2022-05-04T16:04:13.468Z"
   },
   {
    "duration": 16,
    "start_time": "2022-05-04T16:04:43.804Z"
   },
   {
    "duration": 7,
    "start_time": "2022-05-04T16:05:20.812Z"
   },
   {
    "duration": 130,
    "start_time": "2022-05-04T16:06:03.908Z"
   },
   {
    "duration": 6,
    "start_time": "2022-05-04T16:11:28.686Z"
   },
   {
    "duration": 5,
    "start_time": "2022-05-04T16:11:51.309Z"
   },
   {
    "duration": 3,
    "start_time": "2022-05-04T16:12:17.172Z"
   },
   {
    "duration": 100,
    "start_time": "2022-05-04T16:12:27.438Z"
   },
   {
    "duration": 8,
    "start_time": "2022-05-04T16:18:27.334Z"
   },
   {
    "duration": 9,
    "start_time": "2022-05-04T16:18:29.965Z"
   },
   {
    "duration": 12,
    "start_time": "2022-05-04T16:18:35.918Z"
   },
   {
    "duration": 12,
    "start_time": "2022-05-04T16:19:25.438Z"
   },
   {
    "duration": 109,
    "start_time": "2022-05-04T16:20:33.111Z"
   },
   {
    "duration": 157,
    "start_time": "2022-05-04T16:20:45.174Z"
   },
   {
    "duration": 117,
    "start_time": "2022-05-04T16:21:20.815Z"
   },
   {
    "duration": 1079,
    "start_time": "2022-05-04T16:21:29.374Z"
   },
   {
    "duration": 57,
    "start_time": "2022-05-04T16:21:30.456Z"
   },
   {
    "duration": 22,
    "start_time": "2022-05-04T16:21:30.514Z"
   },
   {
    "duration": 16,
    "start_time": "2022-05-04T16:21:30.538Z"
   },
   {
    "duration": 16,
    "start_time": "2022-05-04T16:21:30.556Z"
   },
   {
    "duration": 18,
    "start_time": "2022-05-04T16:21:30.574Z"
   },
   {
    "duration": 6,
    "start_time": "2022-05-04T16:21:30.594Z"
   },
   {
    "duration": 56,
    "start_time": "2022-05-04T16:21:30.602Z"
   },
   {
    "duration": 17,
    "start_time": "2022-05-04T16:21:30.660Z"
   },
   {
    "duration": 9,
    "start_time": "2022-05-04T16:21:30.680Z"
   },
   {
    "duration": 19,
    "start_time": "2022-05-04T16:21:30.691Z"
   },
   {
    "duration": 25,
    "start_time": "2022-05-04T16:21:30.711Z"
   },
   {
    "duration": 15,
    "start_time": "2022-05-04T16:21:30.737Z"
   },
   {
    "duration": 14,
    "start_time": "2022-05-04T16:21:30.753Z"
   },
   {
    "duration": 20,
    "start_time": "2022-05-04T16:21:30.769Z"
   },
   {
    "duration": 24,
    "start_time": "2022-05-04T16:21:30.791Z"
   },
   {
    "duration": 13,
    "start_time": "2022-05-04T16:21:30.817Z"
   },
   {
    "duration": 45,
    "start_time": "2022-05-04T16:21:30.832Z"
   },
   {
    "duration": 23,
    "start_time": "2022-05-04T16:21:30.879Z"
   },
   {
    "duration": 157,
    "start_time": "2022-05-04T16:21:30.904Z"
   },
   {
    "duration": 0,
    "start_time": "2022-05-04T16:21:31.063Z"
   },
   {
    "duration": 0,
    "start_time": "2022-05-04T16:21:31.064Z"
   },
   {
    "duration": 0,
    "start_time": "2022-05-04T16:21:31.065Z"
   },
   {
    "duration": 0,
    "start_time": "2022-05-04T16:21:31.066Z"
   },
   {
    "duration": 0,
    "start_time": "2022-05-04T16:21:31.067Z"
   },
   {
    "duration": 0,
    "start_time": "2022-05-04T16:21:31.068Z"
   },
   {
    "duration": 0,
    "start_time": "2022-05-04T16:21:31.069Z"
   },
   {
    "duration": 0,
    "start_time": "2022-05-04T16:21:31.070Z"
   },
   {
    "duration": 0,
    "start_time": "2022-05-04T16:21:31.071Z"
   },
   {
    "duration": 0,
    "start_time": "2022-05-04T16:21:31.072Z"
   },
   {
    "duration": 0,
    "start_time": "2022-05-04T16:21:31.073Z"
   },
   {
    "duration": 0,
    "start_time": "2022-05-04T16:21:31.074Z"
   },
   {
    "duration": 0,
    "start_time": "2022-05-04T16:21:31.076Z"
   },
   {
    "duration": 0,
    "start_time": "2022-05-04T16:21:31.077Z"
   },
   {
    "duration": 0,
    "start_time": "2022-05-04T16:21:31.078Z"
   },
   {
    "duration": 0,
    "start_time": "2022-05-04T16:21:31.079Z"
   },
   {
    "duration": 0,
    "start_time": "2022-05-04T16:21:31.080Z"
   },
   {
    "duration": 0,
    "start_time": "2022-05-04T16:21:31.081Z"
   },
   {
    "duration": 0,
    "start_time": "2022-05-04T16:21:31.082Z"
   },
   {
    "duration": 0,
    "start_time": "2022-05-04T16:21:31.083Z"
   },
   {
    "duration": 0,
    "start_time": "2022-05-04T16:21:31.085Z"
   },
   {
    "duration": 0,
    "start_time": "2022-05-04T16:21:31.086Z"
   },
   {
    "duration": 0,
    "start_time": "2022-05-04T16:21:31.087Z"
   },
   {
    "duration": 0,
    "start_time": "2022-05-04T16:21:31.088Z"
   },
   {
    "duration": 124,
    "start_time": "2022-05-04T16:22:12.788Z"
   },
   {
    "duration": 123,
    "start_time": "2022-05-04T16:22:22.846Z"
   },
   {
    "duration": 131,
    "start_time": "2022-05-04T16:23:04.742Z"
   },
   {
    "duration": 1293,
    "start_time": "2022-05-04T16:23:24.488Z"
   },
   {
    "duration": 59,
    "start_time": "2022-05-04T16:23:25.783Z"
   },
   {
    "duration": 32,
    "start_time": "2022-05-04T16:23:25.845Z"
   },
   {
    "duration": 15,
    "start_time": "2022-05-04T16:23:25.879Z"
   },
   {
    "duration": 33,
    "start_time": "2022-05-04T16:23:25.896Z"
   },
   {
    "duration": 18,
    "start_time": "2022-05-04T16:23:25.931Z"
   },
   {
    "duration": 6,
    "start_time": "2022-05-04T16:23:25.950Z"
   },
   {
    "duration": 14,
    "start_time": "2022-05-04T16:23:25.958Z"
   },
   {
    "duration": 9,
    "start_time": "2022-05-04T16:23:25.974Z"
   },
   {
    "duration": 50,
    "start_time": "2022-05-04T16:23:25.985Z"
   },
   {
    "duration": 15,
    "start_time": "2022-05-04T16:23:26.037Z"
   },
   {
    "duration": 24,
    "start_time": "2022-05-04T16:23:26.054Z"
   },
   {
    "duration": 7,
    "start_time": "2022-05-04T16:23:26.080Z"
   },
   {
    "duration": 37,
    "start_time": "2022-05-04T16:23:26.089Z"
   },
   {
    "duration": 11,
    "start_time": "2022-05-04T16:23:26.128Z"
   },
   {
    "duration": 10,
    "start_time": "2022-05-04T16:23:26.141Z"
   },
   {
    "duration": 6,
    "start_time": "2022-05-04T16:23:26.153Z"
   },
   {
    "duration": 19,
    "start_time": "2022-05-04T16:23:26.160Z"
   },
   {
    "duration": 50,
    "start_time": "2022-05-04T16:23:26.180Z"
   },
   {
    "duration": 155,
    "start_time": "2022-05-04T16:23:26.232Z"
   },
   {
    "duration": 0,
    "start_time": "2022-05-04T16:23:26.390Z"
   },
   {
    "duration": 0,
    "start_time": "2022-05-04T16:23:26.391Z"
   },
   {
    "duration": 0,
    "start_time": "2022-05-04T16:23:26.392Z"
   },
   {
    "duration": 0,
    "start_time": "2022-05-04T16:23:26.393Z"
   },
   {
    "duration": 0,
    "start_time": "2022-05-04T16:23:26.395Z"
   },
   {
    "duration": 0,
    "start_time": "2022-05-04T16:23:26.396Z"
   },
   {
    "duration": 0,
    "start_time": "2022-05-04T16:23:26.397Z"
   },
   {
    "duration": 0,
    "start_time": "2022-05-04T16:23:26.398Z"
   },
   {
    "duration": 0,
    "start_time": "2022-05-04T16:23:26.399Z"
   },
   {
    "duration": 0,
    "start_time": "2022-05-04T16:23:26.400Z"
   },
   {
    "duration": 0,
    "start_time": "2022-05-04T16:23:26.401Z"
   },
   {
    "duration": 0,
    "start_time": "2022-05-04T16:23:26.403Z"
   },
   {
    "duration": 0,
    "start_time": "2022-05-04T16:23:26.404Z"
   },
   {
    "duration": 0,
    "start_time": "2022-05-04T16:23:26.405Z"
   },
   {
    "duration": 0,
    "start_time": "2022-05-04T16:23:26.406Z"
   },
   {
    "duration": 0,
    "start_time": "2022-05-04T16:23:26.407Z"
   },
   {
    "duration": 0,
    "start_time": "2022-05-04T16:23:26.408Z"
   },
   {
    "duration": 0,
    "start_time": "2022-05-04T16:23:26.410Z"
   },
   {
    "duration": 0,
    "start_time": "2022-05-04T16:23:26.410Z"
   },
   {
    "duration": 0,
    "start_time": "2022-05-04T16:23:26.411Z"
   },
   {
    "duration": 0,
    "start_time": "2022-05-04T16:23:26.412Z"
   },
   {
    "duration": 0,
    "start_time": "2022-05-04T16:23:26.413Z"
   },
   {
    "duration": 0,
    "start_time": "2022-05-04T16:23:26.415Z"
   },
   {
    "duration": 0,
    "start_time": "2022-05-04T16:23:26.415Z"
   },
   {
    "duration": 13,
    "start_time": "2022-05-04T16:24:29.230Z"
   },
   {
    "duration": 123,
    "start_time": "2022-05-04T16:24:58.335Z"
   },
   {
    "duration": 110,
    "start_time": "2022-05-04T16:31:57.247Z"
   },
   {
    "duration": 41,
    "start_time": "2022-05-04T16:41:01.978Z"
   },
   {
    "duration": 51,
    "start_time": "2022-05-04T16:42:09.809Z"
   },
   {
    "duration": 43,
    "start_time": "2022-05-04T16:42:48.065Z"
   },
   {
    "duration": 57,
    "start_time": "2022-05-04T16:43:31.489Z"
   },
   {
    "duration": 79,
    "start_time": "2022-05-04T16:43:50.579Z"
   },
   {
    "duration": 158,
    "start_time": "2022-05-04T16:55:28.123Z"
   },
   {
    "duration": 160,
    "start_time": "2022-05-04T17:03:42.308Z"
   },
   {
    "duration": 122,
    "start_time": "2022-05-04T17:04:21.581Z"
   },
   {
    "duration": 1111,
    "start_time": "2022-05-04T17:04:38.708Z"
   },
   {
    "duration": 51,
    "start_time": "2022-05-04T17:04:39.821Z"
   },
   {
    "duration": 22,
    "start_time": "2022-05-04T17:04:39.873Z"
   },
   {
    "duration": 26,
    "start_time": "2022-05-04T17:04:39.897Z"
   },
   {
    "duration": 10,
    "start_time": "2022-05-04T17:04:39.925Z"
   },
   {
    "duration": 9,
    "start_time": "2022-05-04T17:04:39.937Z"
   },
   {
    "duration": 4,
    "start_time": "2022-05-04T17:04:39.948Z"
   },
   {
    "duration": 8,
    "start_time": "2022-05-04T17:04:39.954Z"
   },
   {
    "duration": 4,
    "start_time": "2022-05-04T17:04:39.964Z"
   },
   {
    "duration": 12,
    "start_time": "2022-05-04T17:04:39.970Z"
   },
   {
    "duration": 41,
    "start_time": "2022-05-04T17:04:39.984Z"
   },
   {
    "duration": 24,
    "start_time": "2022-05-04T17:04:40.027Z"
   },
   {
    "duration": 5,
    "start_time": "2022-05-04T17:04:40.053Z"
   },
   {
    "duration": 7,
    "start_time": "2022-05-04T17:04:40.059Z"
   },
   {
    "duration": 8,
    "start_time": "2022-05-04T17:04:40.068Z"
   },
   {
    "duration": 5,
    "start_time": "2022-05-04T17:04:40.078Z"
   },
   {
    "duration": 5,
    "start_time": "2022-05-04T17:04:40.085Z"
   },
   {
    "duration": 7,
    "start_time": "2022-05-04T17:04:40.123Z"
   },
   {
    "duration": 12,
    "start_time": "2022-05-04T17:04:40.132Z"
   },
   {
    "duration": 12,
    "start_time": "2022-05-04T17:04:40.145Z"
   },
   {
    "duration": 17,
    "start_time": "2022-05-04T17:04:40.158Z"
   },
   {
    "duration": 17,
    "start_time": "2022-05-04T17:04:40.177Z"
   },
   {
    "duration": 18,
    "start_time": "2022-05-04T17:04:40.223Z"
   },
   {
    "duration": 18,
    "start_time": "2022-05-04T17:04:40.242Z"
   },
   {
    "duration": 14,
    "start_time": "2022-05-04T17:04:40.262Z"
   },
   {
    "duration": 16,
    "start_time": "2022-05-04T17:04:40.277Z"
   },
   {
    "duration": 43,
    "start_time": "2022-05-04T17:04:40.294Z"
   },
   {
    "duration": 52,
    "start_time": "2022-05-04T17:04:40.341Z"
   },
   {
    "duration": 36,
    "start_time": "2022-05-04T17:04:40.394Z"
   },
   {
    "duration": 13,
    "start_time": "2022-05-04T17:04:40.432Z"
   },
   {
    "duration": 12,
    "start_time": "2022-05-04T17:04:40.447Z"
   },
   {
    "duration": 5,
    "start_time": "2022-05-04T17:04:40.461Z"
   },
   {
    "duration": 20,
    "start_time": "2022-05-04T17:04:40.468Z"
   },
   {
    "duration": 34,
    "start_time": "2022-05-04T17:04:40.490Z"
   },
   {
    "duration": 20,
    "start_time": "2022-05-04T17:04:40.526Z"
   },
   {
    "duration": 14,
    "start_time": "2022-05-04T17:04:40.547Z"
   },
   {
    "duration": 4,
    "start_time": "2022-05-04T17:04:40.563Z"
   },
   {
    "duration": 26,
    "start_time": "2022-05-04T17:04:40.569Z"
   },
   {
    "duration": 7,
    "start_time": "2022-05-04T17:04:40.597Z"
   },
   {
    "duration": 153,
    "start_time": "2022-05-04T17:04:40.605Z"
   },
   {
    "duration": 16,
    "start_time": "2022-05-04T17:04:40.760Z"
   },
   {
    "duration": 123,
    "start_time": "2022-05-04T17:04:40.777Z"
   },
   {
    "duration": 29,
    "start_time": "2022-05-04T17:04:40.902Z"
   },
   {
    "duration": 1400,
    "start_time": "2022-05-05T11:29:11.584Z"
   },
   {
    "duration": 63,
    "start_time": "2022-05-05T11:29:12.986Z"
   },
   {
    "duration": 22,
    "start_time": "2022-05-05T11:29:13.051Z"
   },
   {
    "duration": 16,
    "start_time": "2022-05-05T11:29:13.075Z"
   },
   {
    "duration": 10,
    "start_time": "2022-05-05T11:29:13.109Z"
   },
   {
    "duration": 11,
    "start_time": "2022-05-05T11:29:13.121Z"
   },
   {
    "duration": 4,
    "start_time": "2022-05-05T11:29:13.134Z"
   },
   {
    "duration": 6,
    "start_time": "2022-05-05T11:29:13.140Z"
   },
   {
    "duration": 4,
    "start_time": "2022-05-05T11:29:13.148Z"
   },
   {
    "duration": 13,
    "start_time": "2022-05-05T11:29:13.154Z"
   },
   {
    "duration": 14,
    "start_time": "2022-05-05T11:29:13.208Z"
   },
   {
    "duration": 24,
    "start_time": "2022-05-05T11:29:13.224Z"
   },
   {
    "duration": 6,
    "start_time": "2022-05-05T11:29:13.250Z"
   },
   {
    "duration": 5,
    "start_time": "2022-05-05T11:29:13.259Z"
   },
   {
    "duration": 7,
    "start_time": "2022-05-05T11:29:13.265Z"
   },
   {
    "duration": 6,
    "start_time": "2022-05-05T11:29:13.307Z"
   },
   {
    "duration": 6,
    "start_time": "2022-05-05T11:29:13.314Z"
   },
   {
    "duration": 8,
    "start_time": "2022-05-05T11:29:13.322Z"
   },
   {
    "duration": 17,
    "start_time": "2022-05-05T11:29:13.331Z"
   },
   {
    "duration": 12,
    "start_time": "2022-05-05T11:29:13.349Z"
   },
   {
    "duration": 53,
    "start_time": "2022-05-05T11:29:13.363Z"
   },
   {
    "duration": 18,
    "start_time": "2022-05-05T11:29:13.418Z"
   },
   {
    "duration": 18,
    "start_time": "2022-05-05T11:29:13.438Z"
   },
   {
    "duration": 21,
    "start_time": "2022-05-05T11:29:13.458Z"
   },
   {
    "duration": 43,
    "start_time": "2022-05-05T11:29:13.480Z"
   },
   {
    "duration": 17,
    "start_time": "2022-05-05T11:29:13.525Z"
   },
   {
    "duration": 20,
    "start_time": "2022-05-05T11:29:13.544Z"
   },
   {
    "duration": 86,
    "start_time": "2022-05-05T11:29:13.566Z"
   },
   {
    "duration": 17,
    "start_time": "2022-05-05T11:29:13.654Z"
   },
   {
    "duration": 41,
    "start_time": "2022-05-05T11:29:13.673Z"
   },
   {
    "duration": 13,
    "start_time": "2022-05-05T11:29:13.716Z"
   },
   {
    "duration": 6,
    "start_time": "2022-05-05T11:29:13.731Z"
   },
   {
    "duration": 21,
    "start_time": "2022-05-05T11:29:13.739Z"
   },
   {
    "duration": 6,
    "start_time": "2022-05-05T11:29:13.763Z"
   },
   {
    "duration": 54,
    "start_time": "2022-05-05T11:29:13.771Z"
   },
   {
    "duration": 16,
    "start_time": "2022-05-05T11:29:13.827Z"
   },
   {
    "duration": 6,
    "start_time": "2022-05-05T11:29:13.845Z"
   },
   {
    "duration": 15,
    "start_time": "2022-05-05T11:29:13.853Z"
   },
   {
    "duration": 43,
    "start_time": "2022-05-05T11:29:13.870Z"
   },
   {
    "duration": 161,
    "start_time": "2022-05-05T11:29:13.915Z"
   },
   {
    "duration": 31,
    "start_time": "2022-05-05T11:29:14.081Z"
   },
   {
    "duration": 149,
    "start_time": "2022-05-05T11:29:14.114Z"
   },
   {
    "duration": 18,
    "start_time": "2022-05-05T11:29:14.265Z"
   },
   {
    "duration": 1158,
    "start_time": "2022-05-05T11:32:15.846Z"
   },
   {
    "duration": 63,
    "start_time": "2022-05-05T11:32:17.006Z"
   },
   {
    "duration": 23,
    "start_time": "2022-05-05T11:32:17.071Z"
   },
   {
    "duration": 22,
    "start_time": "2022-05-05T11:32:17.096Z"
   },
   {
    "duration": 11,
    "start_time": "2022-05-05T11:32:17.120Z"
   },
   {
    "duration": 11,
    "start_time": "2022-05-05T11:32:17.132Z"
   },
   {
    "duration": 6,
    "start_time": "2022-05-05T11:32:17.145Z"
   },
   {
    "duration": 8,
    "start_time": "2022-05-05T11:32:17.153Z"
   },
   {
    "duration": 7,
    "start_time": "2022-05-05T11:32:17.163Z"
   },
   {
    "duration": 11,
    "start_time": "2022-05-05T11:32:17.209Z"
   },
   {
    "duration": 24,
    "start_time": "2022-05-05T11:32:17.222Z"
   },
   {
    "duration": 28,
    "start_time": "2022-05-05T11:32:17.247Z"
   },
   {
    "duration": 10,
    "start_time": "2022-05-05T11:32:17.277Z"
   },
   {
    "duration": 23,
    "start_time": "2022-05-05T11:32:17.289Z"
   },
   {
    "duration": 7,
    "start_time": "2022-05-05T11:32:17.314Z"
   },
   {
    "duration": 7,
    "start_time": "2022-05-05T11:32:17.323Z"
   },
   {
    "duration": 7,
    "start_time": "2022-05-05T11:32:17.332Z"
   },
   {
    "duration": 9,
    "start_time": "2022-05-05T11:32:17.341Z"
   },
   {
    "duration": 18,
    "start_time": "2022-05-05T11:32:17.352Z"
   },
   {
    "duration": 14,
    "start_time": "2022-05-05T11:32:17.408Z"
   },
   {
    "duration": 21,
    "start_time": "2022-05-05T11:32:17.424Z"
   },
   {
    "duration": 20,
    "start_time": "2022-05-05T11:32:17.447Z"
   },
   {
    "duration": 49,
    "start_time": "2022-05-05T11:32:17.469Z"
   },
   {
    "duration": 22,
    "start_time": "2022-05-05T11:32:17.520Z"
   },
   {
    "duration": 17,
    "start_time": "2022-05-05T11:32:17.544Z"
   },
   {
    "duration": 45,
    "start_time": "2022-05-05T11:32:17.563Z"
   },
   {
    "duration": 19,
    "start_time": "2022-05-05T11:32:17.610Z"
   },
   {
    "duration": 79,
    "start_time": "2022-05-05T11:32:17.634Z"
   },
   {
    "duration": 3,
    "start_time": "2022-05-05T11:32:17.715Z"
   },
   {
    "duration": 18,
    "start_time": "2022-05-05T11:32:17.719Z"
   },
   {
    "duration": 13,
    "start_time": "2022-05-05T11:32:17.739Z"
   },
   {
    "duration": 13,
    "start_time": "2022-05-05T11:32:17.753Z"
   },
   {
    "duration": 5,
    "start_time": "2022-05-05T11:32:17.767Z"
   },
   {
    "duration": 20,
    "start_time": "2022-05-05T11:32:17.808Z"
   },
   {
    "duration": 6,
    "start_time": "2022-05-05T11:32:17.830Z"
   },
   {
    "duration": 21,
    "start_time": "2022-05-05T11:32:17.838Z"
   },
   {
    "duration": 18,
    "start_time": "2022-05-05T11:32:17.861Z"
   },
   {
    "duration": 31,
    "start_time": "2022-05-05T11:32:17.880Z"
   },
   {
    "duration": 15,
    "start_time": "2022-05-05T11:32:17.912Z"
   },
   {
    "duration": 8,
    "start_time": "2022-05-05T11:32:17.928Z"
   },
   {
    "duration": 184,
    "start_time": "2022-05-05T11:32:17.938Z"
   },
   {
    "duration": 16,
    "start_time": "2022-05-05T11:32:18.125Z"
   },
   {
    "duration": 151,
    "start_time": "2022-05-05T11:32:18.143Z"
   },
   {
    "duration": 26,
    "start_time": "2022-05-05T11:32:18.295Z"
   }
  ],
  "kernelspec": {
   "display_name": "Python 3 (ipykernel)",
   "language": "python",
   "name": "python3"
  },
  "language_info": {
   "codemirror_mode": {
    "name": "ipython",
    "version": 3
   },
   "file_extension": ".py",
   "mimetype": "text/x-python",
   "name": "python",
   "nbconvert_exporter": "python",
   "pygments_lexer": "ipython3",
   "version": "3.9.7"
  },
  "toc": {
   "base_numbering": 1,
   "nav_menu": {},
   "number_sections": true,
   "sideBar": true,
   "skip_h1_title": true,
   "title_cell": "Table of Contents",
   "title_sidebar": "Contents",
   "toc_cell": false,
   "toc_position": {},
   "toc_section_display": true,
   "toc_window_display": true
  }
 },
 "nbformat": 4,
 "nbformat_minor": 5
}
