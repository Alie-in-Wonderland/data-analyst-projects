{
 "cells": [
  {
   "cell_type": "markdown",
   "id": "341c73bb",
   "metadata": {},
   "source": [
    "<img src=\"https://disk.yandex.ru/i/ZtczNRnIA_AGTg\" width=\"500\" height=\"500\">"
   ]
  },
  {
   "cell_type": "markdown",
   "id": "a938843e",
   "metadata": {},
   "source": []
  },
  {
   "cell_type": "markdown",
   "id": "b9f43430",
   "metadata": {},
   "source": [
    "<img src=\"https://disk.yandex.ru/i/ZtczNRnIA_AGTg.png?raw=1\">"
   ]
  },
  {
   "cell_type": "markdown",
   "id": "1014ff84",
   "metadata": {},
   "source": [
    "<img src=\"https://www.dropbox.com/s/название_файла.png?raw=1\">\n"
   ]
  },
  {
   "cell_type": "code",
   "execution_count": null,
   "id": "93883e55",
   "metadata": {},
   "outputs": [],
   "source": []
  }
 ],
 "metadata": {
  "kernelspec": {
   "display_name": "Python 3 (ipykernel)",
   "language": "python",
   "name": "python3"
  },
  "language_info": {
   "codemirror_mode": {
    "name": "ipython",
    "version": 3
   },
   "file_extension": ".py",
   "mimetype": "text/x-python",
   "name": "python",
   "nbconvert_exporter": "python",
   "pygments_lexer": "ipython3",
   "version": "3.9.7"
  },
  "toc": {
   "base_numbering": 1,
   "nav_menu": {},
   "number_sections": true,
   "sideBar": true,
   "skip_h1_title": false,
   "title_cell": "Table of Contents",
   "title_sidebar": "Contents",
   "toc_cell": false,
   "toc_position": {},
   "toc_section_display": true,
   "toc_window_display": false
  }
 },
 "nbformat": 4,
 "nbformat_minor": 5
}
